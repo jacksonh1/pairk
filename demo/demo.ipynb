{
 "cells": [
  {
   "cell_type": "markdown",
   "metadata": {},
   "source": [
    "Pairk - Pairwise k-mer alignment "
   ]
  },
  {
   "cell_type": "code",
   "execution_count": 15,
   "metadata": {},
   "outputs": [
    {
     "name": "stdout",
     "output_type": "stream",
     "text": [
      "The autoreload extension is already loaded. To reload it, use:\n",
      "  %reload_ext autoreload\n"
     ]
    }
   ],
   "source": [
    "import pairk\n",
    "%load_ext autoreload\n",
    "%autoreload 2"
   ]
  },
  {
   "cell_type": "markdown",
   "metadata": {},
   "source": [
    "# load an example dataset"
   ]
  },
  {
   "cell_type": "markdown",
   "metadata": {},
   "source": [
    "load an example alignment"
   ]
  },
  {
   "cell_type": "code",
   "execution_count": 16,
   "metadata": {},
   "outputs": [],
   "source": [
    "ex1 = pairk.example1"
   ]
  },
  {
   "cell_type": "markdown",
   "metadata": {},
   "source": [
    "This example is imported as an object but just contains: an MSA, the query id, positions of query idrs, and the IDR sequences from the MSA themselves."
   ]
  },
  {
   "cell_type": "code",
   "execution_count": 17,
   "metadata": {},
   "outputs": [
    {
     "name": "stdout",
     "output_type": "stream",
     "text": [
      "Alignment file: /Users/jackson/Dropbox (MIT)/work/07-SLiM_bioinformatics/11-pairk/pairk/data/example_alignment_9606_0_00294e-idraln-555_to_971-idr-440_to_665.fasta\n",
      "Query ID: 9606_0:00294e\n",
      "IDR start in MSA: 555\n",
      "IDR end in MSA: 971IDR start: 440\n",
      "IDR end: 665\n",
      "\n"
     ]
    }
   ],
   "source": [
    "print(ex1)"
   ]
  },
  {
   "cell_type": "markdown",
   "metadata": {},
   "source": [
    "For Pairk, you just need a set of IDR sequences in dictionary format.<br>\n",
    "\n",
    "Here I defined the IDRs via the query sequence IDR positions, extracted the relevant sequences from the MSA, and then unaligned them to get the homologous idrs. However, you can generate those IDRs in any way you like."
   ]
  },
  {
   "cell_type": "code",
   "execution_count": 5,
   "metadata": {},
   "outputs": [],
   "source": [
    "import pairk.backend.tools.sequence_utils as tools\n",
    "import pairk.examples\n",
    "faimporter = tools.FastaImporter(pairk.examples.example1_alignment_file)\n",
    "alignment = faimporter.import_as_alignment()\n",
    "idrs = tools.strip_dashes_from_sequences(list(alignment[:, 555:971]))\n",
    "idr_dict = {i.id: str(i.seq) for i in idrs}\n",
    "query_id = \"9606_0:00294e\""
   ]
  },
  {
   "cell_type": "markdown",
   "metadata": {},
   "source": [
    "# step 1: Pairk alignment"
   ]
  },
  {
   "cell_type": "markdown",
   "metadata": {},
   "source": [
    "## scoring matrix\n",
    "\n",
    "These methods use a scoring matrix to score the query k-mer to homolog k-mer matches."
   ]
  },
  {
   "cell_type": "markdown",
   "metadata": {},
   "source": [
    "### method - exhaustive scoring - slow and not recommended for general use"
   ]
  },
  {
   "cell_type": "markdown",
   "metadata": {},
   "source": [
    "The exhaustive scoring method actually scores all possible query k-mer to ortho k-mer matches. It's a brute force method that is generally slower than the needleman variant (see the next method). The results should actually be the same as the needleman method. I've included it in the `pairk` package in case people want to use the exhaustive method for custom analysis, such as including multiple high-scoring matches from each ortholog, etc."
   ]
  },
  {
   "cell_type": "markdown",
   "metadata": {},
   "source": [
    "all you need to run the method is:\n",
    "- the idr sequences in dictionary format (sequence id as key, sequence string as value)\n",
    "- the sequence id of the query sequence\n",
    "- the k-mer length to use for the alignment (k)\n",
    "- the scoring matrix to use for the alignment (default in EDSSMat50)"
   ]
  },
  {
   "cell_type": "code",
   "execution_count": 24,
   "metadata": {},
   "outputs": [],
   "source": [
    "aln_results = pairk.pairk_alignment(\n",
    "    idr_dict_in=ex1.idr_dict, \n",
    "    query_id=ex1.query_id,\n",
    "    k=5, \n",
    "    matrix_name=\"EDSSMat50\"\n",
    ")"
   ]
  },
  {
   "cell_type": "markdown",
   "metadata": {},
   "source": [
    "The results are returned as a `PairkAln` object."
   ]
  },
  {
   "cell_type": "code",
   "execution_count": 35,
   "metadata": {},
   "outputs": [
    {
     "data": {
      "text/plain": [
       "pairk.backend.tools.pairwise_tools.PairkAln"
      ]
     },
     "execution_count": 35,
     "metadata": {},
     "output_type": "execute_result"
    }
   ],
   "source": [
    "type(aln_results)"
   ]
  },
  {
   "cell_type": "code",
   "execution_count": 37,
   "metadata": {},
   "outputs": [
    {
     "name": "stdout",
     "output_type": "stream",
     "text": [
      "\u001b[0;31mInit signature:\u001b[0m\n",
      "\u001b[0mpairk\u001b[0m\u001b[0;34m.\u001b[0m\u001b[0mPairkAln\u001b[0m\u001b[0;34m(\u001b[0m\u001b[0;34m\u001b[0m\n",
      "\u001b[0;34m\u001b[0m    \u001b[0morthokmer_df\u001b[0m\u001b[0;34m:\u001b[0m \u001b[0mpandas\u001b[0m\u001b[0;34m.\u001b[0m\u001b[0mcore\u001b[0m\u001b[0;34m.\u001b[0m\u001b[0mframe\u001b[0m\u001b[0;34m.\u001b[0m\u001b[0mDataFrame\u001b[0m\u001b[0;34m,\u001b[0m\u001b[0;34m\u001b[0m\n",
      "\u001b[0;34m\u001b[0m    \u001b[0mpos_df\u001b[0m\u001b[0;34m:\u001b[0m \u001b[0mpandas\u001b[0m\u001b[0;34m.\u001b[0m\u001b[0mcore\u001b[0m\u001b[0;34m.\u001b[0m\u001b[0mframe\u001b[0m\u001b[0;34m.\u001b[0m\u001b[0mDataFrame\u001b[0m\u001b[0;34m,\u001b[0m\u001b[0;34m\u001b[0m\n",
      "\u001b[0;34m\u001b[0m    \u001b[0mscore_df\u001b[0m\u001b[0;34m:\u001b[0m \u001b[0mpandas\u001b[0m\u001b[0;34m.\u001b[0m\u001b[0mcore\u001b[0m\u001b[0;34m.\u001b[0m\u001b[0mframe\u001b[0m\u001b[0;34m.\u001b[0m\u001b[0mDataFrame\u001b[0m \u001b[0;34m|\u001b[0m \u001b[0;32mNone\u001b[0m \u001b[0;34m=\u001b[0m \u001b[0;32mNone\u001b[0m\u001b[0;34m,\u001b[0m\u001b[0;34m\u001b[0m\n",
      "\u001b[0;34m\u001b[0m    \u001b[0mrbm_df\u001b[0m\u001b[0;34m:\u001b[0m \u001b[0mpandas\u001b[0m\u001b[0;34m.\u001b[0m\u001b[0mcore\u001b[0m\u001b[0;34m.\u001b[0m\u001b[0mframe\u001b[0m\u001b[0;34m.\u001b[0m\u001b[0mDataFrame\u001b[0m \u001b[0;34m|\u001b[0m \u001b[0;32mNone\u001b[0m \u001b[0;34m=\u001b[0m \u001b[0;32mNone\u001b[0m\u001b[0;34m,\u001b[0m\u001b[0;34m\u001b[0m\n",
      "\u001b[0;34m\u001b[0m\u001b[0;34m)\u001b[0m\u001b[0;34m\u001b[0m\u001b[0;34m\u001b[0m\u001b[0m\n",
      "\u001b[0;31mDocstring:\u001b[0m     \n",
      "A class to store the results of the pairwise alignment.\n",
      "\n",
      "The primary data is stored in pandas dataframes. All dataframes have the\n",
      "same structure. One column is the query k-mer sequence\n",
      "('query_kmer'). The other columns are named as the ortholog sequence\n",
      "ids. The dataframe indexes are the query k-mer start position in the\n",
      "query sequence.\n",
      "\n",
      "Attributes\n",
      "----------\n",
      "orthokmer_matrix : pd.DataFrame\n",
      "    the best scoring k-mer from each ortholog for each query k-mer.\n",
      "position_matrix : pd.DataFrame\n",
      "    the start position of the best scoring k-mer from each ortholog for\n",
      "    each query k-mer.\n",
      "score_matrix : pd.DataFrame | None\n",
      "    the alignment scores for each k-mer in the query sequence against\n",
      "    the corresponding best matching ortholog k-mer.\n",
      "rbm_matrix : pd.DataFrame | None\n",
      "    a boolean dataframe indicating whether the query k-mer is the\n",
      "    reciprocal best scoring k-mer to the ortholog k-mer. (This is currently\n",
      "    unused in the pairk package)\n",
      "query_kmers : list[str]\n",
      "    the list of query k-mers that were aligned.\n",
      "query_sequence : str\n",
      "    the full query sequence that was originally split into k-mers and aligned.\n",
      "k : int\n",
      "    the k-mer size used for the alignment.\n",
      "\u001b[0;31mFile:\u001b[0m           ~/Dropbox (MIT)/work/07-SLiM_bioinformatics/11-pairk/pairk/backend/tools/pairwise_tools.py\n",
      "\u001b[0;31mType:\u001b[0m           type\n",
      "\u001b[0;31mSubclasses:\u001b[0m     "
     ]
    }
   ],
   "source": [
    "pairk.PairkAln?"
   ]
  },
  {
   "cell_type": "markdown",
   "metadata": {},
   "source": [
    "The results of the pairwise alignments are stored in pandas DataFrames, which can be directly accessed via the `PairkAln` object."
   ]
  },
  {
   "cell_type": "code",
   "execution_count": 44,
   "metadata": {},
   "outputs": [
    {
     "data": {
      "text/html": [
       "<div>\n",
       "<style scoped>\n",
       "    .dataframe tbody tr th:only-of-type {\n",
       "        vertical-align: middle;\n",
       "    }\n",
       "\n",
       "    .dataframe tbody tr th {\n",
       "        vertical-align: top;\n",
       "    }\n",
       "\n",
       "    .dataframe thead th {\n",
       "        text-align: right;\n",
       "    }\n",
       "</style>\n",
       "<table border=\"1\" class=\"dataframe\">\n",
       "  <thead>\n",
       "    <tr style=\"text-align: right;\">\n",
       "      <th></th>\n",
       "      <th>query_kmer</th>\n",
       "      <th>9793_0:005123</th>\n",
       "      <th>1706337_0:000fc7</th>\n",
       "      <th>51337_0:001b5a</th>\n",
       "      <th>9568_0:004ae1</th>\n",
       "      <th>43346_0:004190</th>\n",
       "      <th>885580_0:00488c</th>\n",
       "      <th>10181_0:00305d</th>\n",
       "      <th>1415580_0:000900</th>\n",
       "      <th>61221_0:00105a</th>\n",
       "      <th>...</th>\n",
       "      <th>30732_0:0046dd</th>\n",
       "      <th>241271_0:0048e4</th>\n",
       "      <th>8103_0:0045e4</th>\n",
       "      <th>56723_0:00152f</th>\n",
       "      <th>210632_0:004c0c</th>\n",
       "      <th>31033_0:00264e</th>\n",
       "      <th>63155_0:004c86</th>\n",
       "      <th>7994_0:004d71</th>\n",
       "      <th>109280_0:00369f</th>\n",
       "      <th>150288_0:004e5a</th>\n",
       "    </tr>\n",
       "  </thead>\n",
       "  <tbody>\n",
       "    <tr>\n",
       "      <th>0</th>\n",
       "      <td>TNLGT</td>\n",
       "      <td>TNVGT</td>\n",
       "      <td>TNLGT</td>\n",
       "      <td>TNLGT</td>\n",
       "      <td>TNLGT</td>\n",
       "      <td>TNLGT</td>\n",
       "      <td>TNLGT</td>\n",
       "      <td>TNLGT</td>\n",
       "      <td>TSLHS</td>\n",
       "      <td>VAVGT</td>\n",
       "      <td>...</td>\n",
       "      <td>TNRST</td>\n",
       "      <td>RNLPT</td>\n",
       "      <td>TNRST</td>\n",
       "      <td>TNRST</td>\n",
       "      <td>ANRST</td>\n",
       "      <td>TGAGA</td>\n",
       "      <td>TNRST</td>\n",
       "      <td>SNTST</td>\n",
       "      <td>ANFGS</td>\n",
       "      <td>DNLNS</td>\n",
       "    </tr>\n",
       "    <tr>\n",
       "      <th>1</th>\n",
       "      <td>NLGTV</td>\n",
       "      <td>NVGTG</td>\n",
       "      <td>NLGTV</td>\n",
       "      <td>NLGTV</td>\n",
       "      <td>NLGTV</td>\n",
       "      <td>NLGTV</td>\n",
       "      <td>NLGTV</td>\n",
       "      <td>NLGTV</td>\n",
       "      <td>NLSKV</td>\n",
       "      <td>SIVAV</td>\n",
       "      <td>...</td>\n",
       "      <td>SFGGV</td>\n",
       "      <td>NLPTN</td>\n",
       "      <td>DFGHV</td>\n",
       "      <td>DFGNV</td>\n",
       "      <td>NLPPP</td>\n",
       "      <td>ASGSV</td>\n",
       "      <td>SFGGV</td>\n",
       "      <td>NTSTP</td>\n",
       "      <td>QLPTV</td>\n",
       "      <td>NLNSQ</td>\n",
       "    </tr>\n",
       "    <tr>\n",
       "      <th>2</th>\n",
       "      <td>LGTVN</td>\n",
       "      <td>VGTGN</td>\n",
       "      <td>LGTVN</td>\n",
       "      <td>LGTVN</td>\n",
       "      <td>LGTVN</td>\n",
       "      <td>LGTVN</td>\n",
       "      <td>LGTVN</td>\n",
       "      <td>LGTVS</td>\n",
       "      <td>LSKVD</td>\n",
       "      <td>IVAVG</td>\n",
       "      <td>...</td>\n",
       "      <td>FGGVD</td>\n",
       "      <td>TGSVK</td>\n",
       "      <td>PGQAN</td>\n",
       "      <td>FGNVP</td>\n",
       "      <td>FGGMD</td>\n",
       "      <td>MKAMN</td>\n",
       "      <td>FGGVG</td>\n",
       "      <td>MLAMN</td>\n",
       "      <td>LPTVH</td>\n",
       "      <td>SDNLN</td>\n",
       "    </tr>\n",
       "    <tr>\n",
       "      <th>3</th>\n",
       "      <td>GTVNA</td>\n",
       "      <td>GTGNA</td>\n",
       "      <td>GTVNA</td>\n",
       "      <td>GTVNT</td>\n",
       "      <td>GTVNA</td>\n",
       "      <td>GTVNA</td>\n",
       "      <td>GTVNT</td>\n",
       "      <td>GTVST</td>\n",
       "      <td>GAVQA</td>\n",
       "      <td>GSTHA</td>\n",
       "      <td>...</td>\n",
       "      <td>PTVKA</td>\n",
       "      <td>GTIPP</td>\n",
       "      <td>GQANG</td>\n",
       "      <td>PTIKA</td>\n",
       "      <td>PTIKA</td>\n",
       "      <td>TTIKA</td>\n",
       "      <td>PTVKA</td>\n",
       "      <td>STSNT</td>\n",
       "      <td>PTVHS</td>\n",
       "      <td>DNLNS</td>\n",
       "    </tr>\n",
       "    <tr>\n",
       "      <th>4</th>\n",
       "      <td>TVNAA</td>\n",
       "      <td>TGNAA</td>\n",
       "      <td>TVNAA</td>\n",
       "      <td>TVNTA</td>\n",
       "      <td>TVNAA</td>\n",
       "      <td>TVNAV</td>\n",
       "      <td>TVNTA</td>\n",
       "      <td>TVSTA</td>\n",
       "      <td>NVNAN</td>\n",
       "      <td>AVSAG</td>\n",
       "      <td>...</td>\n",
       "      <td>TVKAK</td>\n",
       "      <td>PVNSF</td>\n",
       "      <td>PLNAL</td>\n",
       "      <td>TAAAA</td>\n",
       "      <td>TIKAK</td>\n",
       "      <td>TIKAS</td>\n",
       "      <td>TVKAK</td>\n",
       "      <td>TSNTS</td>\n",
       "      <td>TTAAA</td>\n",
       "      <td>NLNSQ</td>\n",
       "    </tr>\n",
       "  </tbody>\n",
       "</table>\n",
       "<p>5 rows × 23 columns</p>\n",
       "</div>"
      ],
      "text/plain": [
       "  query_kmer 9793_0:005123 1706337_0:000fc7 51337_0:001b5a 9568_0:004ae1  \\\n",
       "0      TNLGT         TNVGT            TNLGT          TNLGT         TNLGT   \n",
       "1      NLGTV         NVGTG            NLGTV          NLGTV         NLGTV   \n",
       "2      LGTVN         VGTGN            LGTVN          LGTVN         LGTVN   \n",
       "3      GTVNA         GTGNA            GTVNA          GTVNT         GTVNA   \n",
       "4      TVNAA         TGNAA            TVNAA          TVNTA         TVNAA   \n",
       "\n",
       "  43346_0:004190 885580_0:00488c 10181_0:00305d 1415580_0:000900  \\\n",
       "0          TNLGT           TNLGT          TNLGT            TSLHS   \n",
       "1          NLGTV           NLGTV          NLGTV            NLSKV   \n",
       "2          LGTVN           LGTVN          LGTVS            LSKVD   \n",
       "3          GTVNA           GTVNT          GTVST            GAVQA   \n",
       "4          TVNAV           TVNTA          TVSTA            NVNAN   \n",
       "\n",
       "  61221_0:00105a  ... 30732_0:0046dd 241271_0:0048e4 8103_0:0045e4  \\\n",
       "0          VAVGT  ...          TNRST           RNLPT         TNRST   \n",
       "1          SIVAV  ...          SFGGV           NLPTN         DFGHV   \n",
       "2          IVAVG  ...          FGGVD           TGSVK         PGQAN   \n",
       "3          GSTHA  ...          PTVKA           GTIPP         GQANG   \n",
       "4          AVSAG  ...          TVKAK           PVNSF         PLNAL   \n",
       "\n",
       "  56723_0:00152f 210632_0:004c0c 31033_0:00264e 63155_0:004c86 7994_0:004d71  \\\n",
       "0          TNRST           ANRST          TGAGA          TNRST         SNTST   \n",
       "1          DFGNV           NLPPP          ASGSV          SFGGV         NTSTP   \n",
       "2          FGNVP           FGGMD          MKAMN          FGGVG         MLAMN   \n",
       "3          PTIKA           PTIKA          TTIKA          PTVKA         STSNT   \n",
       "4          TAAAA           TIKAK          TIKAS          TVKAK         TSNTS   \n",
       "\n",
       "  109280_0:00369f 150288_0:004e5a  \n",
       "0           ANFGS           DNLNS  \n",
       "1           QLPTV           NLNSQ  \n",
       "2           LPTVH           SDNLN  \n",
       "3           PTVHS           DNLNS  \n",
       "4           TTAAA           NLNSQ  \n",
       "\n",
       "[5 rows x 23 columns]"
      ]
     },
     "execution_count": 44,
     "metadata": {},
     "output_type": "execute_result"
    }
   ],
   "source": [
    "aln_results.orthokmer_matrix.head()"
   ]
  },
  {
   "cell_type": "code",
   "execution_count": 45,
   "metadata": {},
   "outputs": [
    {
     "data": {
      "text/plain": [
       "query_kmer          NLGTV\n",
       "9793_0:005123       NVGTG\n",
       "1706337_0:000fc7    NLGTV\n",
       "51337_0:001b5a      NLGTV\n",
       "9568_0:004ae1       NLGTV\n",
       "43346_0:004190      NLGTV\n",
       "885580_0:00488c     NLGTV\n",
       "10181_0:00305d      NLGTV\n",
       "1415580_0:000900    NLSKV\n",
       "61221_0:00105a      SIVAV\n",
       "7897_0:0033c5       NFAKV\n",
       "8407_0:002bff       NVANV\n",
       "173247_0:004550     HFGGM\n",
       "30732_0:0046dd      SFGGV\n",
       "241271_0:0048e4     NLPTN\n",
       "8103_0:0045e4       DFGHV\n",
       "56723_0:00152f      DFGNV\n",
       "210632_0:004c0c     NLPPP\n",
       "31033_0:00264e      ASGSV\n",
       "63155_0:004c86      SFGGV\n",
       "7994_0:004d71       NTSTP\n",
       "109280_0:00369f     QLPTV\n",
       "150288_0:004e5a     NLNSQ\n",
       "Name: 1, dtype: object"
      ]
     },
     "execution_count": 45,
     "metadata": {},
     "output_type": "execute_result"
    }
   ],
   "source": [
    "aln_results.orthokmer_matrix.loc[1]"
   ]
  },
  {
   "cell_type": "code",
   "execution_count": 46,
   "metadata": {},
   "outputs": [
    {
     "data": {
      "text/html": [
       "<div>\n",
       "<style scoped>\n",
       "    .dataframe tbody tr th:only-of-type {\n",
       "        vertical-align: middle;\n",
       "    }\n",
       "\n",
       "    .dataframe tbody tr th {\n",
       "        vertical-align: top;\n",
       "    }\n",
       "\n",
       "    .dataframe thead th {\n",
       "        text-align: right;\n",
       "    }\n",
       "</style>\n",
       "<table border=\"1\" class=\"dataframe\">\n",
       "  <thead>\n",
       "    <tr style=\"text-align: right;\">\n",
       "      <th></th>\n",
       "      <th>query_kmer</th>\n",
       "      <th>9793_0:005123</th>\n",
       "      <th>1706337_0:000fc7</th>\n",
       "      <th>51337_0:001b5a</th>\n",
       "      <th>9568_0:004ae1</th>\n",
       "      <th>43346_0:004190</th>\n",
       "      <th>885580_0:00488c</th>\n",
       "      <th>10181_0:00305d</th>\n",
       "      <th>1415580_0:000900</th>\n",
       "      <th>61221_0:00105a</th>\n",
       "      <th>...</th>\n",
       "      <th>30732_0:0046dd</th>\n",
       "      <th>241271_0:0048e4</th>\n",
       "      <th>8103_0:0045e4</th>\n",
       "      <th>56723_0:00152f</th>\n",
       "      <th>210632_0:004c0c</th>\n",
       "      <th>31033_0:00264e</th>\n",
       "      <th>63155_0:004c86</th>\n",
       "      <th>7994_0:004d71</th>\n",
       "      <th>109280_0:00369f</th>\n",
       "      <th>150288_0:004e5a</th>\n",
       "    </tr>\n",
       "  </thead>\n",
       "  <tbody>\n",
       "    <tr>\n",
       "      <th>0</th>\n",
       "      <td>TNLGT</td>\n",
       "      <td>22.0</td>\n",
       "      <td>28.0</td>\n",
       "      <td>28.0</td>\n",
       "      <td>28.0</td>\n",
       "      <td>28.0</td>\n",
       "      <td>28.0</td>\n",
       "      <td>28.0</td>\n",
       "      <td>10.0</td>\n",
       "      <td>9.0</td>\n",
       "      <td>...</td>\n",
       "      <td>13.0</td>\n",
       "      <td>12.0</td>\n",
       "      <td>13.0</td>\n",
       "      <td>13.0</td>\n",
       "      <td>9.0</td>\n",
       "      <td>8.0</td>\n",
       "      <td>13.0</td>\n",
       "      <td>8.0</td>\n",
       "      <td>14.0</td>\n",
       "      <td>9.0</td>\n",
       "    </tr>\n",
       "    <tr>\n",
       "      <th>1</th>\n",
       "      <td>NLGTV</td>\n",
       "      <td>16.0</td>\n",
       "      <td>29.0</td>\n",
       "      <td>29.0</td>\n",
       "      <td>29.0</td>\n",
       "      <td>29.0</td>\n",
       "      <td>29.0</td>\n",
       "      <td>29.0</td>\n",
       "      <td>16.0</td>\n",
       "      <td>8.0</td>\n",
       "      <td>...</td>\n",
       "      <td>11.0</td>\n",
       "      <td>13.0</td>\n",
       "      <td>11.0</td>\n",
       "      <td>13.0</td>\n",
       "      <td>7.0</td>\n",
       "      <td>7.0</td>\n",
       "      <td>11.0</td>\n",
       "      <td>6.0</td>\n",
       "      <td>14.0</td>\n",
       "      <td>10.0</td>\n",
       "    </tr>\n",
       "    <tr>\n",
       "      <th>2</th>\n",
       "      <td>LGTVN</td>\n",
       "      <td>16.0</td>\n",
       "      <td>29.0</td>\n",
       "      <td>29.0</td>\n",
       "      <td>29.0</td>\n",
       "      <td>29.0</td>\n",
       "      <td>29.0</td>\n",
       "      <td>23.0</td>\n",
       "      <td>10.0</td>\n",
       "      <td>7.0</td>\n",
       "      <td>...</td>\n",
       "      <td>11.0</td>\n",
       "      <td>8.0</td>\n",
       "      <td>9.0</td>\n",
       "      <td>10.0</td>\n",
       "      <td>7.0</td>\n",
       "      <td>8.0</td>\n",
       "      <td>10.0</td>\n",
       "      <td>8.0</td>\n",
       "      <td>16.0</td>\n",
       "      <td>4.0</td>\n",
       "    </tr>\n",
       "    <tr>\n",
       "      <th>3</th>\n",
       "      <td>GTVNA</td>\n",
       "      <td>19.0</td>\n",
       "      <td>26.0</td>\n",
       "      <td>23.0</td>\n",
       "      <td>26.0</td>\n",
       "      <td>26.0</td>\n",
       "      <td>23.0</td>\n",
       "      <td>17.0</td>\n",
       "      <td>15.0</td>\n",
       "      <td>10.0</td>\n",
       "      <td>...</td>\n",
       "      <td>11.0</td>\n",
       "      <td>9.0</td>\n",
       "      <td>10.0</td>\n",
       "      <td>8.0</td>\n",
       "      <td>8.0</td>\n",
       "      <td>9.0</td>\n",
       "      <td>11.0</td>\n",
       "      <td>9.0</td>\n",
       "      <td>9.0</td>\n",
       "      <td>6.0</td>\n",
       "    </tr>\n",
       "    <tr>\n",
       "      <th>4</th>\n",
       "      <td>TVNAA</td>\n",
       "      <td>18.0</td>\n",
       "      <td>25.0</td>\n",
       "      <td>22.0</td>\n",
       "      <td>25.0</td>\n",
       "      <td>22.0</td>\n",
       "      <td>22.0</td>\n",
       "      <td>16.0</td>\n",
       "      <td>14.0</td>\n",
       "      <td>11.0</td>\n",
       "      <td>...</td>\n",
       "      <td>11.0</td>\n",
       "      <td>9.0</td>\n",
       "      <td>8.0</td>\n",
       "      <td>12.0</td>\n",
       "      <td>8.0</td>\n",
       "      <td>11.0</td>\n",
       "      <td>11.0</td>\n",
       "      <td>10.0</td>\n",
       "      <td>11.0</td>\n",
       "      <td>5.0</td>\n",
       "    </tr>\n",
       "  </tbody>\n",
       "</table>\n",
       "<p>5 rows × 23 columns</p>\n",
       "</div>"
      ],
      "text/plain": [
       "  query_kmer 9793_0:005123 1706337_0:000fc7 51337_0:001b5a 9568_0:004ae1  \\\n",
       "0      TNLGT          22.0             28.0           28.0          28.0   \n",
       "1      NLGTV          16.0             29.0           29.0          29.0   \n",
       "2      LGTVN          16.0             29.0           29.0          29.0   \n",
       "3      GTVNA          19.0             26.0           23.0          26.0   \n",
       "4      TVNAA          18.0             25.0           22.0          25.0   \n",
       "\n",
       "  43346_0:004190 885580_0:00488c 10181_0:00305d 1415580_0:000900  \\\n",
       "0           28.0            28.0           28.0             10.0   \n",
       "1           29.0            29.0           29.0             16.0   \n",
       "2           29.0            29.0           23.0             10.0   \n",
       "3           26.0            23.0           17.0             15.0   \n",
       "4           22.0            22.0           16.0             14.0   \n",
       "\n",
       "  61221_0:00105a  ... 30732_0:0046dd 241271_0:0048e4 8103_0:0045e4  \\\n",
       "0            9.0  ...           13.0            12.0          13.0   \n",
       "1            8.0  ...           11.0            13.0          11.0   \n",
       "2            7.0  ...           11.0             8.0           9.0   \n",
       "3           10.0  ...           11.0             9.0          10.0   \n",
       "4           11.0  ...           11.0             9.0           8.0   \n",
       "\n",
       "  56723_0:00152f 210632_0:004c0c 31033_0:00264e 63155_0:004c86 7994_0:004d71  \\\n",
       "0           13.0             9.0            8.0           13.0           8.0   \n",
       "1           13.0             7.0            7.0           11.0           6.0   \n",
       "2           10.0             7.0            8.0           10.0           8.0   \n",
       "3            8.0             8.0            9.0           11.0           9.0   \n",
       "4           12.0             8.0           11.0           11.0          10.0   \n",
       "\n",
       "  109280_0:00369f 150288_0:004e5a  \n",
       "0            14.0             9.0  \n",
       "1            14.0            10.0  \n",
       "2            16.0             4.0  \n",
       "3             9.0             6.0  \n",
       "4            11.0             5.0  \n",
       "\n",
       "[5 rows x 23 columns]"
      ]
     },
     "execution_count": 46,
     "metadata": {},
     "output_type": "execute_result"
    }
   ],
   "source": [
    "aln_results.score_matrix.head()"
   ]
  },
  {
   "cell_type": "markdown",
   "metadata": {},
   "source": [
    "You can get the \"pseudo-alignment\" of any query k-mer via the `get_pseudo_alignment` method. <br>This method returns a list of the best-scoring ortholog k-mers for a query k-mer. The query k-mer is specified by its position in the query sequence (0-based). \n",
    "<br>The returned list includes the query k-mer sequence"
   ]
  },
  {
   "cell_type": "code",
   "execution_count": 40,
   "metadata": {},
   "outputs": [
    {
     "data": {
      "text/plain": [
       "['NLGTV',\n",
       " 'NVGTG',\n",
       " 'NLGTV',\n",
       " 'NLGTV',\n",
       " 'NLGTV',\n",
       " 'NLGTV',\n",
       " 'NLGTV',\n",
       " 'NLGTV',\n",
       " 'NLSKV',\n",
       " 'SIVAV',\n",
       " 'NFAKV',\n",
       " 'NVANV',\n",
       " 'HFGGM',\n",
       " 'SFGGV',\n",
       " 'NLPTN',\n",
       " 'DFGHV',\n",
       " 'DFGNV',\n",
       " 'NLPPP',\n",
       " 'ASGSV',\n",
       " 'SFGGV',\n",
       " 'NTSTP',\n",
       " 'QLPTV',\n",
       " 'NLNSQ']"
      ]
     },
     "execution_count": 40,
     "metadata": {},
     "output_type": "execute_result"
    }
   ],
   "source": [
    "aln_results.get_pseudo_alignment(1)"
   ]
  },
  {
   "cell_type": "markdown",
   "metadata": {},
   "source": [
    "you can search for a specific kmer to get its positions. You can then use the positions to query the matrices."
   ]
  },
  {
   "cell_type": "code",
   "execution_count": 41,
   "metadata": {},
   "outputs": [
    {
     "data": {
      "text/plain": [
       "[75, 113, 127, 157]"
      ]
     },
     "execution_count": 41,
     "metadata": {},
     "output_type": "execute_result"
    }
   ],
   "source": [
    "aln_results.find_query_kmer_positions('LPPPP')"
   ]
  },
  {
   "cell_type": "code",
   "execution_count": 29,
   "metadata": {},
   "outputs": [
    {
     "data": {
      "text/plain": [
       "['LPPPP',\n",
       " 'LPPPP',\n",
       " 'LPPPP',\n",
       " 'LPPPP',\n",
       " 'PPMPP',\n",
       " 'LPPPP',\n",
       " 'LPDRP',\n",
       " 'APSPP',\n",
       " 'LPPPP',\n",
       " 'LPPPP',\n",
       " 'LPPPP',\n",
       " 'LPPPP',\n",
       " 'LPPPP',\n",
       " 'LPPPP',\n",
       " 'LPPPP',\n",
       " 'LPPPP',\n",
       " 'LPPPP',\n",
       " 'LPPPP',\n",
       " 'LPPPP',\n",
       " 'LPPPP',\n",
       " 'LPPPP',\n",
       " 'LPPPP',\n",
       " 'IPPPP']"
      ]
     },
     "execution_count": 29,
     "metadata": {},
     "output_type": "execute_result"
    }
   ],
   "source": [
    "aln_results.get_pseudo_alignment(75)"
   ]
  },
  {
   "cell_type": "code",
   "execution_count": 48,
   "metadata": {},
   "outputs": [
    {
     "data": {
      "text/html": [
       "<div>\n",
       "<style scoped>\n",
       "    .dataframe tbody tr th:only-of-type {\n",
       "        vertical-align: middle;\n",
       "    }\n",
       "\n",
       "    .dataframe tbody tr th {\n",
       "        vertical-align: top;\n",
       "    }\n",
       "\n",
       "    .dataframe thead th {\n",
       "        text-align: right;\n",
       "    }\n",
       "</style>\n",
       "<table border=\"1\" class=\"dataframe\">\n",
       "  <thead>\n",
       "    <tr style=\"text-align: right;\">\n",
       "      <th></th>\n",
       "      <th>75</th>\n",
       "      <th>113</th>\n",
       "      <th>127</th>\n",
       "      <th>157</th>\n",
       "    </tr>\n",
       "  </thead>\n",
       "  <tbody>\n",
       "    <tr>\n",
       "      <th>query_kmer</th>\n",
       "      <td>LPPPP</td>\n",
       "      <td>LPPPP</td>\n",
       "      <td>LPPPP</td>\n",
       "      <td>LPPPP</td>\n",
       "    </tr>\n",
       "    <tr>\n",
       "      <th>9793_0:005123</th>\n",
       "      <td>LPPPP</td>\n",
       "      <td>LPPPP</td>\n",
       "      <td>LPPPP</td>\n",
       "      <td>LPPPP</td>\n",
       "    </tr>\n",
       "    <tr>\n",
       "      <th>1706337_0:000fc7</th>\n",
       "      <td>LPPPP</td>\n",
       "      <td>LPPPP</td>\n",
       "      <td>LPPPP</td>\n",
       "      <td>LPPPP</td>\n",
       "    </tr>\n",
       "    <tr>\n",
       "      <th>51337_0:001b5a</th>\n",
       "      <td>LPPPP</td>\n",
       "      <td>LPPPP</td>\n",
       "      <td>LPPPP</td>\n",
       "      <td>LPPPP</td>\n",
       "    </tr>\n",
       "    <tr>\n",
       "      <th>9568_0:004ae1</th>\n",
       "      <td>PPMPP</td>\n",
       "      <td>PPMPP</td>\n",
       "      <td>PPMPP</td>\n",
       "      <td>PPMPP</td>\n",
       "    </tr>\n",
       "    <tr>\n",
       "      <th>43346_0:004190</th>\n",
       "      <td>LPPPP</td>\n",
       "      <td>LPPPP</td>\n",
       "      <td>LPPPP</td>\n",
       "      <td>LPPPP</td>\n",
       "    </tr>\n",
       "    <tr>\n",
       "      <th>885580_0:00488c</th>\n",
       "      <td>LPDRP</td>\n",
       "      <td>LPDRP</td>\n",
       "      <td>LPDRP</td>\n",
       "      <td>LPDRP</td>\n",
       "    </tr>\n",
       "    <tr>\n",
       "      <th>10181_0:00305d</th>\n",
       "      <td>APSPP</td>\n",
       "      <td>APSPP</td>\n",
       "      <td>APSPP</td>\n",
       "      <td>APSPP</td>\n",
       "    </tr>\n",
       "    <tr>\n",
       "      <th>1415580_0:000900</th>\n",
       "      <td>LPPPP</td>\n",
       "      <td>LPPPP</td>\n",
       "      <td>LPPPP</td>\n",
       "      <td>LPPPP</td>\n",
       "    </tr>\n",
       "    <tr>\n",
       "      <th>61221_0:00105a</th>\n",
       "      <td>LPPPP</td>\n",
       "      <td>LPPPP</td>\n",
       "      <td>LPPPP</td>\n",
       "      <td>LPPPP</td>\n",
       "    </tr>\n",
       "    <tr>\n",
       "      <th>7897_0:0033c5</th>\n",
       "      <td>LPPPP</td>\n",
       "      <td>LPPPP</td>\n",
       "      <td>LPPPP</td>\n",
       "      <td>LPPPP</td>\n",
       "    </tr>\n",
       "    <tr>\n",
       "      <th>8407_0:002bff</th>\n",
       "      <td>LPPPP</td>\n",
       "      <td>LPPPP</td>\n",
       "      <td>LPPPP</td>\n",
       "      <td>LPPPP</td>\n",
       "    </tr>\n",
       "    <tr>\n",
       "      <th>173247_0:004550</th>\n",
       "      <td>LPPPP</td>\n",
       "      <td>LPPPP</td>\n",
       "      <td>LPPPP</td>\n",
       "      <td>LPPPP</td>\n",
       "    </tr>\n",
       "    <tr>\n",
       "      <th>30732_0:0046dd</th>\n",
       "      <td>LPPPP</td>\n",
       "      <td>LPPPP</td>\n",
       "      <td>LPPPP</td>\n",
       "      <td>LPPPP</td>\n",
       "    </tr>\n",
       "    <tr>\n",
       "      <th>241271_0:0048e4</th>\n",
       "      <td>LPPPP</td>\n",
       "      <td>LPPPP</td>\n",
       "      <td>LPPPP</td>\n",
       "      <td>LPPPP</td>\n",
       "    </tr>\n",
       "    <tr>\n",
       "      <th>8103_0:0045e4</th>\n",
       "      <td>LPPPP</td>\n",
       "      <td>LPPPP</td>\n",
       "      <td>LPPPP</td>\n",
       "      <td>LPPPP</td>\n",
       "    </tr>\n",
       "    <tr>\n",
       "      <th>56723_0:00152f</th>\n",
       "      <td>LPPPP</td>\n",
       "      <td>LPPPP</td>\n",
       "      <td>LPPPP</td>\n",
       "      <td>LPPPP</td>\n",
       "    </tr>\n",
       "    <tr>\n",
       "      <th>210632_0:004c0c</th>\n",
       "      <td>LPPPP</td>\n",
       "      <td>LPPPP</td>\n",
       "      <td>LPPPP</td>\n",
       "      <td>LPPPP</td>\n",
       "    </tr>\n",
       "    <tr>\n",
       "      <th>31033_0:00264e</th>\n",
       "      <td>LPPPP</td>\n",
       "      <td>LPPPP</td>\n",
       "      <td>LPPPP</td>\n",
       "      <td>LPPPP</td>\n",
       "    </tr>\n",
       "    <tr>\n",
       "      <th>63155_0:004c86</th>\n",
       "      <td>LPPPP</td>\n",
       "      <td>LPPPP</td>\n",
       "      <td>LPPPP</td>\n",
       "      <td>LPPPP</td>\n",
       "    </tr>\n",
       "    <tr>\n",
       "      <th>7994_0:004d71</th>\n",
       "      <td>LPPPP</td>\n",
       "      <td>LPPPP</td>\n",
       "      <td>LPPPP</td>\n",
       "      <td>LPPPP</td>\n",
       "    </tr>\n",
       "    <tr>\n",
       "      <th>109280_0:00369f</th>\n",
       "      <td>LPPPP</td>\n",
       "      <td>LPPPP</td>\n",
       "      <td>LPPPP</td>\n",
       "      <td>LPPPP</td>\n",
       "    </tr>\n",
       "    <tr>\n",
       "      <th>150288_0:004e5a</th>\n",
       "      <td>IPPPP</td>\n",
       "      <td>IPPPP</td>\n",
       "      <td>IPPPP</td>\n",
       "      <td>IPPPP</td>\n",
       "    </tr>\n",
       "  </tbody>\n",
       "</table>\n",
       "</div>"
      ],
      "text/plain": [
       "                    75     113    127    157\n",
       "query_kmer        LPPPP  LPPPP  LPPPP  LPPPP\n",
       "9793_0:005123     LPPPP  LPPPP  LPPPP  LPPPP\n",
       "1706337_0:000fc7  LPPPP  LPPPP  LPPPP  LPPPP\n",
       "51337_0:001b5a    LPPPP  LPPPP  LPPPP  LPPPP\n",
       "9568_0:004ae1     PPMPP  PPMPP  PPMPP  PPMPP\n",
       "43346_0:004190    LPPPP  LPPPP  LPPPP  LPPPP\n",
       "885580_0:00488c   LPDRP  LPDRP  LPDRP  LPDRP\n",
       "10181_0:00305d    APSPP  APSPP  APSPP  APSPP\n",
       "1415580_0:000900  LPPPP  LPPPP  LPPPP  LPPPP\n",
       "61221_0:00105a    LPPPP  LPPPP  LPPPP  LPPPP\n",
       "7897_0:0033c5     LPPPP  LPPPP  LPPPP  LPPPP\n",
       "8407_0:002bff     LPPPP  LPPPP  LPPPP  LPPPP\n",
       "173247_0:004550   LPPPP  LPPPP  LPPPP  LPPPP\n",
       "30732_0:0046dd    LPPPP  LPPPP  LPPPP  LPPPP\n",
       "241271_0:0048e4   LPPPP  LPPPP  LPPPP  LPPPP\n",
       "8103_0:0045e4     LPPPP  LPPPP  LPPPP  LPPPP\n",
       "56723_0:00152f    LPPPP  LPPPP  LPPPP  LPPPP\n",
       "210632_0:004c0c   LPPPP  LPPPP  LPPPP  LPPPP\n",
       "31033_0:00264e    LPPPP  LPPPP  LPPPP  LPPPP\n",
       "63155_0:004c86    LPPPP  LPPPP  LPPPP  LPPPP\n",
       "7994_0:004d71     LPPPP  LPPPP  LPPPP  LPPPP\n",
       "109280_0:00369f   LPPPP  LPPPP  LPPPP  LPPPP\n",
       "150288_0:004e5a   IPPPP  IPPPP  IPPPP  IPPPP"
      ]
     },
     "execution_count": 48,
     "metadata": {},
     "output_type": "execute_result"
    }
   ],
   "source": [
    "aln_results.orthokmer_matrix.loc[[75, 113, 127, 157]].T"
   ]
  },
  {
   "cell_type": "markdown",
   "metadata": {},
   "source": [
    "Note - the k-mers are defined by position rather than sequence. You could easily make a variant of this method that uses the unique sequences instead. It would make the method slightly faster. <br>The reason that I didn't do this is because I wanted to mimic the LLM embedding version of Pairk, where identical k-mers have different embeddings and thus are treated as different k-mers.<br>Inclusion of duplicate k-mers does alter the final z-scores, so it's something to be aware of."
   ]
  },
  {
   "cell_type": "code",
   "execution_count": 6,
   "metadata": {},
   "outputs": [],
   "source": [
    "aligner = pairk.make_aligner('EDSSMat50')\n",
    "r = pairk.pairk_alignment_needleman(idr_dict, query_id, 10, aligner=aligner)"
   ]
  },
  {
   "cell_type": "code",
   "execution_count": 8,
   "metadata": {},
   "outputs": [
    {
     "ename": "ValueError",
     "evalue": "Multiple best scores found",
     "output_type": "error",
     "traceback": [
      "\u001b[0;31m---------------------------------------------------------------------------\u001b[0m",
      "\u001b[0;31mValueError\u001b[0m                                Traceback (most recent call last)",
      "Cell \u001b[0;32mIn[8], line 2\u001b[0m\n\u001b[1;32m      1\u001b[0m \u001b[38;5;28;01mimport\u001b[39;00m \u001b[38;5;21;01mpairk\u001b[39;00m\u001b[38;5;21;01m.\u001b[39;00m\u001b[38;5;21;01msingle_kmer\u001b[39;00m \u001b[38;5;28;01mas\u001b[39;00m \u001b[38;5;21;01mpairk_single\u001b[39;00m\n\u001b[0;32m----> 2\u001b[0m \u001b[43mpairk_single\u001b[49m\u001b[38;5;241;43m.\u001b[39;49m\u001b[43mpairk_alignment_single_kmer\u001b[49m\u001b[43m(\u001b[49m\u001b[38;5;124;43m\"\u001b[39;49m\u001b[38;5;124;43mLPPPP\u001b[39;49m\u001b[38;5;124;43m\"\u001b[39;49m\u001b[43m,\u001b[49m\u001b[43m \u001b[49m\u001b[43midr_dict\u001b[49m\u001b[43m)\u001b[49m\n",
      "File \u001b[0;32m~/Dropbox (MIT)/work/07-SLiM_bioinformatics/11-pairk/pairk/backend/kmer_alignment/scoring_matrix.py:222\u001b[0m, in \u001b[0;36mpairk_alignment_single_kmer\u001b[0;34m(kmer, ortholog_idrs, matrix_name)\u001b[0m\n\u001b[1;32m    220\u001b[0m     \u001b[38;5;28;01mcontinue\u001b[39;00m\n\u001b[1;32m    221\u001b[0m \u001b[38;5;28;01mif\u001b[39;00m query_k_scores\u001b[38;5;241m.\u001b[39mcount(best_score) \u001b[38;5;241m>\u001b[39m \u001b[38;5;241m1\u001b[39m:\n\u001b[0;32m--> 222\u001b[0m     \u001b[38;5;28;01mraise\u001b[39;00m \u001b[38;5;167;01mValueError\u001b[39;00m(\u001b[38;5;124m\"\u001b[39m\u001b[38;5;124mMultiple best scores found\u001b[39m\u001b[38;5;124m\"\u001b[39m)\n\u001b[1;32m    223\u001b[0m best_scores[ortholog_id] \u001b[38;5;241m=\u001b[39m best_score\n\u001b[1;32m    224\u001b[0m best_subseqs[ortholog_id] \u001b[38;5;241m=\u001b[39m best_subseq\n",
      "\u001b[0;31mValueError\u001b[0m: Multiple best scores found"
     ]
    }
   ],
   "source": [
    "import pairk.single_kmer as pairk_single\n",
    "pairk_single.pairk_alignment_single_kmer(\"LPPPP\", idr_dict)"
   ]
  }
 ],
 "metadata": {
  "kernelspec": {
   "display_name": "pairk",
   "language": "python",
   "name": "python3"
  },
  "language_info": {
   "codemirror_mode": {
    "name": "ipython",
    "version": 3
   },
   "file_extension": ".py",
   "mimetype": "text/x-python",
   "name": "python",
   "nbconvert_exporter": "python",
   "pygments_lexer": "ipython3",
   "version": "3.12.3"
  }
 },
 "nbformat": 4,
 "nbformat_minor": 2
}
