{
 "cells": [
  {
   "cell_type": "markdown",
   "metadata": {},
   "source": [
    "# Pairk - tutorial notebook"
   ]
  },
  {
   "cell_type": "markdown",
   "metadata": {},
   "source": [
    "Pairk - quantifying the conservation of motifs within intrinsically disordered regions.\n",
    "\n",
    "This notebook will go over the basics of how to use the pairk library using an example set of sequences (comes pre-installed with pairk)."
   ]
  },
  {
   "cell_type": "markdown",
   "metadata": {},
   "source": [
    "## brief overview of pairk\n",
    "\n",
    "Pairk can be divided into 2 parts:\n",
    "1. `pairk_aln` - pairwise kmer alignment. Aligns each k-mer in a query sequence with each sequence in a set of homologs. The alignment is gapless and performed pairwise. For each k-mer in the query sequence, the result is a set of the best matching k-mers from each homolog. We call this set of k-mers a \"pseudo-MSA\". The k-mer alignment step can be performed via a scoring matrix (similar to a traditional alignment), or via ESM2 embeddings. These are explained in more detail below.\n",
    "2. `pairk_conservation` - scores the conservation of the pseudo-MSAs via columnwise conservation scores."
   ]
  },
  {
   "cell_type": "markdown",
   "metadata": {},
   "source": [
    "# Step 1. pairk_aln"
   ]
  },
  {
   "cell_type": "markdown",
   "metadata": {},
   "source": [
    "The basic input for step 1 is:\n",
    "- `idr_dict_in` - a dictionary of IDR sequences, where the keys are the sequence ids and the values are the sequences. Includes the query sequence (the sequence to split into k-mers and align with the homologs).\n",
    "- `query_id` - a query sequence id (the sequence to split into k-mers and align with the homologs). This id should be present in `idr_dict_in`.\n",
    "- `k` - the length of the k-mers"
   ]
  },
  {
   "cell_type": "markdown",
   "metadata": {},
   "source": [
    "These inputs can be generated many ways, and there are helper functions in the pairk library to help with this. For this example, we will use the example sequences that come with pairk."
   ]
  },
  {
   "cell_type": "markdown",
   "metadata": {},
   "source": [
    "## import pairk"
   ]
  },
  {
   "cell_type": "code",
   "execution_count": 7,
   "metadata": {},
   "outputs": [
    {
     "name": "stdout",
     "output_type": "stream",
     "text": [
      "The autoreload extension is already loaded. To reload it, use:\n",
      "  %reload_ext autoreload\n"
     ]
    }
   ],
   "source": [
    "%load_ext autoreload\n",
    "%autoreload 2"
   ]
  },
  {
   "cell_type": "code",
   "execution_count": 8,
   "metadata": {},
   "outputs": [],
   "source": [
    "import pairk"
   ]
  },
  {
   "cell_type": "markdown",
   "metadata": {},
   "source": [
    "## load an example dataset"
   ]
  },
  {
   "cell_type": "code",
   "execution_count": 9,
   "metadata": {},
   "outputs": [],
   "source": [
    "ex1 = pairk.example1"
   ]
  },
  {
   "cell_type": "markdown",
   "metadata": {},
   "source": [
    "This example is imported as an object but it just holds the arguments that we need for `pairk_aln`:<br> \n",
    "- the IDR sequences in a dictionary - `ex1.idr_dict`<br>\n",
    "- the query id - `ex1.query_id`<br>"
   ]
  },
  {
   "cell_type": "code",
   "execution_count": 13,
   "metadata": {},
   "outputs": [
    {
     "name": "stdout",
     "output_type": "stream",
     "text": [
      "9606_0:00294e TNLGTVNAAAPAQPSTGPKTGTTQPNGQIPQATHSVSAVLQEAQRHAETSKDKKPALGNHHDPAVPRAPHAPKSSLPPPPPVRRSSDTSGSPATPLKAKGTGGGGLPAPPDDFLPPPPPPPPLDDPELPPPPPDFMEPPPDFVPPPPPSYAGIAGSELPPPPPPPPAPAPAPVPDSARPPPAVAKRPPVPPKRQENPGHPGGAGGGEQDFMSDLMKALQKKRGNV\n",
      "9793_0:005123 TNVGTGNAATPAPPSTGLKTGTAQANGQIPQAAHSVSTVLNEADRQVDTPKDKKPALSNHDPGTPRAQHLPKSSLPPPPPVRRSSDTSSSPVMPAKGAAGGLPPLLDDSLPPPPPPPPLEDDELPPPPPDFDDAPPNFVPPPPPWDAGASLPPPPPPPPPALALAPEATKPSPVVAKRPPVPPKRQENPAPASGGGGGEQDFMSDLMKALQKKRGNV\n",
      "1706337_0:000fc7 TNLGTVNAAPPAPSSTGVKTGTTQANGQIPQAAHSMSTVLGEAQRQVETTKDKKSGLGSHDPGAPRAQTLPKSSLPPPPPVRRSSEVGCGSPGTSPKVKGAAAGFPAPPHDLLPPPPPPPPLEDDELPPPPPDFSDAPPDFVPPPPPPSFAGDAGSSLPPPPPPPALAPEAAKPTPVVVKRPPAPPKRQANPGPPGGGGGEQDFMSDLMKALQKKRSNM\n",
      "51337_0:001b5a TNLGTVNTATPAQPSTGFKTGSSQPNGQIPQTIPSVSAGLQEAQRHETIKDKKPSLSSTEPGAPRDPPGARSSLPPPPPPVRRSSDTCARAASPFPAPPDDLPPPPPPPPLEDPAMLPPPPALPEPPPDCVPPPPPPPGPGPQPARPSPGAGRRPPVPPKRQENPGLPSAGAGGEQDFMSDLMKALQKRGHM\n",
      "9568_0:004ae1 TNLGTVNAAAPAQPSTGPINGTAQPNGQMPQAAHSVSAVLQEAQRHAETSKVKPARPINGTAQPNGQMPQAAHSVSAVLQEAQRHAETSKRPSPAVAKRPPMPPKRHENPGTPSGAGGGEQDFMSDLMKALQKKRGNV\n",
      "43346_0:004190 TNLGTVNAVPPAPPSTGVKTGTTQANGQLPQATQSMNTALGEDWRQLETTKDKKPGPGLGSHDPGAPRAQPLPKSSLPPPPPPVRRSSDVGGAPPPSFAEDLPPPPPPPPALAPESVRTPPVVVKRPPPPPKRQENPGPPGGGGGEQDFMSDLMKALQKKRGNV\n",
      "885580_0:00488c TNLGTVNTAAAAQPPAGLRTGTSQPNGQLPRDAPCLSDALRESQRQADTSKVGPEGQGGHELPDRPKAAFQASTALAASPYSPKH\n",
      "10181_0:00305d TNLGTVSTATAAQPPTGLRTSTTQHNGQLPQAAPHLSAVLQEAQRQAEASKVGPEGNRPKLQQISAPSPPSKPEAVFWHLLLFPASENPPYCNFT\n",
      "1415580_0:000900 PNLSKVDPTVTARSSSSGAVQANGQIHQNVIPVISTNPEAFKRAEDKKPNVGRKPDQAQLQPVPSSNHQQSPKVALHASKIPPPAPARISSQAYSSALTLPSNVKNVNANVLLPPPPSPSPPPPDAFPLPPPCNNDLPPPPDDFYDPPPDFLPPPPPCFATGDRAQLPPGPPLPPPPPSSNQPKPFMKKPVPLPPKRQDITSLHSEQPSLAGPTPVGGGGGQPDFMSDLMKALQKKRGST\n",
      "61221_0:00105a AKSGNTESIVAVGTSAKGSTHANGQVPQSITLSKTDSSETGKSAEMPKVKKPDNTADSIQAPTPNTPQLKHQRKAGGSHSAPPMPPQRVSSAVTAPLQLPTNAEGKGKVCPSDAAEFPPPPESMLPPPELEDLPLPPPPPPEYFESPPDFIPPPPPSCAVAVSAGAPPLPPPPPSASLPRMPLSIKKKPPPPPRRQEESAGQAGLPKPSAPPPKTETAGQGDFMSDLMKALEKKRGAT\n",
      "7897_0:0033c5 ANFAKVQSQNTTASSTGSVQANGHAGQVTPVSVSFSEAWKRGDVGKEKQSNDGQDNLPPPPPPPPPPMQGFMNEAFPPPPSLPPIASGSLPPPLRASASAPAPPPISNNFPPPLDELSPPPDDFDFPEPPPDFLPPPPTVSASGVPPPPPPPPPPPAPTAASQPTPLPKKSVPPRRQENTTLSQPRGGGGGGQPDFMSDLTKALQKKRGNA\n",
      "8407_0:002bff SSLSSSTTPTGAPQGNGQISQNVANVSSSFSDAWKRGETAKDKQQPTEVRKPEQKISLPPSTKQPPPAPVRRPSNAHVVGTPPLPIKAKPVTSNMPPPPPPAEASQWGDDFLPPPPPPELLDTPPNFLPPPPPSFNSESDYPAPPQFTNVGSAGGPPPPPPPPPPPPAALSPKSAPPQLPVKKLPPKPPMRRDSTGQRPNQQNSLMTNGGGAGGQPDFMSDLMSALQKKRSTT\n",
      "173247_0:004550 MNRSTPSSSNPSTPSPTIKAKTPNQANGHAPKPQPTAPDSMDFGNFPPPPSADILPPPPPDPAFPPPPPSLPAKSSSRPVAPQHKLPANFPPPPMAMDNLPPPPLPPPIDDSPEAPPDFLPPPPPAAGFGSLPPPPLSMNSLPPPPHFGGMDQSLPPPPPDPEFLPPPPPEPVFTGAGAPPPPPPPPPPPPAQAAAVPRAPVRPSGSVRKVPPAPPKRTTPSLQVGGGGGGGDFMSELMVAMQKKRGDH\n",
      "30732_0:0046dd TNRSTPSSSNPSTPSPTVKAKAQSQANGHAPKPQPGPVSQDFGHLPPPPPPCPNDDLPPPPPDPVFPPPPPPLAAKRSPKTAGRSQHPQGNFPPPPPEMDHLPPPPPMEESPPDFLPPPPPMNSLPHPPPPPASFGGVDHSLPPPPPDPEFLPPPPPDPQVTGGGGPPPPPPPPPPPPPASAPAPRGALRPTGSAKKMPPAPPKRTTPVMGGGGGGGGGGGGDFMSELMKAMQKKRSDQ\n",
      "241271_0:0048e4 TNRTPVSSNQSTPSPTIKAKSPNQANGHAAKPQPGPESQDFGNIPPPPPPPPPPMTGFLPPPPPDPVLPPPPPLLAAKSPKPSPPQRNLPTNFPPPAMDNLPPPPPPPMDDSFEDPPDFLPPPPPAAGFGSLPPPPPPVNSFPPPPPSAGFGGMGQSLPPPPPDPGFLPPPPPQPMFTGGGTIPPPPPPPPPPTAAPRAPVRPTGSVKKAPPAPPKRTTPSLHGGGGGGGGGGGDFMSELMMAMNKKRGTT\n",
      "8103_0:0045e4 TNRSTPSSSNPSTPSPPIKAKSPGQANGHALKPEPGPVAQDFGHVPPPPPADILPPPADILPPPPPQTFLPPPPPPLAAKSSSKPSLPQRHLPTNFPPPPPAMINLPRPPQPPPTDDASEAPPDFLPPPPPAAGFSPLFPPPPPLNALPLPPPPVSFRVEDRSLPPPPPDPGFLPPPPPMFTGAGAPPPPPPPPPPPRVAVRPAGSVKKRPPAVPKRTTPSLRGGGGGDFMSELALAMNKKRSAH\n",
      "56723_0:00152f TNRSTPSSSSSSTPSPTIKAKSPSQANGHAPKPQPGPVSQDFGNVPPPPPPMANILPPPRPDAFLPPAPPPLARKNSAKPPPPQRHLPTNFPPPPPAMDNLPPPPPPPPMDDALEAPPDFLPPPPPAAGFGSLPPPPPPSNSFPPPPPPGSFGSMGQSLPPPPPDPGFLPPPPPQPVFTGAGAPPPPPPPPPPPTAAAAPRAPVRPSGSVKKIPPATPKRTTPSLQGGGGGGGGGGGGGGDFMSELMLAMNKKRST\n",
      "210632_0:004c0c ANRSTSSSSNSSTPSPTIKAKSSSQANGIFPKPGPAPQDFGDLPPPPPLAANILPPPPPEPGLPPPPPPPPPQAAKGSAKPAPPKRQMPANFPPPPTAMDNLPPPPPPPPIDNSEAPPDFLPPPPPASGFGSFPPPPPLNSLPPPPRPGGFGGMDQSLPPPPPDPEFLPPPPPPPQAVFTGGGAPPPPPPPPPPPAAAAPSTAIPRVGLRPAGSLKKLPPAPPKRTTPSMQGSGGGGGGDFMSELMLAMQKKRGDH\n",
      "31033_0:00264e TNCSKPSSDGPPTPPTTIKASPANGHVPKPPPGAAPQDVFPPPPPPMDILPPPPPDPAFPPPPPPLMAKRSPKPSAGHRQAPGDHLPPPPLAPPHDDASEDPPDFLPPPPPSFDSLPPPPPGMSAFPPPPPLLGFSETSQPLPPPPPDPELLLPPPPASMISTGAGAPPPPPPPPPAAAASPRPAPTASGSVRKRPPAPPKRTTPALHGSGGGAGEGAGGGDFMSELMKAMNKKRADH\n",
      "63155_0:004c86 TNRSTPSSSNQSTPSPTVKAKSPNQANGHPPKPQPGPISQAPFPPPPLAEVLPPPPPDPVLPPPPPMPAKSSAKPSPPKRQQQSNFPPPPPELDNLPPPPPPPPTDDTAEAPPDFLPPPPPAVGFGSLPPPPPSFGGVGQSLPPPPPDPQSLPPPPPDPVFIGAGAPPPPPPPPPPPAPGAPVTTLRPAVRPSGSLKKVPPAPPQRNTPSVSGGGGGGGGDFMSELMLAMQKKRGAQ\n",
      "7994_0:004d71 TSMNRQPSPSTSNTSTPSPTPKAKTANGHASQPRSETVPKAPSNQSAFPPPPPPADFLPPPPPDPTLPPPPPPPPALPVKKESNPPRSAPQRSQPAFPPPPPAMDFSLPPPPPPSDDLEMPPDFLPPPPPAPGGFMGGDLLPPPPPEPFHAPLPPPPAAFHPPPAVHPPPQATGGDLPPPPPPPPPPPPAPAAFHQTPSVRKVGPPPPKRTTPSLAAPSGGDFMSELMLAMNKKRGGQ\n",
      "109280_0:00369f ASCSVTSGQKQSQSQVANGHANNTSPSPLPPPPPPLGEDLPPPPPPPPQLGKTLPPAPPPLGATLPTPPPPPGGTPPPPPPPRRNPPPYPRHLPHISELYPLRRLLLLYQLPTVHSLVLLFQPNLPPNPSPNHDVQRPISRCLPGPQITFPPPPPPPVDDSPPDFLPPPPPAANFGSHPPPPPPVKTLPPPPPHMKTLPPARLSFKSTNLPPPPPDPGFLPPPLTGVPPPPPPPPPPPPTTAAAGPRRAPVRPSGSLKKMPPPPPKRSTPSLHGRRDGDRGDGDGGGGGDFMSELMRAMQKKRDPH\n",
      "150288_0:004e5a HPPDRCSTSSDNLNSQIGQSAPTPDECIEQDEPPPDFIPPPPPGYMAIL\n"
     ]
    }
   ],
   "source": [
    "for id,seq in ex1.idr_dict.items():\n",
    "    print(id,seq)"
   ]
  },
  {
   "cell_type": "code",
   "execution_count": 14,
   "metadata": {},
   "outputs": [
    {
     "name": "stdout",
     "output_type": "stream",
     "text": [
      "9606_0:00294e\n"
     ]
    }
   ],
   "source": [
    "print(ex1.query_id)"
   ]
  },
  {
   "cell_type": "markdown",
   "metadata": {},
   "source": [
    "## the scoring matrix method\n",
    "\n",
    "These methods use a scoring matrix to score the query k-mer to homolog k-mer matches and select the best scoring match from each homolog.\n",
    "\n",
    "There are 2 implementations of the scoring matrix method:\n",
    "1. `pairk.pairk_alignment` - the original implementation. This is a bit slow because it does an exhaustive comparison of all k-mers in the query sequence with all k-mers in the homologs.\n",
    "2. `pairk.pairk_alignment_needleman` - a faster implementation that uses the Needleman-Wunsch algorithm (as implemented in Biopython) to align the k-mers. This is faster and should yield the same results.\n",
    "\n",
    "\n",
    "To specify the scoring matrix used, you can pass the name of the matrix to the `matrix_name` argument. <br>\n",
    "To see the available matrices, use the `pairk.print_available_matrices()` function.\n",
    "\n",
    "\n",
    "<font size=\"2\">*Note*: These methods currently find the best scoring match from each homolog for each query k-mer. However, if there are multiple top-scoring matches, only one is returned. The `pairk.pairk_alignment` method could be modified to return all top-scoring matches if needed, however that is not currently implemented. This may be more difficult to implement for the `pairk.pairk_alignment_needleman` method, though it should still be possible since the Biopython method (`Bio.Align.PairwiseAligner.align`) returns many alignments. The relevant code files are i `pairk/backend/kmer_alignment/` if you want to try to implement this yourself.</font>"
   ]
  },
  {
   "cell_type": "code",
   "execution_count": 17,
   "metadata": {},
   "outputs": [
    {
     "name": "stdout",
     "output_type": "stream",
     "text": [
      "biopython-builtin matrices (aligner compatible):\n",
      "BENNER22\n",
      "BENNER6\n",
      "BENNER74\n",
      "BLASTN\n",
      "BLASTP\n",
      "BLOSUM45\n",
      "BLOSUM50\n",
      "BLOSUM62\n",
      "BLOSUM80\n",
      "BLOSUM90\n",
      "DAYHOFF\n",
      "FENG\n",
      "GENETIC\n",
      "GONNET1992\n",
      "HOXD70\n",
      "JOHNSON\n",
      "JONES\n",
      "LEVIN\n",
      "MCLACHLAN\n",
      "MDM78\n",
      "MEGABLAST\n",
      "NUC.4.4\n",
      "PAM250\n",
      "PAM30\n",
      "PAM70\n",
      "RAO\n",
      "RISLER\n",
      "SCHNEIDER\n",
      "STR\n",
      "TRANS\n",
      "\n",
      "other matrices:\n",
      "BLOSUM62\n",
      "EDSSMat50\n",
      "grantham\n",
      "grantham_similarity_norm\n",
      "grantham_similarity_normx100_aligner_compatible\n"
     ]
    }
   ],
   "source": [
    "pairk.print_available_matrices()"
   ]
  },
  {
   "cell_type": "markdown",
   "metadata": {},
   "source": [
    "### `pairk.pairk_alignment` - slower of the two methods"
   ]
  },
  {
   "cell_type": "code",
   "execution_count": 18,
   "metadata": {},
   "outputs": [],
   "source": [
    "aln_results = pairk.pairk_alignment(\n",
    "    idr_dict_in=ex1.idr_dict, \n",
    "    query_id=ex1.query_id,\n",
    "    k=5, \n",
    "    matrix_name=\"EDSSMat50\"\n",
    ")"
   ]
  },
  {
   "cell_type": "markdown",
   "metadata": {},
   "source": [
    "#### `pairk_aln` results"
   ]
  },
  {
   "cell_type": "markdown",
   "metadata": {},
   "source": [
    "The results are returned as a `PairkAln` object.<br>\n",
    "\n",
    "The actual \"alignments\" are stored as matrices in the `PairkAln` object. The main matrices are:<br>\n",
    "- orthokmer_matrix - the best matching k-mers from each homolog for each query k-mer<br>\n",
    "- position_matrix - the positions of the best matching k-mers in the homologs<br>\n",
    "- score_matrix - the scores of the best matching k-mers<br>\n",
    "\n",
    "Each matrix is a pandas DataFrame where the index is the start position of the k-mer in the query sequence. The columns are the query k-mers + the homolog sequence ids."
   ]
  },
  {
   "cell_type": "code",
   "execution_count": 19,
   "metadata": {},
   "outputs": [
    {
     "data": {
      "text/plain": [
       "pairk.backend.tools.pairwise_tools.PairkAln"
      ]
     },
     "execution_count": 19,
     "metadata": {},
     "output_type": "execute_result"
    }
   ],
   "source": [
    "type(aln_results)"
   ]
  },
  {
   "cell_type": "code",
   "execution_count": 20,
   "metadata": {},
   "outputs": [
    {
     "name": "stdout",
     "output_type": "stream",
     "text": [
      "\u001b[0;31mInit signature:\u001b[0m\n",
      "\u001b[0mpairk\u001b[0m\u001b[0;34m.\u001b[0m\u001b[0mPairkAln\u001b[0m\u001b[0;34m(\u001b[0m\u001b[0;34m\u001b[0m\n",
      "\u001b[0;34m\u001b[0m    \u001b[0morthokmer_df\u001b[0m\u001b[0;34m:\u001b[0m \u001b[0mpandas\u001b[0m\u001b[0;34m.\u001b[0m\u001b[0mcore\u001b[0m\u001b[0;34m.\u001b[0m\u001b[0mframe\u001b[0m\u001b[0;34m.\u001b[0m\u001b[0mDataFrame\u001b[0m\u001b[0;34m,\u001b[0m\u001b[0;34m\u001b[0m\n",
      "\u001b[0;34m\u001b[0m    \u001b[0mpos_df\u001b[0m\u001b[0;34m:\u001b[0m \u001b[0mpandas\u001b[0m\u001b[0;34m.\u001b[0m\u001b[0mcore\u001b[0m\u001b[0;34m.\u001b[0m\u001b[0mframe\u001b[0m\u001b[0;34m.\u001b[0m\u001b[0mDataFrame\u001b[0m\u001b[0;34m,\u001b[0m\u001b[0;34m\u001b[0m\n",
      "\u001b[0;34m\u001b[0m    \u001b[0mscore_df\u001b[0m\u001b[0;34m:\u001b[0m \u001b[0mpandas\u001b[0m\u001b[0;34m.\u001b[0m\u001b[0mcore\u001b[0m\u001b[0;34m.\u001b[0m\u001b[0mframe\u001b[0m\u001b[0;34m.\u001b[0m\u001b[0mDataFrame\u001b[0m \u001b[0;34m|\u001b[0m \u001b[0;32mNone\u001b[0m \u001b[0;34m=\u001b[0m \u001b[0;32mNone\u001b[0m\u001b[0;34m,\u001b[0m\u001b[0;34m\u001b[0m\n",
      "\u001b[0;34m\u001b[0m\u001b[0;34m)\u001b[0m\u001b[0;34m\u001b[0m\u001b[0;34m\u001b[0m\u001b[0m\n",
      "\u001b[0;31mDocstring:\u001b[0m     \n",
      "A class to store the results of the pairwise alignment.\n",
      "\n",
      "The primary data is stored in pandas dataframes. All dataframes have the\n",
      "same structure. One column is the query k-mer sequence\n",
      "('query_kmer'). The other columns are named as the ortholog sequence\n",
      "ids. The dataframe indexes are the query k-mer start position in the\n",
      "query sequence.\n",
      "\n",
      "Attributes\n",
      "----------\n",
      "orthokmer_matrix : pd.DataFrame\n",
      "    the best scoring k-mer from each ortholog for each query k-mer.\n",
      "position_matrix : pd.DataFrame\n",
      "    the start position of the best scoring k-mer from each ortholog for\n",
      "    each query k-mer.\n",
      "score_matrix : pd.DataFrame | None\n",
      "    the alignment scores for each k-mer in the query sequence against\n",
      "    the corresponding best matching ortholog k-mer.\n",
      "query_kmers : list[str]\n",
      "    the list of query k-mers that were aligned.\n",
      "query_sequence : str\n",
      "    the full query sequence that was originally split into k-mers and aligned.\n",
      "k : int\n",
      "    the k-mer size used for the alignment.\n",
      "\u001b[0;31mFile:\u001b[0m           ~/Dropbox (MIT)/work/07-SLiM_bioinformatics/11-pairk/pairk/backend/tools/pairwise_tools.py\n",
      "\u001b[0;31mType:\u001b[0m           type\n",
      "\u001b[0;31mSubclasses:\u001b[0m     "
     ]
    }
   ],
   "source": [
    "pairk.PairkAln?"
   ]
  },
  {
   "cell_type": "markdown",
   "metadata": {},
   "source": [
    "The results of the pairwise alignments are stored in pandas DataFrames, which can be directly accessed via the `PairkAln` object."
   ]
  },
  {
   "cell_type": "code",
   "execution_count": 25,
   "metadata": {},
   "outputs": [
    {
     "data": {
      "text/html": [
       "<div>\n",
       "<style scoped>\n",
       "    .dataframe tbody tr th:only-of-type {\n",
       "        vertical-align: middle;\n",
       "    }\n",
       "\n",
       "    .dataframe tbody tr th {\n",
       "        vertical-align: top;\n",
       "    }\n",
       "\n",
       "    .dataframe thead th {\n",
       "        text-align: right;\n",
       "    }\n",
       "</style>\n",
       "<table border=\"1\" class=\"dataframe\">\n",
       "  <thead>\n",
       "    <tr style=\"text-align: right;\">\n",
       "      <th></th>\n",
       "      <th>query_kmer</th>\n",
       "      <th>9793_0:005123</th>\n",
       "      <th>1706337_0:000fc7</th>\n",
       "      <th>51337_0:001b5a</th>\n",
       "      <th>9568_0:004ae1</th>\n",
       "      <th>43346_0:004190</th>\n",
       "      <th>885580_0:00488c</th>\n",
       "      <th>10181_0:00305d</th>\n",
       "      <th>1415580_0:000900</th>\n",
       "      <th>61221_0:00105a</th>\n",
       "      <th>...</th>\n",
       "      <th>30732_0:0046dd</th>\n",
       "      <th>241271_0:0048e4</th>\n",
       "      <th>8103_0:0045e4</th>\n",
       "      <th>56723_0:00152f</th>\n",
       "      <th>210632_0:004c0c</th>\n",
       "      <th>31033_0:00264e</th>\n",
       "      <th>63155_0:004c86</th>\n",
       "      <th>7994_0:004d71</th>\n",
       "      <th>109280_0:00369f</th>\n",
       "      <th>150288_0:004e5a</th>\n",
       "    </tr>\n",
       "  </thead>\n",
       "  <tbody>\n",
       "    <tr>\n",
       "      <th>0</th>\n",
       "      <td>TNLGT</td>\n",
       "      <td>TNVGT</td>\n",
       "      <td>TNLGT</td>\n",
       "      <td>TNLGT</td>\n",
       "      <td>TNLGT</td>\n",
       "      <td>TNLGT</td>\n",
       "      <td>TNLGT</td>\n",
       "      <td>TNLGT</td>\n",
       "      <td>TSLHS</td>\n",
       "      <td>VAVGT</td>\n",
       "      <td>...</td>\n",
       "      <td>TNRST</td>\n",
       "      <td>RNLPT</td>\n",
       "      <td>TNRST</td>\n",
       "      <td>TNRST</td>\n",
       "      <td>ANRST</td>\n",
       "      <td>TGAGA</td>\n",
       "      <td>TNRST</td>\n",
       "      <td>SNTST</td>\n",
       "      <td>ANFGS</td>\n",
       "      <td>DNLNS</td>\n",
       "    </tr>\n",
       "    <tr>\n",
       "      <th>1</th>\n",
       "      <td>NLGTV</td>\n",
       "      <td>NVGTG</td>\n",
       "      <td>NLGTV</td>\n",
       "      <td>NLGTV</td>\n",
       "      <td>NLGTV</td>\n",
       "      <td>NLGTV</td>\n",
       "      <td>NLGTV</td>\n",
       "      <td>NLGTV</td>\n",
       "      <td>NLSKV</td>\n",
       "      <td>SIVAV</td>\n",
       "      <td>...</td>\n",
       "      <td>SFGGV</td>\n",
       "      <td>NLPTN</td>\n",
       "      <td>DFGHV</td>\n",
       "      <td>DFGNV</td>\n",
       "      <td>NLPPP</td>\n",
       "      <td>ASGSV</td>\n",
       "      <td>SFGGV</td>\n",
       "      <td>NTSTP</td>\n",
       "      <td>QLPTV</td>\n",
       "      <td>NLNSQ</td>\n",
       "    </tr>\n",
       "    <tr>\n",
       "      <th>2</th>\n",
       "      <td>LGTVN</td>\n",
       "      <td>VGTGN</td>\n",
       "      <td>LGTVN</td>\n",
       "      <td>LGTVN</td>\n",
       "      <td>LGTVN</td>\n",
       "      <td>LGTVN</td>\n",
       "      <td>LGTVN</td>\n",
       "      <td>LGTVS</td>\n",
       "      <td>LSKVD</td>\n",
       "      <td>IVAVG</td>\n",
       "      <td>...</td>\n",
       "      <td>FGGVD</td>\n",
       "      <td>TGSVK</td>\n",
       "      <td>PGQAN</td>\n",
       "      <td>FGNVP</td>\n",
       "      <td>FGGMD</td>\n",
       "      <td>MKAMN</td>\n",
       "      <td>FGGVG</td>\n",
       "      <td>MLAMN</td>\n",
       "      <td>LPTVH</td>\n",
       "      <td>SDNLN</td>\n",
       "    </tr>\n",
       "    <tr>\n",
       "      <th>3</th>\n",
       "      <td>GTVNA</td>\n",
       "      <td>GTGNA</td>\n",
       "      <td>GTVNA</td>\n",
       "      <td>GTVNT</td>\n",
       "      <td>GTVNA</td>\n",
       "      <td>GTVNA</td>\n",
       "      <td>GTVNT</td>\n",
       "      <td>GTVST</td>\n",
       "      <td>GAVQA</td>\n",
       "      <td>GSTHA</td>\n",
       "      <td>...</td>\n",
       "      <td>PTVKA</td>\n",
       "      <td>GTIPP</td>\n",
       "      <td>GQANG</td>\n",
       "      <td>PTIKA</td>\n",
       "      <td>PTIKA</td>\n",
       "      <td>TTIKA</td>\n",
       "      <td>PTVKA</td>\n",
       "      <td>STSNT</td>\n",
       "      <td>PTVHS</td>\n",
       "      <td>DNLNS</td>\n",
       "    </tr>\n",
       "    <tr>\n",
       "      <th>4</th>\n",
       "      <td>TVNAA</td>\n",
       "      <td>TGNAA</td>\n",
       "      <td>TVNAA</td>\n",
       "      <td>TVNTA</td>\n",
       "      <td>TVNAA</td>\n",
       "      <td>TVNAV</td>\n",
       "      <td>TVNTA</td>\n",
       "      <td>TVSTA</td>\n",
       "      <td>NVNAN</td>\n",
       "      <td>AVSAG</td>\n",
       "      <td>...</td>\n",
       "      <td>TVKAK</td>\n",
       "      <td>PVNSF</td>\n",
       "      <td>PLNAL</td>\n",
       "      <td>TAAAA</td>\n",
       "      <td>TIKAK</td>\n",
       "      <td>TIKAS</td>\n",
       "      <td>TVKAK</td>\n",
       "      <td>TSNTS</td>\n",
       "      <td>TTAAA</td>\n",
       "      <td>NLNSQ</td>\n",
       "    </tr>\n",
       "  </tbody>\n",
       "</table>\n",
       "<p>5 rows × 23 columns</p>\n",
       "</div>"
      ],
      "text/plain": [
       "  query_kmer 9793_0:005123 1706337_0:000fc7 51337_0:001b5a 9568_0:004ae1  \\\n",
       "0      TNLGT         TNVGT            TNLGT          TNLGT         TNLGT   \n",
       "1      NLGTV         NVGTG            NLGTV          NLGTV         NLGTV   \n",
       "2      LGTVN         VGTGN            LGTVN          LGTVN         LGTVN   \n",
       "3      GTVNA         GTGNA            GTVNA          GTVNT         GTVNA   \n",
       "4      TVNAA         TGNAA            TVNAA          TVNTA         TVNAA   \n",
       "\n",
       "  43346_0:004190 885580_0:00488c 10181_0:00305d 1415580_0:000900  \\\n",
       "0          TNLGT           TNLGT          TNLGT            TSLHS   \n",
       "1          NLGTV           NLGTV          NLGTV            NLSKV   \n",
       "2          LGTVN           LGTVN          LGTVS            LSKVD   \n",
       "3          GTVNA           GTVNT          GTVST            GAVQA   \n",
       "4          TVNAV           TVNTA          TVSTA            NVNAN   \n",
       "\n",
       "  61221_0:00105a  ... 30732_0:0046dd 241271_0:0048e4 8103_0:0045e4  \\\n",
       "0          VAVGT  ...          TNRST           RNLPT         TNRST   \n",
       "1          SIVAV  ...          SFGGV           NLPTN         DFGHV   \n",
       "2          IVAVG  ...          FGGVD           TGSVK         PGQAN   \n",
       "3          GSTHA  ...          PTVKA           GTIPP         GQANG   \n",
       "4          AVSAG  ...          TVKAK           PVNSF         PLNAL   \n",
       "\n",
       "  56723_0:00152f 210632_0:004c0c 31033_0:00264e 63155_0:004c86 7994_0:004d71  \\\n",
       "0          TNRST           ANRST          TGAGA          TNRST         SNTST   \n",
       "1          DFGNV           NLPPP          ASGSV          SFGGV         NTSTP   \n",
       "2          FGNVP           FGGMD          MKAMN          FGGVG         MLAMN   \n",
       "3          PTIKA           PTIKA          TTIKA          PTVKA         STSNT   \n",
       "4          TAAAA           TIKAK          TIKAS          TVKAK         TSNTS   \n",
       "\n",
       "  109280_0:00369f 150288_0:004e5a  \n",
       "0           ANFGS           DNLNS  \n",
       "1           QLPTV           NLNSQ  \n",
       "2           LPTVH           SDNLN  \n",
       "3           PTVHS           DNLNS  \n",
       "4           TTAAA           NLNSQ  \n",
       "\n",
       "[5 rows x 23 columns]"
      ]
     },
     "execution_count": 25,
     "metadata": {},
     "output_type": "execute_result"
    }
   ],
   "source": [
    "aln_results.orthokmer_matrix.head()"
   ]
  },
  {
   "cell_type": "code",
   "execution_count": 26,
   "metadata": {},
   "outputs": [
    {
     "data": {
      "text/plain": [
       "query_kmer          NLGTV\n",
       "9793_0:005123       NVGTG\n",
       "1706337_0:000fc7    NLGTV\n",
       "51337_0:001b5a      NLGTV\n",
       "9568_0:004ae1       NLGTV\n",
       "43346_0:004190      NLGTV\n",
       "885580_0:00488c     NLGTV\n",
       "10181_0:00305d      NLGTV\n",
       "1415580_0:000900    NLSKV\n",
       "61221_0:00105a      SIVAV\n",
       "7897_0:0033c5       NFAKV\n",
       "8407_0:002bff       NVANV\n",
       "173247_0:004550     HFGGM\n",
       "30732_0:0046dd      SFGGV\n",
       "241271_0:0048e4     NLPTN\n",
       "8103_0:0045e4       DFGHV\n",
       "56723_0:00152f      DFGNV\n",
       "210632_0:004c0c     NLPPP\n",
       "31033_0:00264e      ASGSV\n",
       "63155_0:004c86      SFGGV\n",
       "7994_0:004d71       NTSTP\n",
       "109280_0:00369f     QLPTV\n",
       "150288_0:004e5a     NLNSQ\n",
       "Name: 1, dtype: object"
      ]
     },
     "execution_count": 26,
     "metadata": {},
     "output_type": "execute_result"
    }
   ],
   "source": [
    "aln_results.orthokmer_matrix.loc[1]"
   ]
  },
  {
   "cell_type": "code",
   "execution_count": 27,
   "metadata": {},
   "outputs": [
    {
     "data": {
      "text/html": [
       "<div>\n",
       "<style scoped>\n",
       "    .dataframe tbody tr th:only-of-type {\n",
       "        vertical-align: middle;\n",
       "    }\n",
       "\n",
       "    .dataframe tbody tr th {\n",
       "        vertical-align: top;\n",
       "    }\n",
       "\n",
       "    .dataframe thead th {\n",
       "        text-align: right;\n",
       "    }\n",
       "</style>\n",
       "<table border=\"1\" class=\"dataframe\">\n",
       "  <thead>\n",
       "    <tr style=\"text-align: right;\">\n",
       "      <th></th>\n",
       "      <th>query_kmer</th>\n",
       "      <th>9793_0:005123</th>\n",
       "      <th>1706337_0:000fc7</th>\n",
       "      <th>51337_0:001b5a</th>\n",
       "      <th>9568_0:004ae1</th>\n",
       "      <th>43346_0:004190</th>\n",
       "      <th>885580_0:00488c</th>\n",
       "      <th>10181_0:00305d</th>\n",
       "      <th>1415580_0:000900</th>\n",
       "      <th>61221_0:00105a</th>\n",
       "      <th>...</th>\n",
       "      <th>30732_0:0046dd</th>\n",
       "      <th>241271_0:0048e4</th>\n",
       "      <th>8103_0:0045e4</th>\n",
       "      <th>56723_0:00152f</th>\n",
       "      <th>210632_0:004c0c</th>\n",
       "      <th>31033_0:00264e</th>\n",
       "      <th>63155_0:004c86</th>\n",
       "      <th>7994_0:004d71</th>\n",
       "      <th>109280_0:00369f</th>\n",
       "      <th>150288_0:004e5a</th>\n",
       "    </tr>\n",
       "  </thead>\n",
       "  <tbody>\n",
       "    <tr>\n",
       "      <th>0</th>\n",
       "      <td>TNLGT</td>\n",
       "      <td>22.0</td>\n",
       "      <td>28.0</td>\n",
       "      <td>28.0</td>\n",
       "      <td>28.0</td>\n",
       "      <td>28.0</td>\n",
       "      <td>28.0</td>\n",
       "      <td>28.0</td>\n",
       "      <td>10.0</td>\n",
       "      <td>9.0</td>\n",
       "      <td>...</td>\n",
       "      <td>13.0</td>\n",
       "      <td>12.0</td>\n",
       "      <td>13.0</td>\n",
       "      <td>13.0</td>\n",
       "      <td>9.0</td>\n",
       "      <td>8.0</td>\n",
       "      <td>13.0</td>\n",
       "      <td>8.0</td>\n",
       "      <td>14.0</td>\n",
       "      <td>9.0</td>\n",
       "    </tr>\n",
       "    <tr>\n",
       "      <th>1</th>\n",
       "      <td>NLGTV</td>\n",
       "      <td>16.0</td>\n",
       "      <td>29.0</td>\n",
       "      <td>29.0</td>\n",
       "      <td>29.0</td>\n",
       "      <td>29.0</td>\n",
       "      <td>29.0</td>\n",
       "      <td>29.0</td>\n",
       "      <td>16.0</td>\n",
       "      <td>8.0</td>\n",
       "      <td>...</td>\n",
       "      <td>11.0</td>\n",
       "      <td>13.0</td>\n",
       "      <td>11.0</td>\n",
       "      <td>13.0</td>\n",
       "      <td>7.0</td>\n",
       "      <td>7.0</td>\n",
       "      <td>11.0</td>\n",
       "      <td>6.0</td>\n",
       "      <td>14.0</td>\n",
       "      <td>10.0</td>\n",
       "    </tr>\n",
       "    <tr>\n",
       "      <th>2</th>\n",
       "      <td>LGTVN</td>\n",
       "      <td>16.0</td>\n",
       "      <td>29.0</td>\n",
       "      <td>29.0</td>\n",
       "      <td>29.0</td>\n",
       "      <td>29.0</td>\n",
       "      <td>29.0</td>\n",
       "      <td>23.0</td>\n",
       "      <td>10.0</td>\n",
       "      <td>7.0</td>\n",
       "      <td>...</td>\n",
       "      <td>11.0</td>\n",
       "      <td>8.0</td>\n",
       "      <td>9.0</td>\n",
       "      <td>10.0</td>\n",
       "      <td>7.0</td>\n",
       "      <td>8.0</td>\n",
       "      <td>10.0</td>\n",
       "      <td>8.0</td>\n",
       "      <td>16.0</td>\n",
       "      <td>4.0</td>\n",
       "    </tr>\n",
       "    <tr>\n",
       "      <th>3</th>\n",
       "      <td>GTVNA</td>\n",
       "      <td>19.0</td>\n",
       "      <td>26.0</td>\n",
       "      <td>23.0</td>\n",
       "      <td>26.0</td>\n",
       "      <td>26.0</td>\n",
       "      <td>23.0</td>\n",
       "      <td>17.0</td>\n",
       "      <td>15.0</td>\n",
       "      <td>10.0</td>\n",
       "      <td>...</td>\n",
       "      <td>11.0</td>\n",
       "      <td>9.0</td>\n",
       "      <td>10.0</td>\n",
       "      <td>8.0</td>\n",
       "      <td>8.0</td>\n",
       "      <td>9.0</td>\n",
       "      <td>11.0</td>\n",
       "      <td>9.0</td>\n",
       "      <td>9.0</td>\n",
       "      <td>6.0</td>\n",
       "    </tr>\n",
       "    <tr>\n",
       "      <th>4</th>\n",
       "      <td>TVNAA</td>\n",
       "      <td>18.0</td>\n",
       "      <td>25.0</td>\n",
       "      <td>22.0</td>\n",
       "      <td>25.0</td>\n",
       "      <td>22.0</td>\n",
       "      <td>22.0</td>\n",
       "      <td>16.0</td>\n",
       "      <td>14.0</td>\n",
       "      <td>11.0</td>\n",
       "      <td>...</td>\n",
       "      <td>11.0</td>\n",
       "      <td>9.0</td>\n",
       "      <td>8.0</td>\n",
       "      <td>12.0</td>\n",
       "      <td>8.0</td>\n",
       "      <td>11.0</td>\n",
       "      <td>11.0</td>\n",
       "      <td>10.0</td>\n",
       "      <td>11.0</td>\n",
       "      <td>5.0</td>\n",
       "    </tr>\n",
       "  </tbody>\n",
       "</table>\n",
       "<p>5 rows × 23 columns</p>\n",
       "</div>"
      ],
      "text/plain": [
       "  query_kmer 9793_0:005123 1706337_0:000fc7 51337_0:001b5a 9568_0:004ae1  \\\n",
       "0      TNLGT          22.0             28.0           28.0          28.0   \n",
       "1      NLGTV          16.0             29.0           29.0          29.0   \n",
       "2      LGTVN          16.0             29.0           29.0          29.0   \n",
       "3      GTVNA          19.0             26.0           23.0          26.0   \n",
       "4      TVNAA          18.0             25.0           22.0          25.0   \n",
       "\n",
       "  43346_0:004190 885580_0:00488c 10181_0:00305d 1415580_0:000900  \\\n",
       "0           28.0            28.0           28.0             10.0   \n",
       "1           29.0            29.0           29.0             16.0   \n",
       "2           29.0            29.0           23.0             10.0   \n",
       "3           26.0            23.0           17.0             15.0   \n",
       "4           22.0            22.0           16.0             14.0   \n",
       "\n",
       "  61221_0:00105a  ... 30732_0:0046dd 241271_0:0048e4 8103_0:0045e4  \\\n",
       "0            9.0  ...           13.0            12.0          13.0   \n",
       "1            8.0  ...           11.0            13.0          11.0   \n",
       "2            7.0  ...           11.0             8.0           9.0   \n",
       "3           10.0  ...           11.0             9.0          10.0   \n",
       "4           11.0  ...           11.0             9.0           8.0   \n",
       "\n",
       "  56723_0:00152f 210632_0:004c0c 31033_0:00264e 63155_0:004c86 7994_0:004d71  \\\n",
       "0           13.0             9.0            8.0           13.0           8.0   \n",
       "1           13.0             7.0            7.0           11.0           6.0   \n",
       "2           10.0             7.0            8.0           10.0           8.0   \n",
       "3            8.0             8.0            9.0           11.0           9.0   \n",
       "4           12.0             8.0           11.0           11.0          10.0   \n",
       "\n",
       "  109280_0:00369f 150288_0:004e5a  \n",
       "0            14.0             9.0  \n",
       "1            14.0            10.0  \n",
       "2            16.0             4.0  \n",
       "3             9.0             6.0  \n",
       "4            11.0             5.0  \n",
       "\n",
       "[5 rows x 23 columns]"
      ]
     },
     "execution_count": 27,
     "metadata": {},
     "output_type": "execute_result"
    }
   ],
   "source": [
    "aln_results.score_matrix.head()"
   ]
  },
  {
   "cell_type": "markdown",
   "metadata": {},
   "source": [
    "You can get the \"pseudo-alignment\" of any query k-mer via the `get_pseudo_alignment` method. <br>This method returns a list of the best-scoring ortholog k-mers for a query k-mer. The query k-mer is specified by its position in the query sequence (0-based). \n",
    "<br>The returned list includes the query k-mer sequence"
   ]
  },
  {
   "cell_type": "code",
   "execution_count": 28,
   "metadata": {},
   "outputs": [
    {
     "data": {
      "text/plain": [
       "['NLGTV',\n",
       " 'NVGTG',\n",
       " 'NLGTV',\n",
       " 'NLGTV',\n",
       " 'NLGTV',\n",
       " 'NLGTV',\n",
       " 'NLGTV',\n",
       " 'NLGTV',\n",
       " 'NLSKV',\n",
       " 'SIVAV',\n",
       " 'NFAKV',\n",
       " 'NVANV',\n",
       " 'HFGGM',\n",
       " 'SFGGV',\n",
       " 'NLPTN',\n",
       " 'DFGHV',\n",
       " 'DFGNV',\n",
       " 'NLPPP',\n",
       " 'ASGSV',\n",
       " 'SFGGV',\n",
       " 'NTSTP',\n",
       " 'QLPTV',\n",
       " 'NLNSQ']"
      ]
     },
     "execution_count": 28,
     "metadata": {},
     "output_type": "execute_result"
    }
   ],
   "source": [
    "aln_results.get_pseudo_alignment(1)"
   ]
  },
  {
   "cell_type": "markdown",
   "metadata": {},
   "source": [
    "you can search for a specific kmer to get its positions. You can then use the positions to query the matrices."
   ]
  },
  {
   "cell_type": "code",
   "execution_count": 29,
   "metadata": {},
   "outputs": [
    {
     "data": {
      "text/plain": [
       "[75, 113, 127, 157]"
      ]
     },
     "execution_count": 29,
     "metadata": {},
     "output_type": "execute_result"
    }
   ],
   "source": [
    "aln_results.find_query_kmer_positions('LPPPP')"
   ]
  },
  {
   "cell_type": "code",
   "execution_count": 30,
   "metadata": {},
   "outputs": [
    {
     "data": {
      "text/plain": [
       "['LPPPP',\n",
       " 'LPPPP',\n",
       " 'LPPPP',\n",
       " 'LPPPP',\n",
       " 'PPMPP',\n",
       " 'LPPPP',\n",
       " 'LPDRP',\n",
       " 'APSPP',\n",
       " 'LPPPP',\n",
       " 'LPPPP',\n",
       " 'LPPPP',\n",
       " 'LPPPP',\n",
       " 'LPPPP',\n",
       " 'LPPPP',\n",
       " 'LPPPP',\n",
       " 'LPPPP',\n",
       " 'LPPPP',\n",
       " 'LPPPP',\n",
       " 'LPPPP',\n",
       " 'LPPPP',\n",
       " 'LPPPP',\n",
       " 'LPPPP',\n",
       " 'IPPPP']"
      ]
     },
     "execution_count": 30,
     "metadata": {},
     "output_type": "execute_result"
    }
   ],
   "source": [
    "aln_results.get_pseudo_alignment(75)"
   ]
  },
  {
   "cell_type": "code",
   "execution_count": 31,
   "metadata": {},
   "outputs": [
    {
     "data": {
      "text/html": [
       "<div>\n",
       "<style scoped>\n",
       "    .dataframe tbody tr th:only-of-type {\n",
       "        vertical-align: middle;\n",
       "    }\n",
       "\n",
       "    .dataframe tbody tr th {\n",
       "        vertical-align: top;\n",
       "    }\n",
       "\n",
       "    .dataframe thead th {\n",
       "        text-align: right;\n",
       "    }\n",
       "</style>\n",
       "<table border=\"1\" class=\"dataframe\">\n",
       "  <thead>\n",
       "    <tr style=\"text-align: right;\">\n",
       "      <th></th>\n",
       "      <th>75</th>\n",
       "      <th>113</th>\n",
       "      <th>127</th>\n",
       "      <th>157</th>\n",
       "    </tr>\n",
       "  </thead>\n",
       "  <tbody>\n",
       "    <tr>\n",
       "      <th>query_kmer</th>\n",
       "      <td>LPPPP</td>\n",
       "      <td>LPPPP</td>\n",
       "      <td>LPPPP</td>\n",
       "      <td>LPPPP</td>\n",
       "    </tr>\n",
       "    <tr>\n",
       "      <th>9793_0:005123</th>\n",
       "      <td>LPPPP</td>\n",
       "      <td>LPPPP</td>\n",
       "      <td>LPPPP</td>\n",
       "      <td>LPPPP</td>\n",
       "    </tr>\n",
       "    <tr>\n",
       "      <th>1706337_0:000fc7</th>\n",
       "      <td>LPPPP</td>\n",
       "      <td>LPPPP</td>\n",
       "      <td>LPPPP</td>\n",
       "      <td>LPPPP</td>\n",
       "    </tr>\n",
       "    <tr>\n",
       "      <th>51337_0:001b5a</th>\n",
       "      <td>LPPPP</td>\n",
       "      <td>LPPPP</td>\n",
       "      <td>LPPPP</td>\n",
       "      <td>LPPPP</td>\n",
       "    </tr>\n",
       "    <tr>\n",
       "      <th>9568_0:004ae1</th>\n",
       "      <td>PPMPP</td>\n",
       "      <td>PPMPP</td>\n",
       "      <td>PPMPP</td>\n",
       "      <td>PPMPP</td>\n",
       "    </tr>\n",
       "    <tr>\n",
       "      <th>43346_0:004190</th>\n",
       "      <td>LPPPP</td>\n",
       "      <td>LPPPP</td>\n",
       "      <td>LPPPP</td>\n",
       "      <td>LPPPP</td>\n",
       "    </tr>\n",
       "    <tr>\n",
       "      <th>885580_0:00488c</th>\n",
       "      <td>LPDRP</td>\n",
       "      <td>LPDRP</td>\n",
       "      <td>LPDRP</td>\n",
       "      <td>LPDRP</td>\n",
       "    </tr>\n",
       "    <tr>\n",
       "      <th>10181_0:00305d</th>\n",
       "      <td>APSPP</td>\n",
       "      <td>APSPP</td>\n",
       "      <td>APSPP</td>\n",
       "      <td>APSPP</td>\n",
       "    </tr>\n",
       "    <tr>\n",
       "      <th>1415580_0:000900</th>\n",
       "      <td>LPPPP</td>\n",
       "      <td>LPPPP</td>\n",
       "      <td>LPPPP</td>\n",
       "      <td>LPPPP</td>\n",
       "    </tr>\n",
       "    <tr>\n",
       "      <th>61221_0:00105a</th>\n",
       "      <td>LPPPP</td>\n",
       "      <td>LPPPP</td>\n",
       "      <td>LPPPP</td>\n",
       "      <td>LPPPP</td>\n",
       "    </tr>\n",
       "    <tr>\n",
       "      <th>7897_0:0033c5</th>\n",
       "      <td>LPPPP</td>\n",
       "      <td>LPPPP</td>\n",
       "      <td>LPPPP</td>\n",
       "      <td>LPPPP</td>\n",
       "    </tr>\n",
       "    <tr>\n",
       "      <th>8407_0:002bff</th>\n",
       "      <td>LPPPP</td>\n",
       "      <td>LPPPP</td>\n",
       "      <td>LPPPP</td>\n",
       "      <td>LPPPP</td>\n",
       "    </tr>\n",
       "    <tr>\n",
       "      <th>173247_0:004550</th>\n",
       "      <td>LPPPP</td>\n",
       "      <td>LPPPP</td>\n",
       "      <td>LPPPP</td>\n",
       "      <td>LPPPP</td>\n",
       "    </tr>\n",
       "    <tr>\n",
       "      <th>30732_0:0046dd</th>\n",
       "      <td>LPPPP</td>\n",
       "      <td>LPPPP</td>\n",
       "      <td>LPPPP</td>\n",
       "      <td>LPPPP</td>\n",
       "    </tr>\n",
       "    <tr>\n",
       "      <th>241271_0:0048e4</th>\n",
       "      <td>LPPPP</td>\n",
       "      <td>LPPPP</td>\n",
       "      <td>LPPPP</td>\n",
       "      <td>LPPPP</td>\n",
       "    </tr>\n",
       "    <tr>\n",
       "      <th>8103_0:0045e4</th>\n",
       "      <td>LPPPP</td>\n",
       "      <td>LPPPP</td>\n",
       "      <td>LPPPP</td>\n",
       "      <td>LPPPP</td>\n",
       "    </tr>\n",
       "    <tr>\n",
       "      <th>56723_0:00152f</th>\n",
       "      <td>LPPPP</td>\n",
       "      <td>LPPPP</td>\n",
       "      <td>LPPPP</td>\n",
       "      <td>LPPPP</td>\n",
       "    </tr>\n",
       "    <tr>\n",
       "      <th>210632_0:004c0c</th>\n",
       "      <td>LPPPP</td>\n",
       "      <td>LPPPP</td>\n",
       "      <td>LPPPP</td>\n",
       "      <td>LPPPP</td>\n",
       "    </tr>\n",
       "    <tr>\n",
       "      <th>31033_0:00264e</th>\n",
       "      <td>LPPPP</td>\n",
       "      <td>LPPPP</td>\n",
       "      <td>LPPPP</td>\n",
       "      <td>LPPPP</td>\n",
       "    </tr>\n",
       "    <tr>\n",
       "      <th>63155_0:004c86</th>\n",
       "      <td>LPPPP</td>\n",
       "      <td>LPPPP</td>\n",
       "      <td>LPPPP</td>\n",
       "      <td>LPPPP</td>\n",
       "    </tr>\n",
       "    <tr>\n",
       "      <th>7994_0:004d71</th>\n",
       "      <td>LPPPP</td>\n",
       "      <td>LPPPP</td>\n",
       "      <td>LPPPP</td>\n",
       "      <td>LPPPP</td>\n",
       "    </tr>\n",
       "    <tr>\n",
       "      <th>109280_0:00369f</th>\n",
       "      <td>LPPPP</td>\n",
       "      <td>LPPPP</td>\n",
       "      <td>LPPPP</td>\n",
       "      <td>LPPPP</td>\n",
       "    </tr>\n",
       "    <tr>\n",
       "      <th>150288_0:004e5a</th>\n",
       "      <td>IPPPP</td>\n",
       "      <td>IPPPP</td>\n",
       "      <td>IPPPP</td>\n",
       "      <td>IPPPP</td>\n",
       "    </tr>\n",
       "  </tbody>\n",
       "</table>\n",
       "</div>"
      ],
      "text/plain": [
       "                    75     113    127    157\n",
       "query_kmer        LPPPP  LPPPP  LPPPP  LPPPP\n",
       "9793_0:005123     LPPPP  LPPPP  LPPPP  LPPPP\n",
       "1706337_0:000fc7  LPPPP  LPPPP  LPPPP  LPPPP\n",
       "51337_0:001b5a    LPPPP  LPPPP  LPPPP  LPPPP\n",
       "9568_0:004ae1     PPMPP  PPMPP  PPMPP  PPMPP\n",
       "43346_0:004190    LPPPP  LPPPP  LPPPP  LPPPP\n",
       "885580_0:00488c   LPDRP  LPDRP  LPDRP  LPDRP\n",
       "10181_0:00305d    APSPP  APSPP  APSPP  APSPP\n",
       "1415580_0:000900  LPPPP  LPPPP  LPPPP  LPPPP\n",
       "61221_0:00105a    LPPPP  LPPPP  LPPPP  LPPPP\n",
       "7897_0:0033c5     LPPPP  LPPPP  LPPPP  LPPPP\n",
       "8407_0:002bff     LPPPP  LPPPP  LPPPP  LPPPP\n",
       "173247_0:004550   LPPPP  LPPPP  LPPPP  LPPPP\n",
       "30732_0:0046dd    LPPPP  LPPPP  LPPPP  LPPPP\n",
       "241271_0:0048e4   LPPPP  LPPPP  LPPPP  LPPPP\n",
       "8103_0:0045e4     LPPPP  LPPPP  LPPPP  LPPPP\n",
       "56723_0:00152f    LPPPP  LPPPP  LPPPP  LPPPP\n",
       "210632_0:004c0c   LPPPP  LPPPP  LPPPP  LPPPP\n",
       "31033_0:00264e    LPPPP  LPPPP  LPPPP  LPPPP\n",
       "63155_0:004c86    LPPPP  LPPPP  LPPPP  LPPPP\n",
       "7994_0:004d71     LPPPP  LPPPP  LPPPP  LPPPP\n",
       "109280_0:00369f   LPPPP  LPPPP  LPPPP  LPPPP\n",
       "150288_0:004e5a   IPPPP  IPPPP  IPPPP  IPPPP"
      ]
     },
     "execution_count": 31,
     "metadata": {},
     "output_type": "execute_result"
    }
   ],
   "source": [
    "aln_results.orthokmer_matrix.loc[[75, 113, 127, 157]].T"
   ]
  },
  {
   "cell_type": "markdown",
   "metadata": {},
   "source": [
    "Note - the k-mers are defined by position rather than sequence. You could easily make a variant of this method that uses the unique sequences instead. It would make the method slightly faster. <br>The reason that I didn't do this is because I wanted to mimic the LLM embedding version of Pairk, where identical k-mers have different embeddings and thus are treated as different k-mers.<br>Inclusion of duplicate k-mers does alter the final z-scores, so it's something to be aware of."
   ]
  },
  {
   "cell_type": "markdown",
   "metadata": {},
   "source": [
    "you can also plot a heatmap of the matrices"
   ]
  },
  {
   "cell_type": "code",
   "execution_count": 35,
   "metadata": {},
   "outputs": [],
   "source": [
    "import matplotlib.pyplot as plt"
   ]
  },
  {
   "cell_type": "code",
   "execution_count": 49,
   "metadata": {},
   "outputs": [
    {
     "data": {
      "image/png": "[encoded data removed]",
      "text/plain": [
       "<Figure size 300x300 with 2 Axes>"
      ]
     },
     "metadata": {},
     "output_type": "display_data"
    }
   ],
   "source": [
    "fig, ax = plt.subplots(figsize=(3,3))\n",
    "aln_results.plot_position_heatmap(ax)\n",
    "ax.xaxis.set_visible(False)"
   ]
  },
  {
   "cell_type": "markdown",
   "metadata": {},
   "source": [
    "### `pairk.pairk_alignment_needleman` - faster"
   ]
  },
  {
   "cell_type": "markdown",
   "metadata": {},
   "source": [
    "This method returns the same results as `pairk.pairk_alignment`, but it is faster.\n",
    "\n",
    "The difference is that the `pairk.pairk_alignment_needleman` method uses the Needleman-Wunsch algorithm to align the k-mers, while the `pairk.pairk_alignment` method uses a scoring matrix to exhaustively score the k-mer matches. It ensures that the alignment is gapless by using an extremely high gap opening and extension penalty (-1000000). This will ensure that the alignment is gapless, unless you use a really unusual scoring matrix with very high scores.\n",
    "\n",
    "This methods take similar arguments as `pairk.pairk_alignment`, accept that the `pairk.pairk_alignment_needleman` method takes an optional `aligner` argument. This allows you to create the aligner before calling the method, which is useful if you want to do multiprocessing, so that you're not creating a new aligner for each process. I've found that if you create a new aligner for each process, the memory usage gets very high, as if the memory isn't being released until the entire script finishes\n",
    "\n",
    "The `aligner` object can be created via the `pairk.create_aligner` function. This function takes the name of the scoring matrix as an argument and returns the aligner object.\n",
    "If you don't pass the `aligner` argument to the `pairk.pairk_alignment_needleman` method, it will create a new aligner using the `matrix_name` argument. This is fine if you're not doing multiprocessing. If you are doing multiprocessing, i would suggest creating the aligner before calling the method. Or using 1 aligner for each process. If the `aligner` argument is passed, the `matrix_name` argument is ignored."
   ]
  },
  {
   "cell_type": "code",
   "execution_count": 58,
   "metadata": {},
   "outputs": [],
   "source": [
    "# Making the aligner ahead of time to demonstrate\n",
    "aligner = pairk.make_aligner('EDSSMat50')"
   ]
  },
  {
   "cell_type": "code",
   "execution_count": 59,
   "metadata": {},
   "outputs": [],
   "source": [
    "aln_results_needleman = pairk.pairk_alignment_needleman(\n",
    "    idr_dict_in=ex1.idr_dict, \n",
    "    query_id=ex1.query_id,\n",
    "    k=5, \n",
    "    aligner=aligner\n",
    ")"
   ]
  },
  {
   "cell_type": "markdown",
   "metadata": {},
   "source": [
    "results are the same as the previous method"
   ]
  },
  {
   "cell_type": "code",
   "execution_count": 60,
   "metadata": {},
   "outputs": [
    {
     "data": {
      "text/plain": [
       "True"
      ]
     },
     "execution_count": 60,
     "metadata": {},
     "output_type": "execute_result"
    }
   ],
   "source": [
    "(aln_results.position_matrix == aln_results_needleman.position_matrix).all().all()"
   ]
  },
  {
   "cell_type": "markdown",
   "metadata": {},
   "source": [
    "### `pairk.pairk_alignment_needleman`\n"
   ]
  },
  {
   "cell_type": "code",
   "execution_count": null,
   "metadata": {},
   "outputs": [],
   "source": []
  },
  {
   "cell_type": "code",
   "execution_count": 63,
   "metadata": {},
   "outputs": [],
   "source": [
    "import pairk.backend.tools.sequence_utils as tools"
   ]
  },
  {
   "cell_type": "code",
   "execution_count": 72,
   "metadata": {},
   "outputs": [],
   "source": [
    "t = '--LPPPP---PP------TEST--'\n",
    "tun, ind = tools.reindex_alignment_str(t)"
   ]
  },
  {
   "cell_type": "code",
   "execution_count": 75,
   "metadata": {},
   "outputs": [
    {
     "data": {
      "text/plain": [
       "''"
      ]
     },
     "execution_count": 75,
     "metadata": {},
     "output_type": "execute_result"
    }
   ],
   "source": [
    "tun, ind = tools.aligned_2_unaligned_index(t)\n"
   ]
  },
  {
   "cell_type": "code",
   "execution_count": 78,
   "metadata": {},
   "outputs": [
    {
     "name": "stdout",
     "output_type": "stream",
     "text": [
      "0 -\n",
      "1 -\n",
      "2 L\n",
      "3 P\n",
      "4 P\n",
      "5 P\n",
      "6 P\n",
      "7 -\n",
      "8 -\n",
      "9 -\n",
      "10 P\n",
      "11 P\n",
      "12 -\n",
      "13 -\n",
      "14 -\n",
      "15 -\n",
      "16 -\n",
      "17 -\n",
      "18 T\n",
      "19 E\n",
      "20 S\n",
      "21 T\n",
      "22 -\n",
      "23 -\n"
     ]
    }
   ],
   "source": [
    "for c, a in enumerate(t):\n",
    "    print(c, a)"
   ]
  },
  {
   "cell_type": "code",
   "execution_count": 77,
   "metadata": {},
   "outputs": [
    {
     "name": "stdout",
     "output_type": "stream",
     "text": [
      "None -\n",
      "None -\n",
      "0 L\n",
      "1 P\n",
      "2 P\n",
      "3 P\n",
      "4 P\n",
      "4 -\n",
      "4 -\n",
      "4 -\n",
      "5 P\n",
      "6 P\n",
      "6 -\n",
      "6 -\n",
      "6 -\n",
      "6 -\n",
      "6 -\n",
      "6 -\n",
      "7 T\n",
      "8 E\n",
      "9 S\n",
      "10 T\n",
      "10 -\n",
      "10 -\n"
     ]
    }
   ],
   "source": [
    "for i, ti in zip(ind, t):\n",
    "    print(i, ti)"
   ]
  },
  {
   "cell_type": "code",
   "execution_count": 71,
   "metadata": {},
   "outputs": [
    {
     "data": {
      "text/plain": [
       "'A--A--A'"
      ]
     },
     "execution_count": 71,
     "metadata": {},
     "output_type": "execute_result"
    }
   ],
   "source": [
    "t = 'A--A--A'\n",
    "tun, ind = tools.reindex_alignment_str(t)\n",
    "t[ind[0]:ind[-1]+1]"
   ]
  },
  {
   "cell_type": "code",
   "execution_count": 80,
   "metadata": {},
   "outputs": [],
   "source": [
    "def find_alnslice_positions_in_unaln(aln, aln_start, aln_end):\n",
    "    positions = []\n",
    "    unaln_index = 0\n",
    "    for i in range(len(aln)):\n",
    "        if aln[i] != '-':\n",
    "            if aln_start <= i < aln_end:\n",
    "                positions.append(unaln_index)\n",
    "            unaln_index += 1\n",
    "    return positions"
   ]
  },
  {
   "cell_type": "code",
   "execution_count": 99,
   "metadata": {},
   "outputs": [
    {
     "name": "stdout",
     "output_type": "stream",
     "text": [
      "P---PP-\n",
      "[4, 5, 6]\n",
      "PPP\n",
      "4 P\n",
      "5 P\n",
      "6 P\n"
     ]
    }
   ],
   "source": [
    "t = '--LPPPP---PP------TEST--'\n",
    "tun = tools.strip_dashes_from_str(t)\n",
    "start = 6\n",
    "end = 13\n",
    "print(t[start:end])\n",
    "unal_pos =find_alnslice_positions_in_unaln(t, start, end)\n",
    "print(unal_pos)\n",
    "if len(unal_pos) == 0:\n",
    "    print('No positions')\n",
    "else:\n",
    "    print(tun[unal_pos[0]:unal_pos[-1]+1])\n",
    "for i in unal_pos:\n",
    "    print(i, tun[i])"
   ]
  },
  {
   "cell_type": "code",
   "execution_count": 69,
   "metadata": {},
   "outputs": [
    {
     "data": {
      "text/plain": [
       "[2, 3, 4, 5, 6, 10, 11, 18, 19, 20, 21]"
      ]
     },
     "execution_count": 69,
     "metadata": {},
     "output_type": "execute_result"
    }
   ],
   "source": [
    "ind\n",
    "# len(t)"
   ]
  },
  {
   "cell_type": "code",
   "execution_count": null,
   "metadata": {},
   "outputs": [],
   "source": []
  },
  {
   "cell_type": "code",
   "execution_count": null,
   "metadata": {},
   "outputs": [],
   "source": []
  },
  {
   "cell_type": "code",
   "execution_count": 8,
   "metadata": {},
   "outputs": [
    {
     "ename": "ValueError",
     "evalue": "Multiple best scores found",
     "output_type": "error",
     "traceback": [
      "\u001b[0;31m---------------------------------------------------------------------------\u001b[0m",
      "\u001b[0;31mValueError\u001b[0m                                Traceback (most recent call last)",
      "Cell \u001b[0;32mIn[8], line 2\u001b[0m\n\u001b[1;32m      1\u001b[0m \u001b[38;5;28;01mimport\u001b[39;00m \u001b[38;5;21;01mpairk\u001b[39;00m\u001b[38;5;21;01m.\u001b[39;00m\u001b[38;5;21;01msingle_kmer\u001b[39;00m \u001b[38;5;28;01mas\u001b[39;00m \u001b[38;5;21;01mpairk_single\u001b[39;00m\n\u001b[0;32m----> 2\u001b[0m \u001b[43mpairk_single\u001b[49m\u001b[38;5;241;43m.\u001b[39;49m\u001b[43mpairk_alignment_single_kmer\u001b[49m\u001b[43m(\u001b[49m\u001b[38;5;124;43m\"\u001b[39;49m\u001b[38;5;124;43mLPPPP\u001b[39;49m\u001b[38;5;124;43m\"\u001b[39;49m\u001b[43m,\u001b[49m\u001b[43m \u001b[49m\u001b[43midr_dict\u001b[49m\u001b[43m)\u001b[49m\n",
      "File \u001b[0;32m~/Dropbox (MIT)/work/07-SLiM_bioinformatics/11-pairk/pairk/backend/kmer_alignment/scoring_matrix.py:222\u001b[0m, in \u001b[0;36mpairk_alignment_single_kmer\u001b[0;34m(kmer, ortholog_idrs, matrix_name)\u001b[0m\n\u001b[1;32m    220\u001b[0m     \u001b[38;5;28;01mcontinue\u001b[39;00m\n\u001b[1;32m    221\u001b[0m \u001b[38;5;28;01mif\u001b[39;00m query_k_scores\u001b[38;5;241m.\u001b[39mcount(best_score) \u001b[38;5;241m>\u001b[39m \u001b[38;5;241m1\u001b[39m:\n\u001b[0;32m--> 222\u001b[0m     \u001b[38;5;28;01mraise\u001b[39;00m \u001b[38;5;167;01mValueError\u001b[39;00m(\u001b[38;5;124m\"\u001b[39m\u001b[38;5;124mMultiple best scores found\u001b[39m\u001b[38;5;124m\"\u001b[39m)\n\u001b[1;32m    223\u001b[0m best_scores[ortholog_id] \u001b[38;5;241m=\u001b[39m best_score\n\u001b[1;32m    224\u001b[0m best_subseqs[ortholog_id] \u001b[38;5;241m=\u001b[39m best_subseq\n",
      "\u001b[0;31mValueError\u001b[0m: Multiple best scores found"
     ]
    }
   ],
   "source": [
    "import pairk.single_kmer as pairk_single\n",
    "pairk_single.pairk_alignment_single_kmer(\"LPPPP\", idr_dict)"
   ]
  },
  {
   "cell_type": "code",
   "execution_count": null,
   "metadata": {},
   "outputs": [],
   "source": []
  },
  {
   "cell_type": "code",
   "execution_count": null,
   "metadata": {},
   "outputs": [],
   "source": [
    "\n",
    "import pairk\n",
    "ex1 = pairk.example1\n",
    "aln_results = pairk.pairk_alignment(\n",
    "    idr_dict_in=ex1.idr_dict, \n",
    "    query_id=ex1.query_id,\n",
    "    k=5, \n",
    "    matrix_name=\"EDSSMat50\"\n",
    ")\n",
    "\n",
    "pairkcons = calculate_pairk_conservation(aln_results, cs.property_entropy)\n",
    "\n"
   ]
  },
  {
   "cell_type": "code",
   "execution_count": null,
   "metadata": {},
   "outputs": [],
   "source": [
    "import pairk\n",
    "ex1 = pairk.example1\n",
    "aln_results = pairk.pairk_alignment(\n",
    "    idr_dict_in=ex1.idr_dict, \n",
    "    query_id=ex1.query_id,\n",
    "    k=5, \n",
    "    matrix_name=\"EDSSMat50\"\n",
    ")\n",
    "\n",
    "ok_arr, score_arr, z_score_arr = calculate_conservation(aln_results.orthokmer_matrix, cs.property_entropy)\n",
    "pairk_conservation = PairkConservation(ok_arr, score_arr, z_score_arr)"
   ]
  },
  {
   "cell_type": "code",
   "execution_count": null,
   "metadata": {
    "lines_to_next_cell": 2
   },
   "outputs": [],
   "source": [
    "pairk_conservation.plot_background_distribution()\n",
    "plt.show()"
   ]
  },
  {
   "cell_type": "code",
   "execution_count": null,
   "metadata": {},
   "outputs": [],
   "source": [
    "pairk_conservation.print_array_hist(pairk_conservation.score_arr, np.linspace(0, 1, 30))\n",
    "pairk_conservation.print_array_hist(pairk_conservation.z_score_arr, 30)"
   ]
  },
  {
   "cell_type": "code",
   "execution_count": null,
   "metadata": {},
   "outputs": [],
   "source": [
    "pairk_conservation.write_results_to_file(\"test.npz\")\n",
    "pkc = PairkConservation.read_results_from_file(\"test.npz\")"
   ]
  },
  {
   "cell_type": "code",
   "execution_count": null,
   "metadata": {
    "lines_to_next_cell": 2
   },
   "outputs": [],
   "source": [
    "print_array_hist(scores, np.linspace(0, 1, 30))\n",
    "print_array_hist(z_scores, 30)"
   ]
  },
  {
   "cell_type": "markdown",
   "metadata": {
    "lines_to_next_cell": 2
   },
   "source": [
    "# Archive"
   ]
  },
  {
   "cell_type": "code",
   "execution_count": null,
   "metadata": {
    "lines_to_next_cell": 0
   },
   "outputs": [],
   "source": [
    "\n",
    "import pairk.backend.kmer_matrix_scoring.conservation_tools.capra_singh_2007_scores as cs\n",
    "import pandas as pd\n",
    "from typing import Callable\n",
    "import numpy as np"
   ]
  },
  {
   "cell_type": "code",
   "execution_count": null,
   "metadata": {
    "lines_to_next_cell": 1
   },
   "outputs": [],
   "source": [
    "\n",
    "aln_results.orthokmer_matrix\n",
    "# check that all elements in the orthokmer_matrix are strings\n",
    "\n",
    "if not all([type(i) == str for i in aln_results.orthokmer_matrix.values.flatten()]):\n",
    "    raise ValueError(\"Orthokmer matrix contains non-string elements\")\n",
    "\n",
    "# I think that numpy will be faster and it's pretty straightforward in this case.\n",
    "orthokmer_arr = aln_results.orthokmer_matrix.values\n",
    "orthokmer_arr[0, :]"
   ]
  },
  {
   "cell_type": "code",
   "execution_count": null,
   "metadata": {
    "lines_to_next_cell": 1
   },
   "outputs": [],
   "source": [
    "def kmerlist_to_columns(seqlist: np.ndarray):\n",
    "    col_strings = []\n",
    "    for c in range(len(seqlist[0])):\n",
    "        col = \"\".join([seqlist[i][c] for i in range(len(seqlist))])\n",
    "        col_strings.append(col)\n",
    "    return col_strings\n",
    "\n",
    "kmerlist_to_columns(orthokmer_arr[0, :])"
   ]
  },
  {
   "cell_type": "code",
   "execution_count": null,
   "metadata": {
    "lines_to_next_cell": 1
   },
   "outputs": [],
   "source": [
    "def score_pseudo_aln(\n",
    "    seqlist: np.ndarray,\n",
    "    score_func: Callable = cs.property_entropy,\n",
    "):\n",
    "    col_strings = kmerlist_to_columns(seqlist)\n",
    "    return [score_func(c) for c in col_strings]\n",
    "\n",
    "score_pseudo_aln(orthokmer_arr[0, :])"
   ]
  },
  {
   "cell_type": "code",
   "execution_count": null,
   "metadata": {
    "lines_to_next_cell": 1
   },
   "outputs": [],
   "source": [
    "\n",
    "def orthokmer_df_to_score_arr(orthokmer_df: pd.DataFrame, score_func: Callable) -> np.ndarray:\n",
    "    orthokmer_arr = orthokmer_df.copy().values\n",
    "    k = len(orthokmer_arr[0,0])\n",
    "    score_arr = np.zeros((orthokmer_arr.shape[0], k))\n",
    "    for i in range(orthokmer_arr.shape[0]):\n",
    "        score_arr[i, :] = score_pseudo_alns(orthokmer_arr[i, :])\n",
    "    return score_arr\n",
    "\n",
    "score_arr = orthokmer_df_to_score_arr(aln_results.orthokmer_matrix, cs.property_entropy)\n",
    "bg_scores = score_arr.flatten()\n",
    "n_bg_scores = len(bg_scores)\n",
    "u = bg_scores.mean()\n",
    "s = bg_scores.std()\n",
    "z_score_arr = (score_arr - u) / s"
   ]
  },
  {
   "cell_type": "code",
   "execution_count": null,
   "metadata": {},
   "outputs": [],
   "source": [
    "# print a text representation of a histogram of the z-scores\n",
    "def print_array_hist(a: np.ndarray, bins=30):\n",
    "    hist, bin_edges = np.histogram(a.flatten(), bins=bins)\n",
    "    for i, h in enumerate(hist):\n",
    "        print(f\"{bin_edges[i]:.2f} - {bin_edges[i+1]:.2f}: {'=' * h}\")\n",
    "\n",
    "print_array_hist(score_arr, np.linspace(0, 1, 30))\n",
    "print_array_hist(score_arr, 10)\n",
    "\n",
    "\n"
   ]
  },
  {
   "cell_type": "code",
   "execution_count": null,
   "metadata": {
    "lines_to_next_cell": 2
   },
   "outputs": [],
   "source": [
    "\n",
    "# convert the score matrix to a z-score matrix\n",
    "def score_to_zscore(score_arr: np.ndarray, bg_scores: np.ndarray) -> np.ndarray:\n",
    "    zscore_arr = np.zeros(score_arr.shape)\n",
    "    for i in range(score_arr.shape[0]):\n",
    "        zscore_arr[i, :] = (score_arr[i, :] - bg_scores.mean()) / bg_scores.std()\n",
    "    return zscore_arr\n",
    "\n",
    "\n",
    "\n",
    "\n",
    "\n",
    "\n",
    "\n",
    "\n",
    "\n",
    "\n",
    "\n",
    "\n",
    "\n",
    "\n",
    "\n",
    "\n",
    "\n",
    "\n",
    "\n",
    "\n",
    "\n"
   ]
  }
 ],
 "metadata": {
  "jupytext": {
   "formats": "ipynb,py:percent"
  },
  "kernelspec": {
   "display_name": "Python 3 (ipykernel)",
   "language": "python",
   "name": "python3"
  },
  "language_info": {
   "codemirror_mode": {
    "name": "ipython",
    "version": 3
   },
   "file_extension": ".py",
   "mimetype": "text/x-python",
   "name": "python",
   "nbconvert_exporter": "python",
   "pygments_lexer": "ipython3",
   "version": "3.12.3"
  }
 },
 "nbformat": 4,
 "nbformat_minor": 4
}
