{
 "cells": [
  {
   "cell_type": "markdown",
   "metadata": {},
   "source": [
    "# Pairk - tutorial notebook"
   ]
  },
  {
   "cell_type": "markdown",
   "metadata": {},
   "source": [
    "## introduction"
   ]
  },
  {
   "cell_type": "markdown",
   "metadata": {},
   "source": [
    "This notebook will go over the basics of how to use the pairk library using an example set of sequences (comes pre-installed with pairk)."
   ]
  },
  {
   "cell_type": "markdown",
   "metadata": {},
   "source": [
    "some text copied from the documentation"
   ]
  },
  {
   "cell_type": "markdown",
   "metadata": {},
   "source": [
    "Pairk is a Python package for quantifying the conservation of motifs within intrinsically disordered regions (IDRs). It will run on any input protein sequences that you provide but it is designed for disordered regions, where multiple sequence alignments are particularly difficult to interpret and unreliable\n",
    "\n",
    "the pairk method can be split into 2 steps, where each step has configurable options:\n",
    "\n",
    "**Step 1: pairwise k-mer alignment**\n",
    "- aligns all of the k-mers in the query sequence to all of the k-mers in the homolog sequences. For each query k-mer, the best matching k-mer from each homolog is selected and recorded. The results are returned in a `PairkAln` object which provides methods for accessing the results and writing/reading the results to/from files.\n",
    "- The way in which the best matching query k-mer - homolog k-mer match is selected is adjustable. The currently implemented methods use either scoring matrices to score the match or use residue embedding distances from the ESM2 protein language model to score the match. Both methods are described in detail below\n",
    "\n",
    "**Step 2: k-mer conservation**\n",
    "- calculates conservation scores for each query k-mer using the results of Step 1. The conservation score results are stored in a `PairkConservation` object which also provides methods for plotting the results as well as writing/reading the results to/from files.\n",
    "- The function used to score the conservation is adjustable."
   ]
  },
  {
   "cell_type": "markdown",
   "metadata": {},
   "source": [
    "make sure that pairk is installed before running this notebook (see the README.md file for installation instructions)"
   ]
  },
  {
   "cell_type": "markdown",
   "metadata": {},
   "source": [
    "## import"
   ]
  },
  {
   "cell_type": "markdown",
   "metadata": {},
   "source": [
    "Most of the functionality of pairk is accessed through the main pairk module, which can be imported directly."
   ]
  },
  {
   "cell_type": "code",
   "execution_count": 1,
   "metadata": {},
   "outputs": [],
   "source": [
    "import pairk"
   ]
  },
  {
   "cell_type": "markdown",
   "metadata": {},
   "source": [
    "## load example data"
   ]
  },
  {
   "cell_type": "markdown",
   "metadata": {},
   "source": [
    "pairk comes with some example data that we can use to test the methods. The example data is stored in the ``pairk.example1`` object."
   ]
  },
  {
   "cell_type": "code",
   "execution_count": 2,
   "metadata": {},
   "outputs": [],
   "source": [
    "ex1 = pairk.example1"
   ]
  },
  {
   "cell_type": "markdown",
   "metadata": {},
   "source": [
    "This example is imported as a python object and holds data that is compatible with the main pairk methods\n",
    "\n",
    "for example, we can access the IDR sequences in a dictionary with ``ex1.idr_dict``\n",
    "or the query id with ``ex1.query_id``"
   ]
  },
  {
   "cell_type": "code",
   "execution_count": 3,
   "metadata": {},
   "outputs": [
    {
     "name": "stdout",
     "output_type": "stream",
     "text": [
      "9606_0:00294e TNLGTVNAAAPAQPSTGPKTGTTQPNGQIPQATHSVSAVLQEAQRHAETSKDKKPALGNHHDPAVPRAPHAPKSSLPPPPPVRRSSDTSGSPATPLKAKGTGGGGLPAPPDDFLPPPPPPPPLDDPELPPPPPDFMEPPPDFVPPPPPSYAGIAGSELPPPPPPPPAPAPAPVPDSARPPPAVAKRPPVPPKRQENPGHPGGAGGGEQDFMSDLMKALQKKRGNVS\n",
      "9793_0:005123 TNVGTGNAATPAPPSTGLKTGTAQANGQIPQAAHSVSTVLNEADRQVDTPKDKKPALSNHDPGTPRAQHLPKSSLPPPPPVRRSSDTSSSPVMPAKGAAGGLPPLLDDSLPPPPPPPPLEDDELPPPPPDFDDAPPNFVPPPPPWDAGASLPPPPPPPPPALALAPEATKPSPVVAKRPPVPPKRQENPAPASGGGGGEQDFMSDLMKALQKKRGNVA\n",
      "1706337_0:000fc7 TNLGTVNAAPPAPSSTGVKTGTTQANGQIPQAAHSMSTVLGEAQRQVETTKDKKSGLGSHDPGAPRAQTLPKSSLPPPPPVRRSSEVGCGSPGTSPKVKGAAAGFPAPPHDLLPPPPPPPPLEDDELPPPPPDFSDAPPDFVPPPPPPSFAGDAGSSLPPPPPPPALAPEAAKPTPVVVKRPPAPPKRQANPGPPGGGGGEQDFMSDLMKALQKKRSNMP\n",
      "51337_0:001b5a TNLGTVNTATPAQPSTGFKTGSSQPNGQIPQTIPSVSAGLQEAQRHETIKDKKPSLSSTEPGAPRDPPGARSSLPPPPPPVRRSSDTCARAASPFPAPPDDLPPPPPPPPLEDPAMLPPPPALPEPPPDCVPPPPPPPGPGPQPARPSPGAGRRPPVPPKRQENPGLPSAGAGGEQDFMSDLMKALQKRGHMP\n",
      "9568_0:004ae1 TNLGTVNAAAPAQPSTGPINGTAQPNGQMPQAAHSVSAVLQEAQRHAETSKVKPARPINGTAQPNGQMPQAAHSVSAVLQEAQRHAETSKRPSPAVAKRPPMPPKRHENPGTPSGAGGGEQDFMSDLMKALQKKRGNVS\n",
      "43346_0:004190 TNLGTVNAVPPAPPSTGVKTGTTQANGQLPQATQSMNTALGEDWRQLETTKDKKPGPGLGSHDPGAPRAQPLPKSSLPPPPPPVRRSSDVGGAPPPSFAEDLPPPPPPPPALAPESVRTPPVVVKRPPPPPKRQENPGPPGGGGGEQDFMSDLMKALQKKRGNVS\n",
      "885580_0:00488c TNLGTVNTAAAAQPPAGLRTGTSQPNGQLPRDAPCLSDALRESQRQADTSKVGPEGQGGHELPDRPKAAFQASTALAASPYSPKH\n",
      "10181_0:00305d TNLGTVSTATAAQPPTGLRTSTTQHNGQLPQAAPHLSAVLQEAQRQAEASKVGPEGNRPKLQQISAPSPPSKPEAVFWHLLLFPASENPPYCNFT\n",
      "1415580_0:000900 PNLSKVDPTVTARSSSSGAVQANGQIHQNVIPVISTNPEAFKRAEDKKPNVGRKPDQAQLQPVPSSNHQQSPKVALHASKIPPPAPARISSQAYSSALTLPSNVKNVNANVLLPPPPSPSPPPPDAFPLPPPCNNDLPPPPDDFYDPPPDFLPPPPPCFATGDRAQLPPGPPLPPPPPSSNQPKPFMKKPVPLPPKRQDITSLHSEQPSLAGPTPVGGGGGQPDFMSDLMKALQKKRGSTS\n",
      "61221_0:00105a AKSGNTESIVAVGTSAKGSTHANGQVPQSITLSKTDSSETGKSAEMPKVKKPDNTADSIQAPTPNTPQLKHQRKAGGSHSAPPMPPQRVSSAVTAPLQLPTNAEGKGKVCPSDAAEFPPPPESMLPPPELEDLPLPPPPPPEYFESPPDFIPPPPPSCAVAVSAGAPPLPPPPPSASLPRMPLSIKKKPPPPPRRQEESAGQAGLPKPSAPPPKTETAGQGDFMSDLMKALEKKRGATS\n",
      "7897_0:0033c5 ANFAKVQSQNTTASSTGSVQANGHAGQVTPVSVSFSEAWKRGDVGKEKQSNDGQDNLPPPPPPPPPPMQGFMNEAFPPPPSLPPIASGSLPPPLRASASAPAPPPISNNFPPPLDELSPPPDDFDFPEPPPDFLPPPPTVSASGVPPPPPPPPPPPAPTAASQPTPLPKKSVPPRRQENTTLSQPRGGGGGGQPDFMSDLTKALQKKRGNAS\n",
      "8407_0:002bff SSLSSSTTPTGAPQGNGQISQNVANVSSSFSDAWKRGETAKDKQQPTEVRKPEQKISLPPSTKQPPPAPVRRPSNAHVVGTPPLPIKAKPVTSNMPPPPPPAEASQWGDDFLPPPPPPELLDTPPNFLPPPPPSFNSESDYPAPPQFTNVGSAGGPPPPPPPPPPPPAALSPKSAPPQLPVKKLPPKPPMRRDSTGQRPNQQNSLMTNGGGAGGQPDFMSDLMSALQKKRSTTT\n",
      "173247_0:004550 MNRSTPSSSNPSTPSPTIKAKTPNQANGHAPKPQPTAPDSMDFGNFPPPPSADILPPPPPDPAFPPPPPSLPAKSSSRPVAPQHKLPANFPPPPMAMDNLPPPPLPPPIDDSPEAPPDFLPPPPPAAGFGSLPPPPLSMNSLPPPPHFGGMDQSLPPPPPDPEFLPPPPPEPVFTGAGAPPPPPPPPPPPPAQAAAVPRAPVRPSGSVRKVPPAPPKRTTPSLQVGGGGGGGDFMSELMVAMQKKRGDH\n",
      "30732_0:0046dd TNRSTPSSSNPSTPSPTVKAKAQSQANGHAPKPQPGPVSQDFGHLPPPPPPCPNDDLPPPPPDPVFPPPPPPLAAKRSPKTAGRSQHPQGNFPPPPPEMDHLPPPPPMEESPPDFLPPPPPMNSLPHPPPPPASFGGVDHSLPPPPPDPEFLPPPPPDPQVTGGGGPPPPPPPPPPPPPASAPAPRGALRPTGSAKKMPPAPPKRTTPVMGGGGGGGGGGGGDFMSELMKAMQKKRSDQ\n",
      "241271_0:0048e4 TNRTPVSSNQSTPSPTIKAKSPNQANGHAAKPQPGPESQDFGNIPPPPPPPPPPMTGFLPPPPPDPVLPPPPPLLAAKSPKPSPPQRNLPTNFPPPAMDNLPPPPPPPMDDSFEDPPDFLPPPPPAAGFGSLPPPPPPVNSFPPPPPSAGFGGMGQSLPPPPPDPGFLPPPPPQPMFTGGGTIPPPPPPPPPPTAAPRAPVRPTGSVKKAPPAPPKRTTPSLHGGGGGGGGGGGDFMSELMMAMNKKRGTT\n",
      "8103_0:0045e4 TNRSTPSSSNPSTPSPPIKAKSPGQANGHALKPEPGPVAQDFGHVPPPPPADILPPPADILPPPPPQTFLPPPPPPLAAKSSSKPSLPQRHLPTNFPPPPPAMINLPRPPQPPPTDDASEAPPDFLPPPPPAAGFSPLFPPPPPLNALPLPPPPVSFRVEDRSLPPPPPDPGFLPPPPPMFTGAGAPPPPPPPPPPPRVAVRPAGSVKKRPPAVPKRTTPSLRGGGGGDFMSELALAMNKKRSAH\n",
      "56723_0:00152f TNRSTPSSSSSSTPSPTIKAKSPSQANGHAPKPQPGPVSQDFGNVPPPPPPMANILPPPRPDAFLPPAPPPLARKNSAKPPPPQRHLPTNFPPPPPAMDNLPPPPPPPPMDDALEAPPDFLPPPPPAAGFGSLPPPPPPSNSFPPPPPPGSFGSMGQSLPPPPPDPGFLPPPPPQPVFTGAGAPPPPPPPPPPPTAAAAPRAPVRPSGSVKKIPPATPKRTTPSLQGGGGGGGGGGGGGGDFMSELMLAMNKKRST\n",
      "210632_0:004c0c ANRSTSSSSNSSTPSPTIKAKSSSQANGIFPKPGPAPQDFGDLPPPPPLAANILPPPPPEPGLPPPPPPPPPQAAKGSAKPAPPKRQMPANFPPPPTAMDNLPPPPPPPPIDNSEAPPDFLPPPPPASGFGSFPPPPPLNSLPPPPRPGGFGGMDQSLPPPPPDPEFLPPPPPPPQAVFTGGGAPPPPPPPPPPPAAAAPSTAIPRVGLRPAGSLKKLPPAPPKRTTPSMQGSGGGGGGDFMSELMLAMQKKRGDHP\n",
      "31033_0:00264e TNCSKPSSDGPPTPPTTIKASPANGHVPKPPPGAAPQDVFPPPPPPMDILPPPPPDPAFPPPPPPLMAKRSPKPSAGHRQAPGDHLPPPPLAPPHDDASEDPPDFLPPPPPSFDSLPPPPPGMSAFPPPPPLLGFSETSQPLPPPPPDPELLLPPPPASMISTGAGAPPPPPPPPPAAAASPRPAPTASGSVRKRPPAPPKRTTPALHGSGGGAGEGAGGGDFMSELMKAMNKKRADHS\n",
      "63155_0:004c86 TNRSTPSSSNQSTPSPTVKAKSPNQANGHPPKPQPGPISQAPFPPPPLAEVLPPPPPDPVLPPPPPMPAKSSAKPSPPKRQQQSNFPPPPPELDNLPPPPPPPPTDDTAEAPPDFLPPPPPAVGFGSLPPPPPSFGGVGQSLPPPPPDPQSLPPPPPDPVFIGAGAPPPPPPPPPPPAPGAPVTTLRPAVRPSGSLKKVPPAPPQRNTPSVSGGGGGGGGDFMSELMLAMQKKRGAQ\n",
      "7994_0:004d71 TSMNRQPSPSTSNTSTPSPTPKAKTANGHASQPRSETVPKAPSNQSAFPPPPPPADFLPPPPPDPTLPPPPPPPPALPVKKESNPPRSAPQRSQPAFPPPPPAMDFSLPPPPPPSDDLEMPPDFLPPPPPAPGGFMGGDLLPPPPPEPFHAPLPPPPAAFHPPPAVHPPPQATGGDLPPPPPPPPPPPPAPAAFHQTPSVRKVGPPPPKRTTPSLAAPSGGDFMSELMLAMNKKRGGQ\n",
      "109280_0:00369f ASCSVTSGQKQSQSQVANGHANNTSPSPLPPPPPPLGEDLPPPPPPPPQLGKTLPPAPPPLGATLPTPPPPPGGTPPPPPPPRRNPPPYPRHLPHISELYPLRRLLLLYQLPTVHSLVLLFQPNLPPNPSPNHDVQRPISRCLPGPQITFPPPPPPPVDDSPPDFLPPPPPAANFGSHPPPPPPVKTLPPPPPHMKTLPPARLSFKSTNLPPPPPDPGFLPPPLTGVPPPPPPPPPPPPTTAAAGPRRAPVRPSGSLKKMPPPPPKRSTPSLHGRRDGDRGDGDGGGGGDFMSELMRAMQKKRDPH\n",
      "150288_0:004e5a HPPDRCSTSSDNLNSQIGQSAPTPDECIEQDEPPPDFIPPPPPGYMAIL\n"
     ]
    }
   ],
   "source": [
    "for id, seq in ex1.idr_dict.items():\n",
    "    print(id, seq)"
   ]
  },
  {
   "cell_type": "code",
   "execution_count": 4,
   "metadata": {},
   "outputs": [
    {
     "name": "stdout",
     "output_type": "stream",
     "text": [
      "9606_0:00294e\n"
     ]
    }
   ],
   "source": [
    "print(ex1.query_id)"
   ]
  },
  {
   "cell_type": "markdown",
   "metadata": {},
   "source": [
    "---"
   ]
  },
  {
   "cell_type": "markdown",
   "metadata": {},
   "source": [
    "# Step 1: pairwise k-mer alignment"
   ]
  },
  {
   "cell_type": "markdown",
   "metadata": {},
   "source": [
    "there are 2 main ways to run the k-mer alignment step:\n",
    "\n",
    "* **Scoring matrix alignment**\n",
    "\n",
    "   * These methods use a scoring matrix to score the query k-mer to homolog k-mer matches and select the best scoring match from each homolog.\n",
    "\n",
    "* **Embedding distance alignment**\n",
    "\n",
    "   * This method uses the Euclidean distance between the query k-mer residue embeddings from a protein large language model (such as ESM2) and homolog k-mer residue embeddings and selects the lowest distance match from each homolog.\n"
   ]
  },
  {
   "cell_type": "markdown",
   "metadata": {},
   "source": [
    "## 1.a Scoring matrix alignment"
   ]
  },
  {
   "cell_type": "markdown",
   "metadata": {},
   "source": [
    "There are 2 implementations of the scoring matrix method:\n",
    "\n",
    "* `pairk.pairk_alignment` - the original implementation. This is a bit slow because it does an exhaustive comparison of all k-mers in the query sequence with all k-mers in the homologs.\n",
    "\n",
    "* `pairk.pairk_alignment_needleman` - a faster implementation that uses the Needleman-Wunsch algorithm (as implemented in Biopython) to align the k-mers. This is faster and should yield the same results."
   ]
  },
  {
   "cell_type": "markdown",
   "metadata": {},
   "source": [
    "inputs common to both functions are:\n",
    "\n",
    "* ``idr_dict``: a dictionary of IDR sequences, where the keys are the sequence ids and the values are the sequences. Includes the query sequence (the sequence to split into k-mers and align with the homologs).\n",
    "* ``query_id``: a query sequence id (the sequence to split into k-mers and align with the homologs). This id should be present in ``idr_dict``.\n",
    "* ``k``: the length of the k-mers\n",
    "\n",
    "These inputs can be generated many ways, and there are helper functions in the pairk library to help with this (see functions in ``pairk.utilities``). "
   ]
  },
  {
   "cell_type": "markdown",
   "metadata": {},
   "source": [
    "### 1.a.1 Scoring matrix - `pairk.pairk_alignment` - slower"
   ]
  },
  {
   "cell_type": "code",
   "execution_count": 5,
   "metadata": {},
   "outputs": [
    {
     "name": "stdout",
     "output_type": "stream",
     "text": [
      "\u001b[0;31mSignature:\u001b[0m\n",
      "\u001b[0mpairk\u001b[0m\u001b[0;34m.\u001b[0m\u001b[0mpairk_alignment\u001b[0m\u001b[0;34m(\u001b[0m\u001b[0;34m\u001b[0m\n",
      "\u001b[0;34m\u001b[0m    \u001b[0midr_dict\u001b[0m\u001b[0;34m:\u001b[0m \u001b[0mdict\u001b[0m\u001b[0;34m[\u001b[0m\u001b[0mstr\u001b[0m\u001b[0;34m,\u001b[0m \u001b[0mstr\u001b[0m\u001b[0;34m]\u001b[0m\u001b[0;34m,\u001b[0m\u001b[0;34m\u001b[0m\n",
      "\u001b[0;34m\u001b[0m    \u001b[0mquery_id\u001b[0m\u001b[0;34m:\u001b[0m \u001b[0mstr\u001b[0m\u001b[0;34m,\u001b[0m\u001b[0;34m\u001b[0m\n",
      "\u001b[0;34m\u001b[0m    \u001b[0mk\u001b[0m\u001b[0;34m:\u001b[0m \u001b[0mint\u001b[0m\u001b[0;34m,\u001b[0m\u001b[0;34m\u001b[0m\n",
      "\u001b[0;34m\u001b[0m    \u001b[0mmatrix_name\u001b[0m\u001b[0;34m:\u001b[0m \u001b[0mstr\u001b[0m \u001b[0;34m=\u001b[0m \u001b[0;34m'EDSSMat50'\u001b[0m\u001b[0;34m,\u001b[0m\u001b[0;34m\u001b[0m\n",
      "\u001b[0;34m\u001b[0m\u001b[0;34m)\u001b[0m \u001b[0;34m->\u001b[0m \u001b[0mpairk\u001b[0m\u001b[0;34m.\u001b[0m\u001b[0mbackend\u001b[0m\u001b[0;34m.\u001b[0m\u001b[0mtools\u001b[0m\u001b[0;34m.\u001b[0m\u001b[0mpairwise_tools\u001b[0m\u001b[0;34m.\u001b[0m\u001b[0mPairkAln\u001b[0m\u001b[0;34m\u001b[0m\u001b[0;34m\u001b[0m\u001b[0m\n",
      "\u001b[0;31mDocstring:\u001b[0m\n",
      "run pairwise k-mer alignment method using an exhaustive comparison of k-mers.\n",
      "Each query k-mer is scored against each ortholog k-mer to find the best matching\n",
      "ortholog k-mer in each ortholog. If a ortholog IDR is shorter than the k-mer, a\n",
      "string of \"-\" characters (\"-\"\\*k) is assigned as the best matching ortholog k-mer for that\n",
      "ortholog.\n",
      "\n",
      "**Note**: if there are multiple top-scoring matches, only one is returned.\n",
      "\n",
      "Parameters\n",
      "----------\n",
      "idr_dict : dict[str, str]\n",
      "    input sequences in dictionary format with the key being the sequence id and\n",
      "    the value being the sequence as a string\n",
      "query_id : str\n",
      "    the id of the query sequence within the `idr_dict` dictionary\n",
      "k : int\n",
      "    the length of the k-mers to use for the alignment\n",
      "matrix_name : str, optional\n",
      "    The name of the scoring matrix to use in the algorithm, by default \"EDSSMat50\".\n",
      "    The available matrices can be viewed with the function `pairk.print_available_matrices()`.\n",
      "\n",
      "Returns\n",
      "-------\n",
      "pairwise_tools.PairkAln\n",
      "    an object containing the alignment results. See the `pairk.PairkAln` class for more information.\n",
      "\u001b[0;31mFile:\u001b[0m      ~/pairk_repo/pairk/backend/kmer_alignment/scoring_matrix.py\n",
      "\u001b[0;31mType:\u001b[0m      function"
     ]
    }
   ],
   "source": [
    "pairk.pairk_alignment?"
   ]
  },
  {
   "cell_type": "code",
   "execution_count": 6,
   "metadata": {},
   "outputs": [],
   "source": [
    "aln_results = pairk.pairk_alignment(\n",
    "    idr_dict=ex1.idr_dict,\n",
    "    query_id=ex1.query_id,\n",
    "    k=5,\n",
    ")"
   ]
  },
  {
   "cell_type": "markdown",
   "metadata": {},
   "source": [
    "To specify the scoring matrix used, you can pass the name of the matrix to the ``matrix_name`` argument.\n",
    "\n",
    "To see the available matrices, use the `pairk.print_available_matrices()` function."
   ]
  },
  {
   "cell_type": "code",
   "execution_count": 2,
   "metadata": {},
   "outputs": [
    {
     "name": "stdout",
     "output_type": "stream",
     "text": [
      "biopython-builtin matrices (aligner compatible):\n",
      "BENNER22\n",
      "BENNER6\n",
      "BENNER74\n",
      "BLASTN\n",
      "BLASTP\n",
      "BLOSUM45\n",
      "BLOSUM50\n",
      "BLOSUM62\n",
      "BLOSUM80\n",
      "BLOSUM90\n",
      "DAYHOFF\n",
      "FENG\n",
      "GENETIC\n",
      "GONNET1992\n",
      "HOXD70\n",
      "JOHNSON\n",
      "JONES\n",
      "LEVIN\n",
      "MCLACHLAN\n",
      "MDM78\n",
      "MEGABLAST\n",
      "NUC.4.4\n",
      "PAM250\n",
      "PAM30\n",
      "PAM70\n",
      "RAO\n",
      "RISLER\n",
      "SCHNEIDER\n",
      "STR\n",
      "TRANS\n",
      "\n",
      "other matrices:\n",
      "grantham_similarity_normx100_aligner_compatible\n",
      "BLOSUM62\n",
      "EDSSMat50\n",
      "grantham\n",
      "grantham_similarity_norm\n"
     ]
    }
   ],
   "source": [
    "pairk.print_available_matrices()"
   ]
  },
  {
   "cell_type": "markdown",
   "metadata": {},
   "source": [
    "### Scoring matrix - `pairk.pairk_alignment_needleman` - faster"
   ]
  },
  {
   "cell_type": "code",
   "execution_count": 8,
   "metadata": {},
   "outputs": [
    {
     "name": "stdout",
     "output_type": "stream",
     "text": [
      "\u001b[0;31mSignature:\u001b[0m\n",
      "\u001b[0mpairk\u001b[0m\u001b[0;34m.\u001b[0m\u001b[0mpairk_alignment_needleman\u001b[0m\u001b[0;34m(\u001b[0m\u001b[0;34m\u001b[0m\n",
      "\u001b[0;34m\u001b[0m    \u001b[0midr_dict\u001b[0m\u001b[0;34m:\u001b[0m \u001b[0mdict\u001b[0m\u001b[0;34m[\u001b[0m\u001b[0mstr\u001b[0m\u001b[0;34m,\u001b[0m \u001b[0mstr\u001b[0m\u001b[0;34m]\u001b[0m\u001b[0;34m,\u001b[0m\u001b[0;34m\u001b[0m\n",
      "\u001b[0;34m\u001b[0m    \u001b[0mquery_id\u001b[0m\u001b[0;34m:\u001b[0m \u001b[0mstr\u001b[0m\u001b[0;34m,\u001b[0m\u001b[0;34m\u001b[0m\n",
      "\u001b[0;34m\u001b[0m    \u001b[0mk\u001b[0m\u001b[0;34m:\u001b[0m \u001b[0mint\u001b[0m\u001b[0;34m,\u001b[0m\u001b[0;34m\u001b[0m\n",
      "\u001b[0;34m\u001b[0m    \u001b[0maligner\u001b[0m\u001b[0;34m:\u001b[0m \u001b[0mBio\u001b[0m\u001b[0;34m.\u001b[0m\u001b[0mAlign\u001b[0m\u001b[0;34m.\u001b[0m\u001b[0mPairwiseAligner\u001b[0m \u001b[0;34m|\u001b[0m \u001b[0;32mNone\u001b[0m \u001b[0;34m=\u001b[0m \u001b[0;32mNone\u001b[0m\u001b[0;34m,\u001b[0m\u001b[0;34m\u001b[0m\n",
      "\u001b[0;34m\u001b[0m    \u001b[0mmatrix_name\u001b[0m\u001b[0;34m:\u001b[0m \u001b[0mstr\u001b[0m \u001b[0;34m=\u001b[0m \u001b[0;34m'EDSSMat50'\u001b[0m\u001b[0;34m,\u001b[0m\u001b[0;34m\u001b[0m\n",
      "\u001b[0;34m\u001b[0m\u001b[0;34m)\u001b[0m \u001b[0;34m->\u001b[0m \u001b[0mpairk\u001b[0m\u001b[0;34m.\u001b[0m\u001b[0mbackend\u001b[0m\u001b[0;34m.\u001b[0m\u001b[0mtools\u001b[0m\u001b[0;34m.\u001b[0m\u001b[0mpairwise_tools\u001b[0m\u001b[0;34m.\u001b[0m\u001b[0mPairkAln\u001b[0m\u001b[0;34m\u001b[0m\u001b[0;34m\u001b[0m\u001b[0m\n",
      "\u001b[0;31mDocstring:\u001b[0m\n",
      "run pairwise k-mer alignment method using the needleman-wunsch algorithm as\n",
      "implemented in Biopython. Each query k-mer is scored against each ortholog\n",
      "k-mer to find the best matching ortholog k-mer in each ortholog. If a ortholog\n",
      "IDR is shorter than the k-mer, a string of \"-\" characters  (\"-\"\\*k) is\n",
      "assigned as the best matching ortholog k-mer for that ortholog\n",
      "\n",
      "**Note**: if there are multiple top-scoring matches, only one is returned.\n",
      "\n",
      "Parameters\n",
      "----------\n",
      "idr_dict : dict[str, str]\n",
      "    input sequences in dictionary format with the key being the sequence id and\n",
      "    the value being the sequence as a string\n",
      "query_id : str\n",
      "    the id of the query sequence within the `idr_dict` dictionary\n",
      "k : int\n",
      "    the length of the k-mers to use for the alignment\n",
      "aligner : Align.PairwiseAligner | None, optional\n",
      "    The Biopython pairwise aligner object to use in the pairwise gapless alignments,\n",
      "    by default None. If None, then an aligner object will be created using the scoring\n",
      "    matrix specified in `matrix_name`. If an aligner object is provided, it will\n",
      "    take precedence over the `matrix_name` parameter, i.e. the `matrix_name` parameter\n",
      "    will be ignored.\n",
      "matrix_name : str, optional\n",
      "    The name of the scoring matrix to use in the algorithm, by default \"EDSSMat50\".\n",
      "    The available matrices can be viewed with the function `print_available_matrices()`\n",
      "    in `pairk.backend.tools.matrices`. If an aligner object is provided,\n",
      "    this parameter **will be ignored**.\n",
      "\n",
      "Returns\n",
      "-------\n",
      "pairwise_tools.PairkAln\n",
      "    an object containing the alignment results. See the `pairk.PairkAln` class for more information.\n",
      "\u001b[0;31mFile:\u001b[0m      ~/pairk_repo/pairk/backend/kmer_alignment/scoring_matrix_needleman.py\n",
      "\u001b[0;31mType:\u001b[0m      function"
     ]
    }
   ],
   "source": [
    "pairk.pairk_alignment_needleman?"
   ]
  },
  {
   "cell_type": "markdown",
   "metadata": {},
   "source": [
    "This method returns the same results as ``pairk.pairk_alignment``, but it is faster.\n",
    "\n",
    "The difference is that the ``pairk.pairk_alignment_needleman`` method uses the Needleman-Wunsch algorithm to align the k-mers, while the ``pairk.pairk_alignment`` method uses a scoring matrix to exhaustively score the k-mer matches. ``pairk.pairk_alignment_needleman`` ensures that the alignment is gapless by using an extremely high gap opening and extension penalty (-1000000). This will ensure that the alignment is gapless, unless you use a really unusual scoring matrix with very high scores.\n",
    "\n",
    "This method takes similar arguments as ``pairk.pairk_alignment``, accept that the ``pairk.pairk_alignment_needleman`` method takes an optional ``aligner`` argument. This allows you to create the aligner before calling the method, which is useful if you want to do multiprocessing, so that you're not creating a new aligner for each process. I've found that if you create a new aligner for each process, the memory usage gets very high, as if the memory isn't being released until the entire script finishes\n",
    "\n",
    "The ``aligner`` object can be created via the ``pairk.create_aligner`` function. This function takes the name of the scoring matrix as an argument and returns the aligner object. If you don't pass the ``aligner`` argument to the ``pairk.pairk_alignment_needleman`` method, it will create a new aligner using the ``matrix_name`` argument. This is fine if you're not doing multiprocessing. If you are doing multiprocessing, I would suggest creating the aligner before calling the method. If the ``aligner`` argument is passed, the ``matrix_name`` argument is ignored.\n"
   ]
  },
  {
   "cell_type": "code",
   "execution_count": 9,
   "metadata": {},
   "outputs": [],
   "source": [
    "aligner = pairk.make_aligner('EDSSMat50')"
   ]
  },
  {
   "cell_type": "code",
   "execution_count": 10,
   "metadata": {},
   "outputs": [],
   "source": [
    "aln_results_needleman = pairk.pairk_alignment_needleman(\n",
    "    idr_dict=ex1.idr_dict,\n",
    "    query_id=ex1.query_id,\n",
    "    k=5,\n",
    "    aligner=aligner\n",
    ")"
   ]
  },
  {
   "cell_type": "markdown",
   "metadata": {},
   "source": [
    "results are the same as the `pairk.pairk_alignment` method in this case"
   ]
  },
  {
   "cell_type": "code",
   "execution_count": 11,
   "metadata": {},
   "outputs": [
    {
     "data": {
      "text/plain": [
       "True"
      ]
     },
     "execution_count": 11,
     "metadata": {},
     "output_type": "execute_result"
    }
   ],
   "source": [
    "(aln_results.position_matrix == aln_results_needleman.position_matrix).all().all()"
   ]
  },
  {
   "cell_type": "markdown",
   "metadata": {},
   "source": [
    "## Embedding distance alignment"
   ]
  },
  {
   "cell_type": "markdown",
   "metadata": {},
   "source": [
    "This method uses the Euclidean distance between the query k-mer residue embeddings and homolog k-mer residue embeddings and selects the lowest distance match from each homolog. For each homolog, it calculates the distance between the query k-mer and each k-mer in the homolog. It then selects the k-mer with the lowest distance as the best match."
   ]
  },
  {
   "cell_type": "markdown",
   "metadata": {},
   "source": [
    "### embedding distance - `pairk.pairk_alignment_embedding_distance`"
   ]
  },
  {
   "cell_type": "code",
   "execution_count": 12,
   "metadata": {},
   "outputs": [
    {
     "name": "stdout",
     "output_type": "stream",
     "text": [
      "\u001b[0;31mSignature:\u001b[0m\n",
      "\u001b[0mpairk\u001b[0m\u001b[0;34m.\u001b[0m\u001b[0mpairk_alignment_embedding_distance\u001b[0m\u001b[0;34m(\u001b[0m\u001b[0;34m\u001b[0m\n",
      "\u001b[0;34m\u001b[0m    \u001b[0mfull_length_sequence_dict\u001b[0m\u001b[0;34m:\u001b[0m \u001b[0mdict\u001b[0m\u001b[0;34m[\u001b[0m\u001b[0mstr\u001b[0m\u001b[0;34m,\u001b[0m \u001b[0mstr\u001b[0m\u001b[0;34m]\u001b[0m\u001b[0;34m,\u001b[0m\u001b[0;34m\u001b[0m\n",
      "\u001b[0;34m\u001b[0m    \u001b[0midr_position_map\u001b[0m\u001b[0;34m:\u001b[0m \u001b[0mdict\u001b[0m\u001b[0;34m[\u001b[0m\u001b[0mstr\u001b[0m\u001b[0;34m,\u001b[0m \u001b[0mlist\u001b[0m\u001b[0;34m[\u001b[0m\u001b[0mint\u001b[0m\u001b[0;34m]\u001b[0m\u001b[0;34m]\u001b[0m\u001b[0;34m,\u001b[0m\u001b[0;34m\u001b[0m\n",
      "\u001b[0;34m\u001b[0m    \u001b[0mquery_id\u001b[0m\u001b[0;34m:\u001b[0m \u001b[0mstr\u001b[0m\u001b[0;34m,\u001b[0m\u001b[0;34m\u001b[0m\n",
      "\u001b[0;34m\u001b[0m    \u001b[0mk\u001b[0m\u001b[0;34m:\u001b[0m \u001b[0mint\u001b[0m\u001b[0;34m,\u001b[0m\u001b[0;34m\u001b[0m\n",
      "\u001b[0;34m\u001b[0m    \u001b[0mmod\u001b[0m\u001b[0;34m:\u001b[0m \u001b[0mpairk\u001b[0m\u001b[0;34m.\u001b[0m\u001b[0mbackend\u001b[0m\u001b[0;34m.\u001b[0m\u001b[0mtools\u001b[0m\u001b[0;34m.\u001b[0m\u001b[0mesm_tools\u001b[0m\u001b[0;34m.\u001b[0m\u001b[0mESM_Model\u001b[0m\u001b[0;34m,\u001b[0m\u001b[0;34m\u001b[0m\n",
      "\u001b[0;34m\u001b[0m    \u001b[0mdevice\u001b[0m\u001b[0;34m:\u001b[0m \u001b[0mstr\u001b[0m \u001b[0;34m=\u001b[0m \u001b[0;34m'cuda'\u001b[0m\u001b[0;34m,\u001b[0m\u001b[0;34m\u001b[0m\n",
      "\u001b[0;34m\u001b[0m    \u001b[0mprecomputed_embeddings\u001b[0m\u001b[0;34m:\u001b[0m \u001b[0;32mNone\u001b[0m \u001b[0;34m|\u001b[0m \u001b[0mdict\u001b[0m\u001b[0;34m[\u001b[0m\u001b[0mstr\u001b[0m\u001b[0;34m,\u001b[0m \u001b[0mtorch\u001b[0m\u001b[0;34m.\u001b[0m\u001b[0mTensor\u001b[0m\u001b[0;34m]\u001b[0m \u001b[0;34m=\u001b[0m \u001b[0;32mNone\u001b[0m\u001b[0;34m,\u001b[0m\u001b[0;34m\u001b[0m\n",
      "\u001b[0;34m\u001b[0m\u001b[0;34m)\u001b[0m\u001b[0;34m\u001b[0m\u001b[0;34m\u001b[0m\u001b[0m\n",
      "\u001b[0;31mDocstring:\u001b[0m\n",
      "run pairwise k-mer alignment method using sequence embeddings from the\n",
      "ESM2 protein large language model to find the best k-mer matches from each\n",
      "homolog. If a ortholog IDR is shorter than the k-mer, a string of \"-\"\n",
      "characters (\"-\"\\*k) is assigned as the best matching ortholog k-mer for that\n",
      "ortholog\n",
      "\n",
      "**Note**: if there are multiple top-scoring matches, only one is returned.\n",
      "\n",
      "Sequence embeddings are calculated for each full length sequence in the\n",
      "input dictionary. The `idr_position_map` dictionary is used to extract the\n",
      "IDR and the IDR embeddings from each sequence. The Euclidean distance is\n",
      "calculated between each query k-mer embedding slice and each ortholog k-mer\n",
      "embedding slice to find the best matching ortholog k-mer from each ortholog.\n",
      "\n",
      "\n",
      "Parameters\n",
      "----------\n",
      "full_length_sequence_dict : dict[str, str]\n",
      "    input sequences in dictionary format with the key being the sequence id and\n",
      "    the value being the sequence as a string\n",
      "idr_position_map : dict[str, list[int]]\n",
      "    a dictionary where the keys are the sequence ids in `full_length_sequence_dict`\n",
      "    and the values are the start and end positions of the IDR in the sequence\n",
      "    (using python indexing). This is used to slice out the IDR\n",
      "    embeddings/sequences from the full-length embeddings/sequences.\n",
      "query_id : str\n",
      "    the id of the query sequence within the `full_length_sequence_dict` dictionary\n",
      "    and the `idr_position_map` dictionary. The query id must be present in\n",
      "    both dictionaries.\n",
      "k : int\n",
      "    the length of the k-mers to use for the alignment\n",
      "mod : esm_tools.ESM_Model\n",
      "    ESM2 model used to generate the embeddings\n",
      "device : str, optional\n",
      "    whether to use cuda or cpu for pytorch, must be either \"cpu\" or \"cuda\",\n",
      "    by default \"cuda\". If \"cuda\" fails, it will default to \"cpu\". This\n",
      "    argument is passed to the `esm_tools.ESM_Model.encode` method.\n",
      "precomputed_embeddings : None | dict[str, torch.Tensor], optional\n",
      "    a dictionary where the keys are the sequence ids in `full_length_sequence_dict`\n",
      "    and the values are the precomputed embeddings for each sequence. If this\n",
      "    is provided, the function will use these embeddings instead of computing\n",
      "    them.\n",
      "\n",
      "Returns\n",
      "-------\n",
      "pairwise_tools.PairkAln\n",
      "    an object containing the alignment results. See the `pairk.PairkAln`\n",
      "    class for more information.\n",
      "\u001b[0;31mFile:\u001b[0m      ~/pairk_repo/pairk/backend/kmer_alignment/esm_embedding_distance.py\n",
      "\u001b[0;31mType:\u001b[0m      function"
     ]
    }
   ],
   "source": [
    "pairk.pairk_alignment_embedding_distance?"
   ]
  },
  {
   "cell_type": "markdown",
   "metadata": {},
   "source": [
    "This method generates residue embeddings using the ESM2 protein large language model. \n",
    "\n",
    "Because residue embeddings are used, the inputs are slightly different than the previous methods. \n",
    "\n",
    "The inputs are:\n",
    "\n",
    "* ``full_length_sequence_dict``: a dictionary of full-length sequences, where the keys are the sequence ids and the values are the sequences. This is used to generate the embeddings.\n",
    "* ``idr_position_map``: a dictionary where the keys are the full-length sequence ids and the values are the start and end positions of the IDR in the full-length sequence (using python indexing). This is used to slice out the IDR embeddings/sequences from the full-length embeddings/sequences.\n",
    "* ``query_id``: a query sequence id (the sequence to split into k-mers and align with the homologs). This id should be present in ``idr_position_map`` and ``full_length_sequence_dict``.\n",
    "* ``k`` - the length of the k-mers\n",
    "* ``mod`` - a ``pairk.ESM_Model`` object. This is the ESM2 model used to generate the embeddings. The code for the ESM2 embeddings is adapted from the kibby conservation tool [link](https://github.com/esbgkannan/kibby) DOI: 10.1093/bib/bbac599\n",
    "* ``device`` - whether to use cuda or your cpu for pytorch, should be either \"cpu\" or \"cuda\". (default is \"cuda\"). If \"cuda\" fails, it will default to \"cpu\". This argument is passed to the ``pairk.ESM_Model.encode`` method"
   ]
  },
  {
   "cell_type": "markdown",
   "metadata": {},
   "source": [
    "Full length sequences (``full_length_sequence_dict``) are required to generate the embeddings because each embedding is dependent upon the neighboring residues. The embeddings for just an IDR are different than the embeddings for a full length sequences. Thus, the full length embeddings are gathered first, and then the IDR embeddings are sliced out for the k-mer alignment. \n",
    "\n",
    "The ``idr_position_map`` is used to slice out the IDR embeddings, and there must be IDR positions for each sequence in the input sequence set."
   ]
  },
  {
   "cell_type": "markdown",
   "metadata": {},
   "source": [
    "Our example has both of those"
   ]
  },
  {
   "cell_type": "code",
   "execution_count": 13,
   "metadata": {},
   "outputs": [
    {
     "data": {
      "text/plain": [
       "{'9606_0:00294e': 'MGESSEDIDQMFSTLLGEMDLLTQSLGVDTLPPPDPNPPRAEFNYSVGFKDLNESLNALEDQDLDALMADLVADISEAEQRTIQAQKESLQNQHHSASLQASIFSGAASLGYGTNVAATGISQYEDDLPPPPADPVLDLPLPPPPPEPLSQEEEEAQAKADKIKLALEKLKEAKVKKLVVKVHMNDNSTKSLMVDERQLARDVLDNLFEKTHCDCNVDWCLYEIYPELQIERFFEDHENVVEVLSDWTRDTENKILFLEKEEKYAVFKNPQNFYLDNRGKKESKETNEKMNAKNKESLLEESFCGTSIIVPELEGALYLKEDGKKSWKRRYFLLRASGIYYVPKGKTKTSRDLACFIQFENVNIYYGTQHKMKYKAPTDYCFVLKHPQIQKESQYIKYLCCDDTRTLNQWVMGIRIAKYGKTLYDNYQRAVAKAGLASRWTNLGTVNAAAPAQPSTGPKTGTTQPNGQIPQATHSVSAVLQEAQRHAETSKDKKPALGNHHDPAVPRAPHAPKSSLPPPPPVRRSSDTSGSPATPLKAKGTGGGGLPAPPDDFLPPPPPPPPLDDPELPPPPPDFMEPPPDFVPPPPPSYAGIAGSELPPPPPPPPAPAPAPVPDSARPPPAVAKRPPVPPKRQENPGHPGGAGGGEQDFMSDLMKALQKKRGNVS',\n",
       " '9793_0:005123': 'MGESNEDIDQMFSHLLGEMDLLTKSLGVDTLPPPDPKPPRAEFNFSVGFKDLNESLNALEDQDLDALMADLVADISEAEQRTIQAQRESSQDQLHSASLEKSNFSGAASLGYGADMAIMSTSQYGDELPPPPADPMLDLPLPPPPPEPLSQEEQEAAAKADKIKLALEKLKEAKVKKLVVKVHMNDNSTKSLMVDERQLARDILDNLFEKTHCDCNIDWCLYEIYPELQIERFFEDHENVVEVLSDWTRDTENKVVFLEKEEKYAVFKNPQNFYLDNKGKKESKETNGKMNAKNKESLLEESFCGTSIIVPELEGALYLKEDGKKSWKKRYFLLRASGIYYVPKGKTKTSRDLACFIQFENVNIYYGTQCKMRYKAPTDYCFVLKHPQIQKESQYIKYLCCDDARTLNQWVTGIRIAKYGKTLYDNYQRAMARAGLASRWTNVGTGNAATPAPPSTGLKTGTAQANGQIPQAAHSVSTVLNEADRQVDTPKDKKPALSNHDPGTPRAQHLPKSSLPPPPPVRRSSDTSSSPVMPAKGAAGGLPPLLDDSLPPPPPPPPLEDDELPPPPPDFDDAPPNFVPPPPPWDAGASLPPPPPPPPPALALAPEATKPSPVVAKRPPVPPKRQENPAPASGGGGGEQDFMSDLMKALQKKRGNVA',\n",
       " '1706337_0:000fc7': 'MGDPGACRLDELMRVSTMGESNEDIDQMFSNLLGEMDLLTQSLGVDTVPPPEPKPPRAEFNYSVGFKDLNESLNALEDQDLDALMADLVADIREAEQRTIQAQKESSQSRPHSASLDIPSFSGAASLGYTANVAAPSINQYEDDLPPPPADPMLDLPLPPPTPEPLSQEEEEAQAKADKIKLALEKLKEAKVKKLVVKVHMNDNSTKSLMVDERQLARDVLDNLFEKTHCDCNVDWCLYEIYPELQIERFFEDHENVVEILSDWTRDTENKVLFLEKEEKYAVFKNPQNFYLDNRGKKESKETNEKMNAKNKESLLEESFCGTSIIVPELEGALYLKEDGKKSWKRRYFLLRASGIYYVPKGKTKTSRDLACFIQFENVNIYYGIQCKMKYKAPTDYCFVLKHPQIQKESQYIKYLCCDDARMLNQWVTGIRIAKYGKTLYDSYQRAMARAGLASRWTNLGTVNAAPPAPSSTGVKTGTTQANGQIPQAAHSMSTVLGEAQRQVETTKDKKSGLGSHDPGAPRAQTLPKSSLPPPPPVRRSSEVGCGSPGTSPKVKGAAAGFPAPPHDLLPPPPPPPPLEDDELPPPPPDFSDAPPDFVPPPPPPSFAGDAGSSLPPPPPPPALAPEAAKPTPVVVKRPPAPPKRQANPGPPGGGGGEQDFMSDLMKALQKKRSNMP',\n",
       " '51337_0:001b5a': 'MGESNEDIDQMFSTLLGEMDLLTQSLGVDTLPPPDPKPPRAEFNYSVGFKDLNESLNALEDQDLDALMADLVADISEAEQRTIQAQKESFQNQSHFAPPETSAHSSAACHGDAAHAASITISQCEGDLPPPPADPVLDLPLPPPPPEPLSQEEEEALAKADKIKLALEKLKEAKVKKLVVKVHMFDNSTKSLMVDERQLARDVLDNLFEKTHCDCSVDWCLYETYPELQIERFFEDHENVVEVLSDWTRDTENKVLFLKKEEKYAVFKNPQNFYLDNKGKKENKETSEKMNAKNKEYLLEESFCGTSVLVPELEGALYLKEDGKKSWKRRYFLLRASGIYYVPKGKTKTSRDLACFIQFENVNIYYGIQCKMKYKAPTDYCFVLKHPQIQKESQYIRHLCCDDAHTLHQWVMGIRIAKYGKTLYDNYQRAVARAGLASRWTNLGTVNTATPAQPSTGFKTGSSQPNGQIPQTIPSVSAGLQEAQRHETIKDKKPSLSSTEPGAPRDPPGARSSLPPPPPPVRRSSDTCARAASPFPAPPDDLPPPPPPPPLEDPAMLPPPPALPEPPPDCVPPPPPPPGPGPQPARPSPGAGRRPPVPPKRQENPGLPSAGAGGEQDFMSDLMKALQKRGHMP',\n",
       " '9568_0:004ae1': 'MGESSEDIDQMFSTLLGEMDLLTQSLGVDTLPPPDPNPPRAEFNYSVGFKDLNESLNALEDQDLEALMADLVADISEAEQRTIQAQKESSQNQHHSASLQASNFSGAAPLGHGTNVAATGISQYEDDLPPPPADPVLDLPLPPPPPEPLSQEEEEAQAKADKIKLALEKLKEAKVKKLVVKVHMDDNSTKSLMVDERQLARDVLDNLFEKTHCDCNVDWCLYEIYPELQIEKESVKSVHVRYNLIRGKVSSCKVVPQNFYLDNRGKKESKETNEKMNAKNKESLLEESFCGTSIIVPELEGALYLKEDGKKSWKRRYFLLRASGIYYVPKGKTKTSRDLACFIQFENVNIYYGTQHKMKYKAPTDYCFVLKHPQIQKESQYIKYLCCDDARTLNQWVMGIRIAKYGKTLYDNYQRAVAKAGLASRWTNLGTVNAAAPAQPSTGPINGTAQPNGQMPQAAHSVSAVLQEAQRHAETSKVKPARPINGTAQPNGQMPQAAHSVSAVLQEAQRHAETSKRPSPAVAKRPPMPPKRHENPGTPSGAGGGEQDFMSDLMKALQKKRGNVS',\n",
       " '43346_0:004190': 'MDVQAEVNLPLHKLFFLTYLPIDGPFRGKKEMGQLSPRTRLLLDCLFLDFFLFQMGESNEDIDQMFSNLLGEMDLLTQSLGVDILPPPDPKPPRAEFNYSVGFKDLNESLNALEDQDLDALMADLVADISEAEQRTIQAQKESPQKQSPSASLCVPSFSDTASLGYGANVAAPSQYDDDLPPPPADPMLDLPLPPPPPGPISQEEEEAQAKADKIKLALEKLKEAKVKKLVVKILMNDNSSKSLMVDERQLARDVLDNLFEKTHCDCNVDWCLYEIYPELQIERFFEDHENVVEILSDWTRDTENKLLFLEKEEKYAVFKNPQNFYLDNKGKKENKETNEKMNAKNKESLLEESFCGTSVIVPELEGALYLKEDGKKSWKRRYFLLRASGIYYVPKGKTKTSRDLACFIQFENVNIYYGIQCKMKYKAPTDYCFVLKHPQIQKESQYIKYLCCDDARALSQWVTGIRIAKYGKTLYDNYQRAMARAGLASRWTNLGTVNAVPPAPPSTGVKTGTTQANGQLPQATQSMNTALGEDWRQLETTKDKKPGPGLGSHDPGAPRAQPLPKSSLPPPPPPVRRSSDVGGAPPPSFAEDLPPPPPPPPALAPESVRTPPVVVKRPPPPPKRQENPGPPGGGGGEQDFMSDLMKALQKKRGNVS',\n",
       " '885580_0:00488c': 'MGESHDDIDQMFSTLLGEMDLLTQSLGVDTLPPPAPEPPRAEFNYTVGFKDLNESLNALEDQDLDALMADLVADISEAEQRTIQAQRESCQSQNHASSLGASDCGGVTSVGYAANVTAVGISPYEDDLPPPPDDPMLDLPPPPPPPEPLSKEEEEAQAKADKIKLALEKLKEAKVKKLVVKVHMNDNSTKSLMVDERQLARDVLDNLFEKTHCDCSVDWCLYEIYPELQIERFFEDHENVVEVLSDWTRDTENKVLFLEKEEKYAVFKNPQNFYLDNKGKKEVKQTKEKMNAKTKESLLEESFCGTSVIVPELEGALYLKEDGKKAWKRRYFLLRASGIYYVPKGKTKTSRDLACFIQFENVNVYYGVQCRVKYKAPSEHCFVLKHPQIQKESQYIKYLCCDDARTLHQWVTGIRVAKYGKTLYENYQRAVARAGLASRWTNLGTVNTAAAAQPPAGLRTGTSQPNGQLPRDAPCLSDALRESQRQADTSKVGPEGQGGHELPDRPKAAFQASTALAASPYSPKH',\n",
       " '10181_0:00305d': 'MGQSHHLFTWTIARESLLSSPLHPSLFSCPMQLALGRITRQSYQMGESNDDIDQMFSTLLGEMDLLTQSLGVDTLPPPDPDPPRPEFNYTVGFKDLNESLNALEDQDLDALMADLVADISEAEQRTIQAQKESSQSQNHAASLEASDCSGDASVGSGANVTAVNISQYEDELPPPPADPMLDLPPPPPPPEPLSKEEEEAQAKADKIRLALEKLKEAKVKKLVVKVHMNDNSTKSLMVDERQLARDVLDNLFEKTHCDCSVDWCLYEIYPELQIERFFEDHENVVEVLSDWTRDTENKVLFLEKEEKYAVFKNPQNFYLDNKGKKEGKKTNEKMNAKNKESLLEESFCGTSIIVPELEGALYLKEDGKKAWKRRYFLLRASGIYYVPKGKTKTSRDLACFIQFENVNIYYGVQCKMKYKAPTDHCFVLKHPQIQKESQYIKYLCCDDARTLNQWVTGIRIAKYGKTLHENYQRAVARAGLASRWTNLGTVSTATAAQPPTGLRTSTTQHNGQLPQAAPHLSAVLQEAQRQAEASKVGPEGNRPKLQQISAPSPPSKPEAVFWHLLLFPASENPPYCNFT',\n",
       " '1415580_0:000900': 'MEQACDDIDQMFSDLLGEMDLLTQSLGVETIPPPSPKAPNTEFNFSVGFKDLNESLNALEDNDLDALMADLMADINETEKKTFQAQKPPSSSQRSTFTDPEPGFSIAASFDYQSNIPAAYTQDFEDYLPPLPLPPKLDLALPLPPPEPSEPLSKEELESKAKTDKIKLALEKMKEAKVKKLVIKVLMDDDSSKTLMVDERQTARDILDNLFEKTHCDCNIDWCLYEVYQELQIERWFEDHENIVDALSGWTRDSENKMLFLQKKEKYAVFKNPQNFYLAKKGKDAGKEMNEKNKESLLKESFCGTSVIVPELEGALYLKEDGKKSWKKRYFLLRASGIYYVPKGKTKTSRDLACFIQFDNVNIYYGTQYKVKFKAPTDHCFVLKHPQIQKESQYIKYLCCDDSWTLHQWVTGIRIAKFGKTLYDNYRFAVQQMGLASRWPNLSKVDPTVTARSSSSGAVQANGQIHQNVIPVISTNPEAFKRAEDKKPNVGRKPDQAQLQPVPSSNHQQSPKVALHASKIPPPAPARISSQAYSSALTLPSNVKNVNANVLLPPPPSPSPPPPDAFPLPPPCNNDLPPPPDDFYDPPPDFLPPPPPCFATGDRAQLPPGPPLPPPPPSSNQPKPFMKKPVPLPPKRQDITSLHSEQPSLAGPTPVGGGGGQPDFMSDLMKALQKKRGSTS',\n",
       " '61221_0:00105a': 'MEEACEDIDQMFSDLLGEMDLLTQSLGVETLPPPPTKASSDEFNFAVGFKDLNESLNALEDTDLDALMADLVADISEVERSTLQEPKDASRYQQVGTMQPSADAGASYGCRTDLSNIANAHVDSGLPPPSVELDFDLPPPPPSTPPAPPSELLTKEEQETQAKADKIKLALEKLKEAKVKKLVIKVHMNDNSTKSLMVDERQVARDVLDNLFEKTHCDCNIDWCLYEMCPELQIERFFEDHENVIGVLSDWTRDSENKLLFLEKSEKYAVFKNPQNFYLSNKGKNEIKVMNEKSKESLLEESFCGTSVIVPEVEGALYLKEDGKKSWKKRYFLLRASGIYYVPKGKTKTSRDLACFIQFENVNVYYGIQYKMKYKAPTDHCFVLKHPQIQRESQYIKYLCCEDQQALHHWVTGIRIAKYGKTLYDNYIRAAHKAGLASRLAKSGNTESIVAVGTSAKGSTHANGQVPQSITLSKTDSSETGKSAEMPKVKKPDNTADSIQAPTPNTPQLKHQRKAGGSHSAPPMPPQRVSSAVTAPLQLPTNAEGKGKVCPSDAAEFPPPPESMLPPPELEDLPLPPPPPPEYFESPPDFIPPPPPSCAVAVSAGAPPLPPPPPSASLPRMPLSIKKKPPPPPRRQEESAGQAGLPKPSAPPPKTETAGQGDFMSDLMKALEKKRGATS',\n",
       " '7897_0:0033c5': 'MEQACDDIDAMFSDLLGEMDMLTQSLEVESLHPAVPPALNTDFSFAVGFKDLNESLSALEDTDLDALMADLVADINKVEVETSKGHNSALQDSALPPPPSEDVGVIASSIYIPAFPGSTAVNTGYFSEPLPPPPPLPRPPPDADILLPSKPSETLTQEEIEAKAKADKIKDALEKLKEAKVKKLVIKVHMNDESSKTLMVDERQPVREILDNLFEKTHCDCCVDWCLYEINPDLQIERFFEDHENLVEILLHWTRDSENKILFVEHKEKYAVFRNPQNYYLAKKGKGAEKDMKEKMKESLLEESFCGTSVIVPELEGALYLKEDGKKSWKRRYFLLRASGIYYVPKGKTKTSRDLACFIQFDNVNVYYGMQYKVKYKAPTDHCFILKHPQIQKESQYIKYLCCDNQWTLYQWVTGIRIAKYGKTLYDNYKIAIQKAGLASRWANFAKVQSQNTTASSTGSVQANGHAGQVTPVSVSFSEAWKRGDVGKEKQSNDGQDNLPPPPPPPPPPMQGFMNEAFPPPPSLPPIASGSLPPPLRASASAPAPPPISNNFPPPLDELSPPPDDFDFPEPPPDFLPPPPTVSASGVPPPPPPPPPPPAPTAASQPTPLPKKSVPPRRQENTTLSQPRGGGGGGQPDFMSDLTKALQKKRGNAS',\n",
       " '8407_0:002bff': 'MEQTCEEIDEMFSNLLGEMDLLTQSLAVESPPPPTTTKAGTDGNVLFGFKDFDSLNTLEDNDLDALMAELVADCTDAEMKVNNQISNSVAFSSNVDSFAYNIPDFTHDLPTGSTDDLSFLPPPPPSEWEMDLPPPPPDPEEPTEKDALESRDKVDKIMLALDKMKEAKVKKLIVKIHMTDNSTKTLMVDERQTVRDILDNVFEKTHCDCTIEWCLYEENPDLQIERFFEDHENIVEILSDWTRDSENKIRFLKKNEKYAVFKNPQNFYMARKGSADMKDMNEKSKVSLLEQSFCAASVVVPDLEGAIYLKEDGKKSWKKRYFLLRASGIYYVPKGKTKTSRDLACFIQFDNVNVYYGMQYKVRYKAPTDHCFVLKHPQIQKESQYIKYLCCDEPWVLHQWVTGIRIAKYGKVLYENYKSAIHKAGLASRWSSLSSSTTPTGAPQGNGQISQNVANVSSSFSDAWKRGETAKDKQQPTEVRKPEQKISLPPSTKQPPPAPVRRPSNAHVVGTPPLPIKAKPVTSNMPPPPPPAEASQWGDDFLPPPPPPELLDTPPNFLPPPPPSFNSESDYPAPPQFTNVGSAGGPPPPPPPPPPPPAALSPKSAPPQLPVKKLPPKPPMRRDSTGQRPNQQNSLMTNGGGAGGQPDFMSDLMSALQKKRSTTT',\n",
       " '173247_0:004550': 'MEDIDAMFSDLLGEMDLLTQSLGQETVPPEALPPTNQEVNYSIGFTDLNESLHELEDNDLDALMADLVADLNATEEKLAAEIKGLKTPSPTTSDLPPPPKGLSLHPPSPHPLPASPASSTSSSVSTPASSAASSLPPPPPQNAKPTKEEIEAQMKADKIKLALEKLKEAKVKKLVVKVLMNDGSSKTLMVDERQNVREVLDNLFEKTHCDCNVDWSLCETNPELQLDRTFEDHENLVEPLSAWMRDSENQVLFQERGEKYEVFKNPQNFYLWKKDKRALKDIKDKDKEILIQENFCGTSIIVPDLEGVLHLKEDGKKSWKQRLFQLRASGIYYVPKGKTKSSRDLVCFLQFDNVNVYYGKDFKTKYKAPTDFCFVLKHPQIQKESQYIKYLCCDDARTMNLWVTGIRIAKYGVSLYENYKTAEKKAAVNSVWMNRSTPSSSNPSTPSPTIKAKTPNQANGHAPKPQPTAPDSMDFGNFPPPPSADILPPPPPDPAFPPPPPSLPAKSSSRPVAPQHKLPANFPPPPMAMDNLPPPPLPPPIDDSPEAPPDFLPPPPPAAGFGSLPPPPLSMNSLPPPPHFGGMDQSLPPPPPDPEFLPPPPPEPVFTGAGAPPPPPPPPPPPPAQAAAVPRAPVRPSGSVRKVPPAPPKRTTPSLQVGGGGGGGDFMSELMVAMQKKRGDH',\n",
       " '30732_0:0046dd': 'MEDIDAMFSDLLGEMNLLTQSLGQEAAPAADPPTSTKEVNFSIGFSDLNASLNELEDKDLDDLMSDLMADLNATEEKLAAELQSLEAPPPPDLPPPPKGLIAPAAAAPTSPASPASVCTPSSTATSPLPAPPPQSVKPSKEDLEAQLKAEKIKLALEKLKEAKVKKLVVKVLMNDGSSKTLMVDERQTVREVLDNLFEKTHCDCNVDWSLRETNHELQLERTFEDHENLVEPLSAWTRDSENKVLFLERGEKYEVFKNPQNFYLWKKDKKALKEIKDKDKEILIKENFCGTSTIVPDLESVLHLREDGKKSWKQRLFQLRASGIYYVPKGKTKSSRDLVCFVQFDNINVYYGNDFKTKYKAPTDFCFVLKHPQIQKESQYIKYLCCDDAWTMNLWVTGIRIAKYGSVLYENFKTAEKKAVVSSAWTNRSTPSSSNPSTPSPTVKAKAQSQANGHAPKPQPGPVSQDFGHLPPPPPPCPNDDLPPPPPDPVFPPPPPPLAAKRSPKTAGRSQHPQGNFPPPPPEMDHLPPPPPMEESPPDFLPPPPPMNSLPHPPPPPASFGGVDHSLPPPPPDPEFLPPPPPDPQVTGGGGPPPPPPPPPPPPPASAPAPRGALRPTGSAKKMPPAPPKRTTPVMGGGGGGGGGGGGDFMSELMKAMQKKRSDQ',\n",
       " '241271_0:0048e4': 'MDDIDAMFSEMLGEMDLLTQSLDSSLGPETLPPEPLPSTNKEVNYSFGFTDLNASLHELEDNDLDALMADLVADLSATEEKLAAQIEDLKMPSPPPSDLPAPPVGLSTHPTSSIASPTSPASSTSSNVSTPASSSTSPLPPPPPQAAKPTMEEIEAQMKADKIKLALEKLKEAKVKKLVVKVLLNDGSTKTLMVDERQSVREVLDNLFEKTHCDCNVDWSLCETNPELNLERTFEDHENLVEPLLAWTRDSENKILFQERPGKNEVFKNPQNFYLWKKDKRALKEIKDRDKELLVQENFCGTSIIVPDLEAVLYLKEDGKKSWKQRLFQLRASGIYYVPKGKTKSSRDLVCFIQFDNVNVYYGKDFKSKYKAPTDFCFVLKHPQIQKESQYIKYLCCDDAWTMNLWVTGIRIAKYGVSLYENFKAAEKKAANSVWTNRTPVSSNQSTPSPTIKAKSPNQANGHAAKPQPGPESQDFGNIPPPPPPPPPPMTGFLPPPPPDPVLPPPPPLLAAKSPKPSPPQRNLPTNFPPPAMDNLPPPPPPPMDDSFEDPPDFLPPPPPAAGFGSLPPPPPPVNSFPPPPPSAGFGGMGQSLPPPPPDPGFLPPPPPQPMFTGGGTIPPPPPPPPPPTAAPRAPVRPTGSVKKAPPAPPKRTTPSLHGGGGGGGGGGGDFMSELMMAMNKKRGTT',\n",
       " '8103_0:0045e4': 'MDDIDAMFSDLLGEMDLLTQSLGQETVPPASLPSTNEEVNLSIGFTDLNESLNELEDTDLDALMADLMADLNATEEKLAAQIEDLKVPSPPPSDLQPPPKGLSIRPVSSLASPTSPASSTGSNVSTSATSPLPPPPPQAAKPTKEEIEAQIKADKIKLALEKLKEAKVKKLVVKVLMNDGSAKTLMVDERQTVREVLDNMFEKTHCDCNVDWSLCETNPELQLERAFEDHENLVEPLLAWTRDSENKVLFQERGEKYEVFKNPQNFYLWKKDMRALKDIKDQDKELLIQENFCGTSIIVPDLEGVMHLKEDGKKSWKPRLFQLRASGIYYVPKGKTKSSRDLVCFVQFDNLNIYYGKDFKGKYKAPTDFCFLLKHPQIQKESQYIKYLCCDDAGSMNLWVTGIRIAKYGASLYDNYKTAEKKAAVSSVWTNRSTPSSSNPSTPSPPIKAKSPGQANGHALKPEPGPVAQDFGHVPPPPPADILPPPADILPPPPPQTFLPPPPPPLAAKSSSKPSLPQRHLPTNFPPPPPAMINLPRPPQPPPTDDASEAPPDFLPPPPPAAGFSPLFPPPPPLNALPLPPPPVSFRVEDRSLPPPPPDPGFLPPPPPMFTGAGAPPPPPPPPPPPRVAVRPAGSVKKRPPAVPKRTTPSLRGGGGGDFMSELALAMNKKRSAH',\n",
       " '56723_0:00152f': 'MDDIDAMFTDLLGEMDLLTQSLDQPTVVPEPLPSTTEMNYSIGFTDLNESLHELEDHDLDALMADLVADINATEEKLTAQMKDQKVPPPPSSDLPAPPKGLSTYSASSIASPTSPASSTGSNVSTPASSSASPLPPPPPQSAKPTMEEIEAQMKADKIKLALEKLKEAKVKKLVVKVLLTDGSSKTLMVDERQNVREVLDNLFEKTHCDCNVDWSLCETNYELNLERIFEDHENLVEPLLAWTRDTENKVLFQERTEKNDMFRNPQNFYLWKKDKKALKEIKDRDKELLVQENFCGTSVIVPDLEAVLYLKEDGKKSWKQRLFQLRASGIYYVPKGKTKSSRDLVCFVQFDNMNVYYGKDFKTRYKAPTDFCFVLKHPQIQKDSQYIKYLCCDDAWTMNLWVTGIRIAKYGASLYENFKAAEKAAVSSVWTNRSTPSSSSSSTPSPTIKAKSPSQANGHAPKPQPGPVSQDFGNVPPPPPPMANILPPPRPDAFLPPAPPPLARKNSAKPPPPQRHLPTNFPPPPPAMDNLPPPPPPPPMDDALEAPPDFLPPPPPAAGFGSLPPPPPPSNSFPPPPPPGSFGSMGQSLPPPPPDPGFLPPPPPQPVFTGAGAPPPPPPPPPPPTAAAAPRAPVRPSGSVKKIPPATPKRTTPSLQGGGGGGGGGGGGGGDFMSELMLAMNKKRST',\n",
       " '210632_0:004c0c': 'MVDIDAMFSDLLGEMDLLTQSLEQEVAPPKSLPALPSADKEVNFSIGFSDLNESLGELEDNDLDALMADLMADLNATEEKLAAEIEELKVPSLPPANLPAPKNLSIHPASSITSPPSASPAGSSSTLASSSLPPPPPQSVKPTTEEMEAQMKADKIKLALEKLKEAKVKKLVVKVMMNDGSSKTLMVDERQNVREVLDNMFEKTHCDCNVDWSLCETNPELQLERAFEDHENLVDLLSTWMRDSENKVLFQERKEKNEVFKNPQNFYLWKKDKKALKDIKDKDKGLLIQENFCGTSIIVPDLEGILHLKEDGKKSWKQRLFQLRASGIYYVPKGKTKSSRDLVCFVQFDNVNVYYSKDYKSKYKAPTDFCFVLKHPQIQKESQYIKYLCCDDAWTLNLWVTGIRIAKYGVALHENFKTAEQKAATSSAWANRSTSSSSNSSTPSPTIKAKSSSQANGIFPKPGPAPQDFGDLPPPPPLAANILPPPPPEPGLPPPPPPPPPQAAKGSAKPAPPKRQMPANFPPPPTAMDNLPPPPPPPPIDNSEAPPDFLPPPPPASGFGSFPPPPPLNSLPPPPRPGGFGGMDQSLPPPPPDPEFLPPPPPPPQAVFTGGGAPPPPPPPPPPPAAAAPSTAIPRVGLRPAGSLKKLPPAPPKRTTPSMQGSGGGGGGDFMSELMLAMQKKRGDHPPAVLASGT',\n",
       " '31033_0:00264e': 'MKMDDIDAMFSEMLGEMDLLTKSLDQEMAPPDAPPSTSEEVSFSIGFPDLNESLQELEDSDLDALMADLVADLNATEQKLAAEIEDLKVPPPPQPHLPPKSRGAVSTSSSCSPSPASSATSPLPVPPPQSVKPSMEEIEAQMKADKIKLALEKLKEAKVKKLVVKVLLNDGSSKTLMVDERQSVRDVLDNLFEKTHCDCNVDWSLCETNAELQLERTFEDHENLVEPLLAWTRDSQNKVFFQERPEKNEVFKNPQNFYLWKKDKKTLQAIKDKDKEILIKENFCGTSIIVPDLEAVLHLREDGKKSWKQRLFQLRASGLYYVPKGKTKSSRDLICFVQFDNLNVYYGKDFRSKYKAPTEFCFVLKHPQIQKESQYIKYLCCDDAWTMNLWVAGIRIAKYGTALHQNYQTALRKAAVTSAWTNCSKPSSDGPPTPPTTIKASPANGHVPKPPPGAAPQDVFPPPPPPMDILPPPPPDPAFPPPPPPLMAKRSPKPSAGHRQAPGDHLPPPPLAPPHDDASEDPPDFLPPPPPSFDSLPPPPPGMSAFPPPPPLLGFSETSQPLPPPPPDPELLLPPPPASMISTGAGAPPPPPPPPPAAAASPRPAPTASGSVRKRPPAPPKRTTPALHGSGGGAGEGAGGGDFMSELMKAMNKKRADHS',\n",
       " '63155_0:004c86': 'MDDIDAMFSAMLGEMDLLTQSLGEEKAHPEPHPSSDKQVNFSIGFTDLNESLHELEDNDLDMLMADLMADLNATEEKLAAEIHGLKEPPQPKPDPLPLPRGSSNAPVSEHILPASSGGSGSSNVSTPAPSAACSLPPPPPQCVKPTMDDIEAQAKADKIKLALEKLKEAKVKKLVVKVLMNDGSSKTLMVDERQNVREVLDNMFEKTHCDCNVNWSLCETNPELQLERAFEEHENLVESLSAWIRDSENKVLFQERPEKYEVFKNPQNFYLWKKDKKTLKDIKDKDKELLIQENFCGTSIIVPDLEGVLHLKEDGKKSWKQRLFQLRASGIYYVPKGKTKSSRDLVCFVQFDNMNVYYGKDFKTKHKAPTDFCFVLKHPQIQKDSQYIKYLCCDDAWTMNLWVTGIRIAKYGASLYENYKTAEIKGSNSMWTNRSTPSSSNQSTPSPTVKAKSPNQANGHPPKPQPGPISQAPFPPPPLAEVLPPPPPDPVLPPPPPMPAKSSAKPSPPKRQQQSNFPPPPPELDNLPPPPPPPPTDDTAEAPPDFLPPPPPAVGFGSLPPPPPSFGGVGQSLPPPPPDPQSLPPPPPDPVFIGAGAPPPPPPPPPPPAPGAPVTTLRPAVRPSGSLKKVPPAPPQRNTPSVSGGGGGGGGDFMSELMLAMQKKRGAQ',\n",
       " '7994_0:004d71': 'MDDIDAMFTDMLEEMDLLTQSLGAEATEPTPPSKSSSSSSFNSMPEMSNFSIGFTDLNASLNELEDNDLDSLMADLVADLNATEELFAAEKGGVKEPRPPPAVTVPAVHFGSAAPIAPAAPTPSKPKNDVTSCPPAGNTQSLPPPPPASTRPSTDDPEAQKAEKIKLALEKLKEAKVKKLIVKVEITDGSSKTLMVDERQTVRDVMDNLFEKTHCDGNVDWCLCETNPELQTERGFEDHENLVEPLSAWTRDSENKVLFHERKDKYEVFKNPQNFYMWKKDKKSLMDMKDKDKELLLEENFCGTSVIVPDLEGMMYLKEEGKKSWKQRYFLLRASGLYYLPKGKTKSSKDMVCLVQFDNMNVYYCSEYKTKYKAPTDYCFILKHPQIQKESQYIKYLCCDDKWTMTLWVTGIRIAKYGKTMYENYKTAARKGSSLSAVWTSMNRQPSPSTSNTSTPSPTPKAKTANGHASQPRSETVPKAPSNQSAFPPPPPPADFLPPPPPDPTLPPPPPPPPALPVKKESNPPRSAPQRSQPAFPPPPPAMDFSLPPPPPPSDDLEMPPDFLPPPPPAPGGFMGGDLLPPPPPEPFHAPLPPPPAAFHPPPAVHPPPQATGGDLPPPPPPPPPPPPAPAAFHQTPSVRKVGPPPPKRTTPSLAAPSGGDFMSELMLAMNKKRGGQ',\n",
       " '109280_0:00369f': 'MDDIDAMFSDLLGEMDLLTQSLGQEQAPPPSSPPEAEQEVNLSIGFTDLNASLNELEDNDLDALMADLVADLNATEEKLAAEIESLKEPQPEPLPPPSVGPPSSSPPLSSDSSTTFPSSTLPPPPPQSSKPTMEEIEAQIKADKIKLALEKLKEAKVKKLVVKVCMNDGSSKTLMVDERQNVREVLDNLCEKTHCDYNVDWSLCETNPELQLERTFEDHEHLVEPLLAWTRDSENQILFQESSDKYEVFKNPQKFYLWKKDKKVLKDMKDKDKEILIKENFCGTSIMVPDLEGVLHLKEDGKKSWKPRLFQLRASGIYYVPKGKTKSSRDLVCFVQFDNVNVYYGKDFRAKHKAPSDFCFVLKHPQIQKDSQYIKYLCCDDAWTMNLWVTGIRIAKYGSNLYENFKTAEKKAAVGSAWASCSVTSGQKQSQSQVANGHANNTSPSPLPPPPPPLGEDLPPPPPPPPQLGKTLPPAPPPLGATLPTPPPPPGGTPPPPPPPRRNPPPYPRHLPHISELYPLRRLLLLYQLPTVHSLVLLFQPNLPPNPSPNHDVQRPISRCLPGPQITFPPPPPPPVDDSPPDFLPPPPPAANFGSHPPPPPPVKTLPPPPPHMKTLPPARLSFKSTNLPPPPPDPGFLPPPLTGVPPPPPPPPPPPPTTAAAGPRRAPVRPSGSLKKMPPPPPKRSTPSLHGRRDGDRGDGDGGGGGDFMSELMRAMQKKRDPH',\n",
       " '150288_0:004e5a': 'MDDIDVMFSHLLEEMDDLTQSLVQSADTAADAQTNSSGASDLNEPLNNLDKSESDHLLAQPEETLPVDNQTAPSDPPLPSASSVTLASPTTLAMLKLEPMEVQNESPAPKLTMPQTANNEKPPQTIIKVWMSDGSTKTLMVEGTQTVRDVLDKLFEKTYCDCATEWSLCEINQELHVERILEDHECFVESLSMWSSVTDNKLYFLKRPQKYVIFTQPQFFYMWKRSSLKAISEQEQQLLLKENFGGLTAVVPDLEGWLYLKDDGRKVWKPRYFVLRASGLYYVPKGKTKSSSDLACFVRFEQVNVYSADGHRIRYRAPTDYCFVLKHPCIQKESQYVKFLCCENEDTVLLWVNSIRIAKYGTVLYENYKTALKRAQHPPDRCSTSSDNLNSQIGQSAPTPDECIEQDEPPPDFIPPPPPGYMAIL'}"
      ]
     },
     "execution_count": 13,
     "metadata": {},
     "output_type": "execute_result"
    }
   ],
   "source": [
    "ex1.full_length_dict"
   ]
  },
  {
   "cell_type": "code",
   "execution_count": 14,
   "metadata": {},
   "outputs": [
    {
     "data": {
      "text/plain": [
       "{'9606_0:00294e': [440, 665],\n",
       " '9793_0:005123': [440, 657],\n",
       " '1706337_0:000fc7': [457, 676],\n",
       " '51337_0:001b5a': [440, 632],\n",
       " '9568_0:004ae1': [426, 564],\n",
       " '43346_0:004190': [492, 656],\n",
       " '885580_0:00488c': [440, 524],\n",
       " '10181_0:00305d': [484, 578],\n",
       " '1415580_0:000900': [439, 679],\n",
       " '61221_0:00105a': [440, 678],\n",
       " '7897_0:0033c5': [442, 653],\n",
       " '8407_0:002bff': [430, 663],\n",
       " '173247_0:004550': [432, 680],\n",
       " '30732_0:0046dd': [425, 663],\n",
       " '241271_0:0048e4': [435, 685],\n",
       " '8103_0:0045e4': [429, 673],\n",
       " '56723_0:00152f': [430, 685],\n",
       " '210632_0:004c0c': [429, 685],\n",
       " '31033_0:00264e': [420, 658],\n",
       " '63155_0:004c86': [431, 667],\n",
       " '7994_0:004d71': [439, 676],\n",
       " '109280_0:00369f': [418, 723],\n",
       " '150288_0:004e5a': [376, 424]}"
      ]
     },
     "execution_count": 14,
     "metadata": {},
     "output_type": "execute_result"
    }
   ],
   "source": [
    "ex1.idr_position_map"
   ]
  },
  {
   "cell_type": "markdown",
   "metadata": {},
   "source": [
    "The ``mod`` input is required so that you can preload the ESM model before running the method. You preload the ESM model with ``pairk.ESM_Model()``"
   ]
  },
  {
   "cell_type": "code",
   "execution_count": 15,
   "metadata": {},
   "outputs": [
    {
     "name": "stdout",
     "output_type": "stream",
     "text": [
      "\u001b[0;31mInit signature:\u001b[0m \u001b[0mpairk\u001b[0m\u001b[0;34m.\u001b[0m\u001b[0mESM_Model\u001b[0m\u001b[0;34m(\u001b[0m\u001b[0mmodel_name\u001b[0m\u001b[0;34m:\u001b[0m \u001b[0mstr\u001b[0m \u001b[0;34m=\u001b[0m \u001b[0;34m'esm2_t33_650M_UR50D'\u001b[0m\u001b[0;34m,\u001b[0m \u001b[0mthreads\u001b[0m\u001b[0;34m:\u001b[0m \u001b[0mint\u001b[0m \u001b[0;34m=\u001b[0m \u001b[0;36m1\u001b[0m\u001b[0;34m)\u001b[0m\u001b[0;34m\u001b[0m\u001b[0;34m\u001b[0m\u001b[0m\n",
      "\u001b[0;31mDocstring:\u001b[0m     \n",
      "This was adapted from the kibby conservation method: DOI: 10.1093/bib/bbac599.\n",
      "see https://github.com/esbgkannan/kibby\n",
      "\n",
      "Class that loads a specified ESM model. Provides a method for encoding protein sequences.\n",
      "\n",
      "available models:\n",
      "- esm1b_t33_650M_UR50S\n",
      "\n",
      "- esm2_t6_8M_UR50D\n",
      "\n",
      "- esm2_t12_35M_UR50D\n",
      "\n",
      "- esm2_t30_150M_UR50D\n",
      "\n",
      "- esm2_t33_650M_UR50D (default)\n",
      "\n",
      "- esm2_t36_3B_UR50D\n",
      "\n",
      "\n",
      "\n",
      "Attributes\n",
      "----------\n",
      "model_name : str\n",
      "    the name of the model that was loaded.\n",
      "threads : int\n",
      "    the number of threads for pytorch to use, by default 1.\n",
      "\u001b[0;31mFile:\u001b[0m           ~/Dropbox (MIT)/work/07-SLiM_bioinformatics/11-pairk/pairk/backend/tools/esm_tools.py\n",
      "\u001b[0;31mType:\u001b[0m           type\n",
      "\u001b[0;31mSubclasses:\u001b[0m     "
     ]
    }
   ],
   "source": [
    "pairk.ESM_Model?"
   ]
  },
  {
   "cell_type": "markdown",
   "metadata": {},
   "source": [
    "you can use pre-generated embeddings by providing them in a dictionary format to the `precomputed_embeddings` argument. The keys should be the sequence ids and the values should be full length sequence embedding tensors. For each sequence, the tensor.shape[0] should be equal to l+2, where l is the length of the full length sequence. The +2 is for the start and end tokens. If you provide precomputed embeddings, the `mod` and `device` arguments are ignored."
   ]
  },
  {
   "cell_type": "markdown",
   "metadata": {},
   "source": [
    "The ``pairk.pairk_alignment_embedding_distance`` method returns a ``PairkAln`` object, just like the previous methods"
   ]
  },
  {
   "cell_type": "markdown",
   "metadata": {},
   "source": [
    "example usage: loading the ESM2 model and running the method"
   ]
  },
  {
   "cell_type": "code",
   "execution_count": 16,
   "metadata": {},
   "outputs": [],
   "source": [
    "mod = pairk.ESM_Model(threads=4)\n",
    "aln_results_embedding = pairk.pairk_alignment_embedding_distance(\n",
    "    full_length_sequence_dict=ex1.full_length_dict,\n",
    "    idr_position_map=ex1.idr_position_map,\n",
    "    query_id=ex1.query_id,\n",
    "    k=5,\n",
    "    mod=mod,\n",
    "    device=\"cpu\"\n",
    ")"
   ]
  },
  {
   "cell_type": "markdown",
   "metadata": {},
   "source": [
    "## k-mer alignment results"
   ]
  },
  {
   "cell_type": "markdown",
   "metadata": {},
   "source": [
    "The results of the above pairwise k-mer alignment methods are returned as a ``PairkAln`` object."
   ]
  },
  {
   "cell_type": "code",
   "execution_count": 17,
   "metadata": {},
   "outputs": [
    {
     "name": "stdout",
     "output_type": "stream",
     "text": [
      "\u001b[0;31mInit signature:\u001b[0m\n",
      "\u001b[0mpairk\u001b[0m\u001b[0;34m.\u001b[0m\u001b[0mPairkAln\u001b[0m\u001b[0;34m(\u001b[0m\u001b[0;34m\u001b[0m\n",
      "\u001b[0;34m\u001b[0m    \u001b[0morthokmer_df\u001b[0m\u001b[0;34m:\u001b[0m \u001b[0mpandas\u001b[0m\u001b[0;34m.\u001b[0m\u001b[0mcore\u001b[0m\u001b[0;34m.\u001b[0m\u001b[0mframe\u001b[0m\u001b[0;34m.\u001b[0m\u001b[0mDataFrame\u001b[0m\u001b[0;34m,\u001b[0m\u001b[0;34m\u001b[0m\n",
      "\u001b[0;34m\u001b[0m    \u001b[0mpos_df\u001b[0m\u001b[0;34m:\u001b[0m \u001b[0mpandas\u001b[0m\u001b[0;34m.\u001b[0m\u001b[0mcore\u001b[0m\u001b[0;34m.\u001b[0m\u001b[0mframe\u001b[0m\u001b[0;34m.\u001b[0m\u001b[0mDataFrame\u001b[0m\u001b[0;34m,\u001b[0m\u001b[0;34m\u001b[0m\n",
      "\u001b[0;34m\u001b[0m    \u001b[0mscore_df\u001b[0m\u001b[0;34m:\u001b[0m \u001b[0mpandas\u001b[0m\u001b[0;34m.\u001b[0m\u001b[0mcore\u001b[0m\u001b[0;34m.\u001b[0m\u001b[0mframe\u001b[0m\u001b[0;34m.\u001b[0m\u001b[0mDataFrame\u001b[0m \u001b[0;34m|\u001b[0m \u001b[0;32mNone\u001b[0m \u001b[0;34m=\u001b[0m \u001b[0;32mNone\u001b[0m\u001b[0;34m,\u001b[0m\u001b[0;34m\u001b[0m\n",
      "\u001b[0;34m\u001b[0m\u001b[0;34m)\u001b[0m\u001b[0;34m\u001b[0m\u001b[0;34m\u001b[0m\u001b[0m\n",
      "\u001b[0;31mDocstring:\u001b[0m     \n",
      "A class to store the results of the pairwise alignment.\n",
      "\n",
      "The primary data is stored in pandas dataframes. All dataframes have the\n",
      "same structure. One column is the query k-mer sequence\n",
      "('query_kmer'). The other columns are named as the ortholog sequence\n",
      "ids. The dataframe indexes are the query k-mer start position in the\n",
      "query sequence.\n",
      "\n",
      "Attributes\n",
      "----------\n",
      "orthokmer_matrix : pd.DataFrame\n",
      "    the best scoring k-mer from each ortholog for each query k-mer.\n",
      "position_matrix : pd.DataFrame\n",
      "    the start position of the best scoring k-mer from each ortholog for\n",
      "    each query k-mer.\n",
      "score_matrix : pd.DataFrame | None\n",
      "    the alignment scores for each k-mer in the query sequence against\n",
      "    the corresponding best matching ortholog k-mer.\n",
      "query_kmers : list[str]\n",
      "    the list of query k-mers that were aligned.\n",
      "query_sequence : str\n",
      "    the full query sequence that was originally split into k-mers and aligned.\n",
      "k : int\n",
      "    the k-mer size used for the alignment.\n",
      "\u001b[0;31mFile:\u001b[0m           ~/Dropbox (MIT)/work/07-SLiM_bioinformatics/11-pairk/pairk/backend/tools/pairwise_tools.py\n",
      "\u001b[0;31mType:\u001b[0m           type\n",
      "\u001b[0;31mSubclasses:\u001b[0m     "
     ]
    }
   ],
   "source": [
    "pairk.PairkAln?"
   ]
  },
  {
   "cell_type": "markdown",
   "metadata": {},
   "source": [
    "The actual \"alignments\" are stored as matrices in the ``PairkAln`` object. The main matrices are:\n",
    "\n",
    "* orthokmer_matrix - the best matching k-mers from each homolog for each query k-mer\n",
    "* position_matrix - the positions of the best matching k-mers in the homologs\n",
    "* score_matrix - the scores of the best matching k-mers\n",
    "\n",
    "Each matrix is a pandas DataFrame where the index is the start position of the k-mer in the query sequence. The columns are the query k-mers + the homolog sequence ids."
   ]
  },
  {
   "cell_type": "markdown",
   "metadata": {},
   "source": [
    "The ``PairkAln`` object has some useful methods for accessing the data. For example, you can get the best matching k-mers for a query k-mer by its position in the query sequence using the ``.get_pseudo_alignment`` method (or by directly accessing the dataframes). You can also plot the matrices as heatmaps, save the results to a json file, and load the results from that file\n"
   ]
  },
  {
   "cell_type": "markdown",
   "metadata": {},
   "source": [
    "example: accessing the DataFrames from the ``PairkAln`` object directly"
   ]
  },
  {
   "cell_type": "code",
   "execution_count": 18,
   "metadata": {},
   "outputs": [
    {
     "data": {
      "text/html": [
       "<div>\n",
       "<style scoped>\n",
       "    .dataframe tbody tr th:only-of-type {\n",
       "        vertical-align: middle;\n",
       "    }\n",
       "\n",
       "    .dataframe tbody tr th {\n",
       "        vertical-align: top;\n",
       "    }\n",
       "\n",
       "    .dataframe thead th {\n",
       "        text-align: right;\n",
       "    }\n",
       "</style>\n",
       "<table border=\"1\" class=\"dataframe\">\n",
       "  <thead>\n",
       "    <tr style=\"text-align: right;\">\n",
       "      <th></th>\n",
       "      <th>query_kmer</th>\n",
       "      <th>9793_0:005123</th>\n",
       "      <th>1706337_0:000fc7</th>\n",
       "      <th>51337_0:001b5a</th>\n",
       "      <th>9568_0:004ae1</th>\n",
       "      <th>43346_0:004190</th>\n",
       "      <th>885580_0:00488c</th>\n",
       "      <th>10181_0:00305d</th>\n",
       "      <th>1415580_0:000900</th>\n",
       "      <th>61221_0:00105a</th>\n",
       "      <th>...</th>\n",
       "      <th>30732_0:0046dd</th>\n",
       "      <th>241271_0:0048e4</th>\n",
       "      <th>8103_0:0045e4</th>\n",
       "      <th>56723_0:00152f</th>\n",
       "      <th>210632_0:004c0c</th>\n",
       "      <th>31033_0:00264e</th>\n",
       "      <th>63155_0:004c86</th>\n",
       "      <th>7994_0:004d71</th>\n",
       "      <th>109280_0:00369f</th>\n",
       "      <th>150288_0:004e5a</th>\n",
       "    </tr>\n",
       "  </thead>\n",
       "  <tbody>\n",
       "    <tr>\n",
       "      <th>0</th>\n",
       "      <td>TNLGT</td>\n",
       "      <td>22.0</td>\n",
       "      <td>28.0</td>\n",
       "      <td>28.0</td>\n",
       "      <td>28.0</td>\n",
       "      <td>28.0</td>\n",
       "      <td>28.0</td>\n",
       "      <td>28.0</td>\n",
       "      <td>10.0</td>\n",
       "      <td>9.0</td>\n",
       "      <td>...</td>\n",
       "      <td>13.0</td>\n",
       "      <td>12.0</td>\n",
       "      <td>13.0</td>\n",
       "      <td>13.0</td>\n",
       "      <td>9.0</td>\n",
       "      <td>8.0</td>\n",
       "      <td>13.0</td>\n",
       "      <td>8.0</td>\n",
       "      <td>14.0</td>\n",
       "      <td>9.0</td>\n",
       "    </tr>\n",
       "    <tr>\n",
       "      <th>1</th>\n",
       "      <td>NLGTV</td>\n",
       "      <td>16.0</td>\n",
       "      <td>29.0</td>\n",
       "      <td>29.0</td>\n",
       "      <td>29.0</td>\n",
       "      <td>29.0</td>\n",
       "      <td>29.0</td>\n",
       "      <td>29.0</td>\n",
       "      <td>16.0</td>\n",
       "      <td>8.0</td>\n",
       "      <td>...</td>\n",
       "      <td>11.0</td>\n",
       "      <td>13.0</td>\n",
       "      <td>11.0</td>\n",
       "      <td>13.0</td>\n",
       "      <td>7.0</td>\n",
       "      <td>7.0</td>\n",
       "      <td>11.0</td>\n",
       "      <td>6.0</td>\n",
       "      <td>14.0</td>\n",
       "      <td>10.0</td>\n",
       "    </tr>\n",
       "    <tr>\n",
       "      <th>2</th>\n",
       "      <td>LGTVN</td>\n",
       "      <td>16.0</td>\n",
       "      <td>29.0</td>\n",
       "      <td>29.0</td>\n",
       "      <td>29.0</td>\n",
       "      <td>29.0</td>\n",
       "      <td>29.0</td>\n",
       "      <td>23.0</td>\n",
       "      <td>10.0</td>\n",
       "      <td>7.0</td>\n",
       "      <td>...</td>\n",
       "      <td>11.0</td>\n",
       "      <td>8.0</td>\n",
       "      <td>9.0</td>\n",
       "      <td>10.0</td>\n",
       "      <td>7.0</td>\n",
       "      <td>8.0</td>\n",
       "      <td>10.0</td>\n",
       "      <td>8.0</td>\n",
       "      <td>16.0</td>\n",
       "      <td>4.0</td>\n",
       "    </tr>\n",
       "    <tr>\n",
       "      <th>3</th>\n",
       "      <td>GTVNA</td>\n",
       "      <td>19.0</td>\n",
       "      <td>26.0</td>\n",
       "      <td>23.0</td>\n",
       "      <td>26.0</td>\n",
       "      <td>26.0</td>\n",
       "      <td>23.0</td>\n",
       "      <td>17.0</td>\n",
       "      <td>15.0</td>\n",
       "      <td>10.0</td>\n",
       "      <td>...</td>\n",
       "      <td>11.0</td>\n",
       "      <td>9.0</td>\n",
       "      <td>10.0</td>\n",
       "      <td>8.0</td>\n",
       "      <td>8.0</td>\n",
       "      <td>9.0</td>\n",
       "      <td>11.0</td>\n",
       "      <td>9.0</td>\n",
       "      <td>9.0</td>\n",
       "      <td>6.0</td>\n",
       "    </tr>\n",
       "    <tr>\n",
       "      <th>4</th>\n",
       "      <td>TVNAA</td>\n",
       "      <td>18.0</td>\n",
       "      <td>25.0</td>\n",
       "      <td>22.0</td>\n",
       "      <td>25.0</td>\n",
       "      <td>22.0</td>\n",
       "      <td>22.0</td>\n",
       "      <td>16.0</td>\n",
       "      <td>14.0</td>\n",
       "      <td>11.0</td>\n",
       "      <td>...</td>\n",
       "      <td>11.0</td>\n",
       "      <td>9.0</td>\n",
       "      <td>8.0</td>\n",
       "      <td>12.0</td>\n",
       "      <td>8.0</td>\n",
       "      <td>11.0</td>\n",
       "      <td>11.0</td>\n",
       "      <td>10.0</td>\n",
       "      <td>11.0</td>\n",
       "      <td>5.0</td>\n",
       "    </tr>\n",
       "    <tr>\n",
       "      <th>...</th>\n",
       "      <td>...</td>\n",
       "      <td>...</td>\n",
       "      <td>...</td>\n",
       "      <td>...</td>\n",
       "      <td>...</td>\n",
       "      <td>...</td>\n",
       "      <td>...</td>\n",
       "      <td>...</td>\n",
       "      <td>...</td>\n",
       "      <td>...</td>\n",
       "      <td>...</td>\n",
       "      <td>...</td>\n",
       "      <td>...</td>\n",
       "      <td>...</td>\n",
       "      <td>...</td>\n",
       "      <td>...</td>\n",
       "      <td>...</td>\n",
       "      <td>...</td>\n",
       "      <td>...</td>\n",
       "      <td>...</td>\n",
       "      <td>...</td>\n",
       "    </tr>\n",
       "    <tr>\n",
       "      <th>217</th>\n",
       "      <td>LQKKR</td>\n",
       "      <td>31.0</td>\n",
       "      <td>31.0</td>\n",
       "      <td>19.0</td>\n",
       "      <td>31.0</td>\n",
       "      <td>31.0</td>\n",
       "      <td>3.0</td>\n",
       "      <td>9.0</td>\n",
       "      <td>31.0</td>\n",
       "      <td>24.0</td>\n",
       "      <td>...</td>\n",
       "      <td>26.0</td>\n",
       "      <td>19.0</td>\n",
       "      <td>19.0</td>\n",
       "      <td>19.0</td>\n",
       "      <td>26.0</td>\n",
       "      <td>19.0</td>\n",
       "      <td>26.0</td>\n",
       "      <td>19.0</td>\n",
       "      <td>26.0</td>\n",
       "      <td>0.0</td>\n",
       "    </tr>\n",
       "    <tr>\n",
       "      <th>218</th>\n",
       "      <td>QKKRG</td>\n",
       "      <td>29.0</td>\n",
       "      <td>23.0</td>\n",
       "      <td>16.0</td>\n",
       "      <td>29.0</td>\n",
       "      <td>29.0</td>\n",
       "      <td>5.0</td>\n",
       "      <td>3.0</td>\n",
       "      <td>29.0</td>\n",
       "      <td>22.0</td>\n",
       "      <td>...</td>\n",
       "      <td>23.0</td>\n",
       "      <td>22.0</td>\n",
       "      <td>16.0</td>\n",
       "      <td>16.0</td>\n",
       "      <td>29.0</td>\n",
       "      <td>17.0</td>\n",
       "      <td>29.0</td>\n",
       "      <td>22.0</td>\n",
       "      <td>23.0</td>\n",
       "      <td>-1.0</td>\n",
       "    </tr>\n",
       "    <tr>\n",
       "      <th>219</th>\n",
       "      <td>KKRGN</td>\n",
       "      <td>29.0</td>\n",
       "      <td>23.0</td>\n",
       "      <td>18.0</td>\n",
       "      <td>29.0</td>\n",
       "      <td>29.0</td>\n",
       "      <td>2.0</td>\n",
       "      <td>2.0</td>\n",
       "      <td>23.0</td>\n",
       "      <td>21.0</td>\n",
       "      <td>...</td>\n",
       "      <td>17.0</td>\n",
       "      <td>23.0</td>\n",
       "      <td>15.0</td>\n",
       "      <td>17.0</td>\n",
       "      <td>23.0</td>\n",
       "      <td>18.0</td>\n",
       "      <td>21.0</td>\n",
       "      <td>22.0</td>\n",
       "      <td>14.0</td>\n",
       "      <td>-1.0</td>\n",
       "    </tr>\n",
       "    <tr>\n",
       "      <th>220</th>\n",
       "      <td>KRGNV</td>\n",
       "      <td>29.0</td>\n",
       "      <td>19.0</td>\n",
       "      <td>20.0</td>\n",
       "      <td>29.0</td>\n",
       "      <td>29.0</td>\n",
       "      <td>8.0</td>\n",
       "      <td>8.0</td>\n",
       "      <td>17.0</td>\n",
       "      <td>15.0</td>\n",
       "      <td>...</td>\n",
       "      <td>9.0</td>\n",
       "      <td>17.0</td>\n",
       "      <td>8.0</td>\n",
       "      <td>11.0</td>\n",
       "      <td>14.0</td>\n",
       "      <td>9.0</td>\n",
       "      <td>13.0</td>\n",
       "      <td>14.0</td>\n",
       "      <td>11.0</td>\n",
       "      <td>2.0</td>\n",
       "    </tr>\n",
       "    <tr>\n",
       "      <th>221</th>\n",
       "      <td>RGNVS</td>\n",
       "      <td>23.0</td>\n",
       "      <td>12.0</td>\n",
       "      <td>13.0</td>\n",
       "      <td>27.0</td>\n",
       "      <td>27.0</td>\n",
       "      <td>9.0</td>\n",
       "      <td>13.0</td>\n",
       "      <td>15.0</td>\n",
       "      <td>13.0</td>\n",
       "      <td>...</td>\n",
       "      <td>10.0</td>\n",
       "      <td>11.0</td>\n",
       "      <td>8.0</td>\n",
       "      <td>13.0</td>\n",
       "      <td>7.0</td>\n",
       "      <td>9.0</td>\n",
       "      <td>7.0</td>\n",
       "      <td>9.0</td>\n",
       "      <td>8.0</td>\n",
       "      <td>9.0</td>\n",
       "    </tr>\n",
       "  </tbody>\n",
       "</table>\n",
       "<p>222 rows × 23 columns</p>\n",
       "</div>"
      ],
      "text/plain": [
       "    query_kmer 9793_0:005123 1706337_0:000fc7 51337_0:001b5a 9568_0:004ae1  \\\n",
       "0        TNLGT          22.0             28.0           28.0          28.0   \n",
       "1        NLGTV          16.0             29.0           29.0          29.0   \n",
       "2        LGTVN          16.0             29.0           29.0          29.0   \n",
       "3        GTVNA          19.0             26.0           23.0          26.0   \n",
       "4        TVNAA          18.0             25.0           22.0          25.0   \n",
       "..         ...           ...              ...            ...           ...   \n",
       "217      LQKKR          31.0             31.0           19.0          31.0   \n",
       "218      QKKRG          29.0             23.0           16.0          29.0   \n",
       "219      KKRGN          29.0             23.0           18.0          29.0   \n",
       "220      KRGNV          29.0             19.0           20.0          29.0   \n",
       "221      RGNVS          23.0             12.0           13.0          27.0   \n",
       "\n",
       "    43346_0:004190 885580_0:00488c 10181_0:00305d 1415580_0:000900  \\\n",
       "0             28.0            28.0           28.0             10.0   \n",
       "1             29.0            29.0           29.0             16.0   \n",
       "2             29.0            29.0           23.0             10.0   \n",
       "3             26.0            23.0           17.0             15.0   \n",
       "4             22.0            22.0           16.0             14.0   \n",
       "..             ...             ...            ...              ...   \n",
       "217           31.0             3.0            9.0             31.0   \n",
       "218           29.0             5.0            3.0             29.0   \n",
       "219           29.0             2.0            2.0             23.0   \n",
       "220           29.0             8.0            8.0             17.0   \n",
       "221           27.0             9.0           13.0             15.0   \n",
       "\n",
       "    61221_0:00105a  ... 30732_0:0046dd 241271_0:0048e4 8103_0:0045e4  \\\n",
       "0              9.0  ...           13.0            12.0          13.0   \n",
       "1              8.0  ...           11.0            13.0          11.0   \n",
       "2              7.0  ...           11.0             8.0           9.0   \n",
       "3             10.0  ...           11.0             9.0          10.0   \n",
       "4             11.0  ...           11.0             9.0           8.0   \n",
       "..             ...  ...            ...             ...           ...   \n",
       "217           24.0  ...           26.0            19.0          19.0   \n",
       "218           22.0  ...           23.0            22.0          16.0   \n",
       "219           21.0  ...           17.0            23.0          15.0   \n",
       "220           15.0  ...            9.0            17.0           8.0   \n",
       "221           13.0  ...           10.0            11.0           8.0   \n",
       "\n",
       "    56723_0:00152f 210632_0:004c0c 31033_0:00264e 63155_0:004c86  \\\n",
       "0             13.0             9.0            8.0           13.0   \n",
       "1             13.0             7.0            7.0           11.0   \n",
       "2             10.0             7.0            8.0           10.0   \n",
       "3              8.0             8.0            9.0           11.0   \n",
       "4             12.0             8.0           11.0           11.0   \n",
       "..             ...             ...            ...            ...   \n",
       "217           19.0            26.0           19.0           26.0   \n",
       "218           16.0            29.0           17.0           29.0   \n",
       "219           17.0            23.0           18.0           21.0   \n",
       "220           11.0            14.0            9.0           13.0   \n",
       "221           13.0             7.0            9.0            7.0   \n",
       "\n",
       "    7994_0:004d71 109280_0:00369f 150288_0:004e5a  \n",
       "0             8.0            14.0             9.0  \n",
       "1             6.0            14.0            10.0  \n",
       "2             8.0            16.0             4.0  \n",
       "3             9.0             9.0             6.0  \n",
       "4            10.0            11.0             5.0  \n",
       "..            ...             ...             ...  \n",
       "217          19.0            26.0             0.0  \n",
       "218          22.0            23.0            -1.0  \n",
       "219          22.0            14.0            -1.0  \n",
       "220          14.0            11.0             2.0  \n",
       "221           9.0             8.0             9.0  \n",
       "\n",
       "[222 rows x 23 columns]"
      ]
     },
     "execution_count": 18,
     "metadata": {},
     "output_type": "execute_result"
    }
   ],
   "source": [
    "aln_results.score_matrix"
   ]
  },
  {
   "cell_type": "markdown",
   "metadata": {},
   "source": [
    "example: access the best matching k-mers for the query k-mer at position 4:"
   ]
  },
  {
   "cell_type": "code",
   "execution_count": 19,
   "metadata": {},
   "outputs": [
    {
     "data": {
      "text/plain": [
       "query_kmer          TVNAA\n",
       "9793_0:005123       TGNAA\n",
       "1706337_0:000fc7    TVNAA\n",
       "51337_0:001b5a      TVNTA\n",
       "9568_0:004ae1       TVNAA\n",
       "43346_0:004190      TVNAV\n",
       "885580_0:00488c     TVNTA\n",
       "10181_0:00305d      TVSTA\n",
       "1415580_0:000900    NVNAN\n",
       "61221_0:00105a      AVSAG\n",
       "7897_0:0033c5       TVSAS\n",
       "8407_0:002bff       SQNVA\n",
       "173247_0:004550     TPNQA\n",
       "30732_0:0046dd      TVKAK\n",
       "241271_0:0048e4     PVNSF\n",
       "8103_0:0045e4       PLNAL\n",
       "56723_0:00152f      TAAAA\n",
       "210632_0:004c0c     TIKAK\n",
       "31033_0:00264e      TIKAS\n",
       "63155_0:004c86      TVKAK\n",
       "7994_0:004d71       TSNTS\n",
       "109280_0:00369f     TTAAA\n",
       "150288_0:004e5a     NLNSQ\n",
       "Name: 4, dtype: object"
      ]
     },
     "execution_count": 19,
     "metadata": {},
     "output_type": "execute_result"
    }
   ],
   "source": [
    "aln_results.orthokmer_matrix.loc[4]"
   ]
  },
  {
   "cell_type": "markdown",
   "metadata": {},
   "source": [
    "example: access the best matching k-mers for the query k-mer at position 4 using the ``get_pseudo_alignment`` method.\n",
    "(the returned list includes the query k-mer sequence)"
   ]
  },
  {
   "cell_type": "code",
   "execution_count": 20,
   "metadata": {},
   "outputs": [
    {
     "data": {
      "text/plain": [
       "['TVNAA',\n",
       " 'TGNAA',\n",
       " 'TVNAA',\n",
       " 'TVNTA',\n",
       " 'TVNAA',\n",
       " 'TVNAV',\n",
       " 'TVNTA',\n",
       " 'TVSTA',\n",
       " 'NVNAN',\n",
       " 'AVSAG',\n",
       " 'TVSAS',\n",
       " 'SQNVA',\n",
       " 'TPNQA',\n",
       " 'TVKAK',\n",
       " 'PVNSF',\n",
       " 'PLNAL',\n",
       " 'TAAAA',\n",
       " 'TIKAK',\n",
       " 'TIKAS',\n",
       " 'TVKAK',\n",
       " 'TSNTS',\n",
       " 'TTAAA',\n",
       " 'NLNSQ']"
      ]
     },
     "execution_count": 20,
     "metadata": {},
     "output_type": "execute_result"
    }
   ],
   "source": [
    "aln_results.get_pseudo_alignment(4)"
   ]
  },
  {
   "cell_type": "markdown",
   "metadata": {},
   "source": [
    "you can search for a specific kmer to get its positions. You can then use the positions to query the matrices."
   ]
  },
  {
   "cell_type": "code",
   "execution_count": 21,
   "metadata": {},
   "outputs": [
    {
     "data": {
      "text/plain": [
       "[75, 113, 127, 157]"
      ]
     },
     "execution_count": 21,
     "metadata": {},
     "output_type": "execute_result"
    }
   ],
   "source": [
    "aln_results.find_query_kmer_positions('LPPPP')"
   ]
  },
  {
   "cell_type": "code",
   "execution_count": 22,
   "metadata": {},
   "outputs": [
    {
     "data": {
      "text/plain": [
       "['LPPPP',\n",
       " 'LPPPP',\n",
       " 'LPPPP',\n",
       " 'LPPPP',\n",
       " 'PPMPP',\n",
       " 'LPPPP',\n",
       " 'LPDRP',\n",
       " 'APSPP',\n",
       " 'LPPPP',\n",
       " 'LPPPP',\n",
       " 'LPPPP',\n",
       " 'LPPPP',\n",
       " 'LPPPP',\n",
       " 'LPPPP',\n",
       " 'LPPPP',\n",
       " 'LPPPP',\n",
       " 'LPPPP',\n",
       " 'LPPPP',\n",
       " 'LPPPP',\n",
       " 'LPPPP',\n",
       " 'LPPPP',\n",
       " 'LPPPP',\n",
       " 'IPPPP']"
      ]
     },
     "execution_count": 22,
     "metadata": {},
     "output_type": "execute_result"
    }
   ],
   "source": [
    "aln_results.get_pseudo_alignment(75)"
   ]
  },
  {
   "cell_type": "code",
   "execution_count": 23,
   "metadata": {},
   "outputs": [
    {
     "data": {
      "text/html": [
       "<div>\n",
       "<style scoped>\n",
       "    .dataframe tbody tr th:only-of-type {\n",
       "        vertical-align: middle;\n",
       "    }\n",
       "\n",
       "    .dataframe tbody tr th {\n",
       "        vertical-align: top;\n",
       "    }\n",
       "\n",
       "    .dataframe thead th {\n",
       "        text-align: right;\n",
       "    }\n",
       "</style>\n",
       "<table border=\"1\" class=\"dataframe\">\n",
       "  <thead>\n",
       "    <tr style=\"text-align: right;\">\n",
       "      <th></th>\n",
       "      <th>75</th>\n",
       "      <th>113</th>\n",
       "      <th>127</th>\n",
       "      <th>157</th>\n",
       "    </tr>\n",
       "  </thead>\n",
       "  <tbody>\n",
       "    <tr>\n",
       "      <th>query_kmer</th>\n",
       "      <td>LPPPP</td>\n",
       "      <td>LPPPP</td>\n",
       "      <td>LPPPP</td>\n",
       "      <td>LPPPP</td>\n",
       "    </tr>\n",
       "    <tr>\n",
       "      <th>9793_0:005123</th>\n",
       "      <td>LPPPP</td>\n",
       "      <td>LPPPP</td>\n",
       "      <td>LPPPP</td>\n",
       "      <td>LPPPP</td>\n",
       "    </tr>\n",
       "    <tr>\n",
       "      <th>1706337_0:000fc7</th>\n",
       "      <td>LPPPP</td>\n",
       "      <td>LPPPP</td>\n",
       "      <td>LPPPP</td>\n",
       "      <td>LPPPP</td>\n",
       "    </tr>\n",
       "    <tr>\n",
       "      <th>51337_0:001b5a</th>\n",
       "      <td>LPPPP</td>\n",
       "      <td>LPPPP</td>\n",
       "      <td>LPPPP</td>\n",
       "      <td>LPPPP</td>\n",
       "    </tr>\n",
       "    <tr>\n",
       "      <th>9568_0:004ae1</th>\n",
       "      <td>PPMPP</td>\n",
       "      <td>PPMPP</td>\n",
       "      <td>PPMPP</td>\n",
       "      <td>PPMPP</td>\n",
       "    </tr>\n",
       "    <tr>\n",
       "      <th>43346_0:004190</th>\n",
       "      <td>LPPPP</td>\n",
       "      <td>LPPPP</td>\n",
       "      <td>LPPPP</td>\n",
       "      <td>LPPPP</td>\n",
       "    </tr>\n",
       "    <tr>\n",
       "      <th>885580_0:00488c</th>\n",
       "      <td>LPDRP</td>\n",
       "      <td>LPDRP</td>\n",
       "      <td>LPDRP</td>\n",
       "      <td>LPDRP</td>\n",
       "    </tr>\n",
       "    <tr>\n",
       "      <th>10181_0:00305d</th>\n",
       "      <td>APSPP</td>\n",
       "      <td>APSPP</td>\n",
       "      <td>APSPP</td>\n",
       "      <td>APSPP</td>\n",
       "    </tr>\n",
       "    <tr>\n",
       "      <th>1415580_0:000900</th>\n",
       "      <td>LPPPP</td>\n",
       "      <td>LPPPP</td>\n",
       "      <td>LPPPP</td>\n",
       "      <td>LPPPP</td>\n",
       "    </tr>\n",
       "    <tr>\n",
       "      <th>61221_0:00105a</th>\n",
       "      <td>LPPPP</td>\n",
       "      <td>LPPPP</td>\n",
       "      <td>LPPPP</td>\n",
       "      <td>LPPPP</td>\n",
       "    </tr>\n",
       "    <tr>\n",
       "      <th>7897_0:0033c5</th>\n",
       "      <td>LPPPP</td>\n",
       "      <td>LPPPP</td>\n",
       "      <td>LPPPP</td>\n",
       "      <td>LPPPP</td>\n",
       "    </tr>\n",
       "    <tr>\n",
       "      <th>8407_0:002bff</th>\n",
       "      <td>LPPPP</td>\n",
       "      <td>LPPPP</td>\n",
       "      <td>LPPPP</td>\n",
       "      <td>LPPPP</td>\n",
       "    </tr>\n",
       "    <tr>\n",
       "      <th>173247_0:004550</th>\n",
       "      <td>LPPPP</td>\n",
       "      <td>LPPPP</td>\n",
       "      <td>LPPPP</td>\n",
       "      <td>LPPPP</td>\n",
       "    </tr>\n",
       "    <tr>\n",
       "      <th>30732_0:0046dd</th>\n",
       "      <td>LPPPP</td>\n",
       "      <td>LPPPP</td>\n",
       "      <td>LPPPP</td>\n",
       "      <td>LPPPP</td>\n",
       "    </tr>\n",
       "    <tr>\n",
       "      <th>241271_0:0048e4</th>\n",
       "      <td>LPPPP</td>\n",
       "      <td>LPPPP</td>\n",
       "      <td>LPPPP</td>\n",
       "      <td>LPPPP</td>\n",
       "    </tr>\n",
       "    <tr>\n",
       "      <th>8103_0:0045e4</th>\n",
       "      <td>LPPPP</td>\n",
       "      <td>LPPPP</td>\n",
       "      <td>LPPPP</td>\n",
       "      <td>LPPPP</td>\n",
       "    </tr>\n",
       "    <tr>\n",
       "      <th>56723_0:00152f</th>\n",
       "      <td>LPPPP</td>\n",
       "      <td>LPPPP</td>\n",
       "      <td>LPPPP</td>\n",
       "      <td>LPPPP</td>\n",
       "    </tr>\n",
       "    <tr>\n",
       "      <th>210632_0:004c0c</th>\n",
       "      <td>LPPPP</td>\n",
       "      <td>LPPPP</td>\n",
       "      <td>LPPPP</td>\n",
       "      <td>LPPPP</td>\n",
       "    </tr>\n",
       "    <tr>\n",
       "      <th>31033_0:00264e</th>\n",
       "      <td>LPPPP</td>\n",
       "      <td>LPPPP</td>\n",
       "      <td>LPPPP</td>\n",
       "      <td>LPPPP</td>\n",
       "    </tr>\n",
       "    <tr>\n",
       "      <th>63155_0:004c86</th>\n",
       "      <td>LPPPP</td>\n",
       "      <td>LPPPP</td>\n",
       "      <td>LPPPP</td>\n",
       "      <td>LPPPP</td>\n",
       "    </tr>\n",
       "    <tr>\n",
       "      <th>7994_0:004d71</th>\n",
       "      <td>LPPPP</td>\n",
       "      <td>LPPPP</td>\n",
       "      <td>LPPPP</td>\n",
       "      <td>LPPPP</td>\n",
       "    </tr>\n",
       "    <tr>\n",
       "      <th>109280_0:00369f</th>\n",
       "      <td>LPPPP</td>\n",
       "      <td>LPPPP</td>\n",
       "      <td>LPPPP</td>\n",
       "      <td>LPPPP</td>\n",
       "    </tr>\n",
       "    <tr>\n",
       "      <th>150288_0:004e5a</th>\n",
       "      <td>IPPPP</td>\n",
       "      <td>IPPPP</td>\n",
       "      <td>IPPPP</td>\n",
       "      <td>IPPPP</td>\n",
       "    </tr>\n",
       "  </tbody>\n",
       "</table>\n",
       "</div>"
      ],
      "text/plain": [
       "                    75     113    127    157\n",
       "query_kmer        LPPPP  LPPPP  LPPPP  LPPPP\n",
       "9793_0:005123     LPPPP  LPPPP  LPPPP  LPPPP\n",
       "1706337_0:000fc7  LPPPP  LPPPP  LPPPP  LPPPP\n",
       "51337_0:001b5a    LPPPP  LPPPP  LPPPP  LPPPP\n",
       "9568_0:004ae1     PPMPP  PPMPP  PPMPP  PPMPP\n",
       "43346_0:004190    LPPPP  LPPPP  LPPPP  LPPPP\n",
       "885580_0:00488c   LPDRP  LPDRP  LPDRP  LPDRP\n",
       "10181_0:00305d    APSPP  APSPP  APSPP  APSPP\n",
       "1415580_0:000900  LPPPP  LPPPP  LPPPP  LPPPP\n",
       "61221_0:00105a    LPPPP  LPPPP  LPPPP  LPPPP\n",
       "7897_0:0033c5     LPPPP  LPPPP  LPPPP  LPPPP\n",
       "8407_0:002bff     LPPPP  LPPPP  LPPPP  LPPPP\n",
       "173247_0:004550   LPPPP  LPPPP  LPPPP  LPPPP\n",
       "30732_0:0046dd    LPPPP  LPPPP  LPPPP  LPPPP\n",
       "241271_0:0048e4   LPPPP  LPPPP  LPPPP  LPPPP\n",
       "8103_0:0045e4     LPPPP  LPPPP  LPPPP  LPPPP\n",
       "56723_0:00152f    LPPPP  LPPPP  LPPPP  LPPPP\n",
       "210632_0:004c0c   LPPPP  LPPPP  LPPPP  LPPPP\n",
       "31033_0:00264e    LPPPP  LPPPP  LPPPP  LPPPP\n",
       "63155_0:004c86    LPPPP  LPPPP  LPPPP  LPPPP\n",
       "7994_0:004d71     LPPPP  LPPPP  LPPPP  LPPPP\n",
       "109280_0:00369f   LPPPP  LPPPP  LPPPP  LPPPP\n",
       "150288_0:004e5a   IPPPP  IPPPP  IPPPP  IPPPP"
      ]
     },
     "execution_count": 23,
     "metadata": {},
     "output_type": "execute_result"
    }
   ],
   "source": [
    "aln_results.orthokmer_matrix.loc[[75, 113, 127, 157]].T"
   ]
  },
  {
   "cell_type": "markdown",
   "metadata": {},
   "source": [
    "Note - the k-mers are defined by position rather than sequence. You could easily make a variant of this method that uses the unique sequences instead. It would make the method slightly faster. <br>The reason that I didn't do this is because I wanted to mimic the LLM embedding version of Pairk, where identical k-mers have different embeddings and thus are treated as different k-mers.<br>Inclusion of duplicate k-mers does alter the final z-scores, so it's something to be aware of."
   ]
  },
  {
   "cell_type": "markdown",
   "metadata": {},
   "source": [
    "example: plot a heatmap of the matrices"
   ]
  },
  {
   "cell_type": "code",
   "execution_count": 24,
   "metadata": {},
   "outputs": [
    {
     "data": {
      "image/png": "[encoded data removed]",
      "text/plain": [
       "<Figure size 300x300 with 2 Axes>"
      ]
     },
     "metadata": {},
     "output_type": "display_data"
    }
   ],
   "source": [
    "import matplotlib.pyplot as plt\n",
    "fig, ax = plt.subplots(figsize=(3,3))\n",
    "aln_results.plot_position_heatmap(ax)\n",
    "ax.xaxis.set_visible(False)"
   ]
  },
  {
   "cell_type": "markdown",
   "metadata": {},
   "source": [
    "example: save the results to a file using ``write_to_file`` and load them back into python using ``from_file``:"
   ]
  },
  {
   "cell_type": "code",
   "execution_count": 25,
   "metadata": {},
   "outputs": [
    {
     "name": "stdout",
     "output_type": "stream",
     "text": [
      "PairkAln object for 222 query k-mers\n",
      "query sequence: TNLGTVNAAAPAQPSTGPKTGTTQPNGQIPQATHSVSAVLQEAQRHAETSKDKKPALGNHHDPAVPRAPHAPKSSLPPPPPVRRSSDTSGSPATPLKAKGTGGGGLPAPPDDFLPPPPPPPPLDDPELPPPPPDFMEPPPDFVPPPPPSYAGIAGSELPPPPPPPPAPAPAPVPDSARPPPAVAKRPPVPPKRQENPGHPGGAGGGEQDFMSDLMKALQKKRGNVS\n",
      "k-mer length: 5\n",
      "\n"
     ]
    }
   ],
   "source": [
    "aln_results.write_to_file('./aln_results.json')\n",
    "aln_results = pairk.PairkAln.from_file('./aln_results.json')\n",
    "print(aln_results)"
   ]
  },
  {
   "cell_type": "markdown",
   "metadata": {},
   "source": [
    "---"
   ]
  },
  {
   "cell_type": "markdown",
   "metadata": {},
   "source": [
    "# Step 2: k-mer conservation"
   ]
  },
  {
   "cell_type": "markdown",
   "metadata": {},
   "source": [
    "In this step, the query k-mer and the best matching homolog k-mers are treated as a gapless multiple sequence alignment with 'k' columns, which we call a \"pseudo-MSA\". Column-wise conservation scores are calculated for each position in each pseudo-MSA. All of the conservation scores are then converted to z-scores to give the relative conservation of each k-mer position compared to the rest of the query IDR. The conservation score results are stored in a ``PairkConservation`` object which also provides methods for plotting the results and reading/writing the results from/to files.\n"
   ]
  },
  {
   "cell_type": "markdown",
   "metadata": {},
   "source": [
    "## pairk.calculate_conservation"
   ]
  },
  {
   "cell_type": "markdown",
   "metadata": {},
   "source": [
    "the main method for Step 2 is the ``pairk.calculate_conservation`` method. It simply takes the ``PairkAln`` object as input, along with a columnwise conservation scoring function and returns a ``PairkConservation`` object."
   ]
  },
  {
   "cell_type": "code",
   "execution_count": 26,
   "metadata": {},
   "outputs": [
    {
     "name": "stdout",
     "output_type": "stream",
     "text": [
      "\u001b[0;31mSignature:\u001b[0m\n",
      "\u001b[0mpairk\u001b[0m\u001b[0;34m.\u001b[0m\u001b[0mcalculate_conservation\u001b[0m\u001b[0;34m(\u001b[0m\u001b[0;34m\u001b[0m\n",
      "\u001b[0;34m\u001b[0m    \u001b[0mpairk_aln_results\u001b[0m\u001b[0;34m:\u001b[0m \u001b[0mpairk\u001b[0m\u001b[0;34m.\u001b[0m\u001b[0mbackend\u001b[0m\u001b[0;34m.\u001b[0m\u001b[0mtools\u001b[0m\u001b[0;34m.\u001b[0m\u001b[0mpairwise_tools\u001b[0m\u001b[0;34m.\u001b[0m\u001b[0mPairkAln\u001b[0m\u001b[0;34m,\u001b[0m\u001b[0;34m\u001b[0m\n",
      "\u001b[0;34m\u001b[0m    \u001b[0mscore_func\u001b[0m\u001b[0;34m:\u001b[0m \u001b[0mCallable\u001b[0m \u001b[0;34m=\u001b[0m \u001b[0;34m<\u001b[0m\u001b[0mfunction\u001b[0m \u001b[0mproperty_entropy\u001b[0m \u001b[0mat\u001b[0m \u001b[0;36m0x1628bec00\u001b[0m\u001b[0;34m>\u001b[0m\u001b[0;34m,\u001b[0m\u001b[0;34m\u001b[0m\n",
      "\u001b[0;34m\u001b[0m\u001b[0;34m)\u001b[0m \u001b[0;34m->\u001b[0m \u001b[0mpairk\u001b[0m\u001b[0;34m.\u001b[0m\u001b[0mbackend\u001b[0m\u001b[0;34m.\u001b[0m\u001b[0mconservation\u001b[0m\u001b[0;34m.\u001b[0m\u001b[0mkmer_conservation\u001b[0m\u001b[0;34m.\u001b[0m\u001b[0mPairkConservation\u001b[0m\u001b[0;34m\u001b[0m\u001b[0;34m\u001b[0m\u001b[0m\n",
      "\u001b[0;31mDocstring:\u001b[0m\n",
      "calculate the conservation scores for the k-mers in the PairkAln object. calculates the conservation scores and z-scores for each k-mer position.\n",
      "\n",
      "Parameters\n",
      "----------\n",
      "pairk_aln_results : PairkAln\n",
      "    the results of the pairk alignment step as a pairk.PairkAln object.\n",
      "score_func : Callable, optional\n",
      "    A function to calculate conservation scores in a columnwise manner, by\n",
      "    default it is the property_entropy function from Capra and Singh 2007,\n",
      "    DOI: 10.1093/bioinformatics/btm270 located in the\n",
      "    `pairk.pairk_conservation.capra_singh_functions` module.\n",
      "\n",
      "Returns\n",
      "-------\n",
      "PairkConservation\n",
      "    PairkConservation object containing the conservation scores and z-scores for each k-mer position.\n",
      "\u001b[0;31mFile:\u001b[0m      ~/Dropbox (MIT)/work/07-SLiM_bioinformatics/11-pairk/pairk/backend/conservation/kmer_conservation.py\n",
      "\u001b[0;31mType:\u001b[0m      function"
     ]
    }
   ],
   "source": [
    "pairk.calculate_conservation?"
   ]
  },
  {
   "cell_type": "markdown",
   "metadata": {},
   "source": [
    "The columnwise conservation scoring function can be any function that takes a string of residues (a column of an alignment) as an input and returns a float (conservation score). You can use custom functions here, but pairk comes with a few built-in functions from Capra and Singh 2007 (DOI: 10.1093/bioinformatics/btm270) available in the ``pairk.capra_singh_functions`` module. The ``pairk.capra_singh_functions.property_entropy`` is the default function used by ``pairk.calculate_conservation``.\n"
   ]
  },
  {
   "cell_type": "code",
   "execution_count": 27,
   "metadata": {},
   "outputs": [
    {
     "name": "stdout",
     "output_type": "stream",
     "text": [
      "\u001b[0;31mType:\u001b[0m        module\n",
      "\u001b[0;31mString form:\u001b[0m <module 'pairk.backend.conservation.capra_singh_functions' from '/Users/jackson/Dropbox (MIT)/work/07-SLiM_bioinformatics/11-pairk/pairk/backend/conservation/capra_singh_functions/__init__.py'>\n",
      "\u001b[0;31mFile:\u001b[0m        ~/Dropbox (MIT)/work/07-SLiM_bioinformatics/11-pairk/pairk/backend/conservation/capra_singh_functions/__init__.py\n",
      "\u001b[0;31mDocstring:\u001b[0m  \n",
      "Module to hold conservation methods from Capra and Singh 2007, DOI: 10.1093/bioinformatics/btm270\n",
      "\n",
      "The methods in this module are used to calculate column-wise conservation scores and take a string of characters (an alignment column) as input.\n",
      "Conservation scores are calculated and normalized to a range of 0 to 1, where 0 is the least conserved and 1 is the most conserved.\n",
      "By default, gaps are penalized by multiplying the final conservation score by the fraction of non-gap characters in the column.\n",
      "\n",
      "Methods:\n",
      "--------\n",
      "property_entropy : Callable\n",
      "    Calculate the property entropy of a column of sequence characters\n",
      "shannon_entropy : Callable\n",
      "    Calculate the Shannon entropy of a column of sequence characters"
     ]
    }
   ],
   "source": [
    "pairk.capra_singh_functions?"
   ]
  },
  {
   "cell_type": "markdown",
   "metadata": {},
   "source": [
    "Example"
   ]
  },
  {
   "cell_type": "code",
   "execution_count": 28,
   "metadata": {},
   "outputs": [],
   "source": [
    "aln_results = pairk.pairk_alignment(\n",
    "    idr_dict=ex1.idr_dict,\n",
    "    query_id=ex1.query_id,\n",
    "    k=5,\n",
    "    matrix_name=\"EDSSMat50\"\n",
    ")\n",
    "conservation_results = pairk.calculate_conservation(\n",
    "    aln_results,\n",
    ")"
   ]
  },
  {
   "cell_type": "markdown",
   "metadata": {},
   "source": [
    "example usage: using a different conservation scoring function:\n"
   ]
  },
  {
   "cell_type": "code",
   "execution_count": 29,
   "metadata": {},
   "outputs": [
    {
     "name": "stdout",
     "output_type": "stream",
     "text": [
      "0.8161170118989496\n"
     ]
    }
   ],
   "source": [
    "from pairk import capra_singh_functions\n",
    "column = 'NNNNNNNNNKNSNNNNNNNNSSN'\n",
    "print(capra_singh_functions.shannon_entropy(column))"
   ]
  },
  {
   "cell_type": "code",
   "execution_count": 30,
   "metadata": {},
   "outputs": [],
   "source": [
    "aln_results = pairk.pairk_alignment(\n",
    "    idr_dict=ex1.idr_dict,\n",
    "    query_id=ex1.query_id,\n",
    "    k=5,\n",
    ")\n",
    "conservation_results = pairk.calculate_conservation(\n",
    "    pairk_aln_results=aln_results,\n",
    "    score_func=capra_singh_functions.shannon_entropy\n",
    ")"
   ]
  },
  {
   "cell_type": "markdown",
   "metadata": {},
   "source": [
    "## k-mer conservation results"
   ]
  },
  {
   "cell_type": "markdown",
   "metadata": {},
   "source": [
    "The ``pairk.calculate_conservation`` method returns a ``PairkConservation`` object."
   ]
  },
  {
   "cell_type": "code",
   "execution_count": 31,
   "metadata": {},
   "outputs": [
    {
     "name": "stdout",
     "output_type": "stream",
     "text": [
      "\u001b[0;31mInit signature:\u001b[0m\n",
      "\u001b[0mpairk\u001b[0m\u001b[0;34m.\u001b[0m\u001b[0mPairkConservation\u001b[0m\u001b[0;34m(\u001b[0m\u001b[0;34m\u001b[0m\n",
      "\u001b[0;34m\u001b[0m    \u001b[0morthokmer_arr\u001b[0m\u001b[0;34m:\u001b[0m \u001b[0mnumpy\u001b[0m\u001b[0;34m.\u001b[0m\u001b[0mndarray\u001b[0m\u001b[0;34m,\u001b[0m\u001b[0;34m\u001b[0m\n",
      "\u001b[0;34m\u001b[0m    \u001b[0mscore_arr\u001b[0m\u001b[0;34m:\u001b[0m \u001b[0mnumpy\u001b[0m\u001b[0;34m.\u001b[0m\u001b[0mndarray\u001b[0m\u001b[0;34m,\u001b[0m\u001b[0;34m\u001b[0m\n",
      "\u001b[0;34m\u001b[0m    \u001b[0mz_score_arr\u001b[0m\u001b[0;34m:\u001b[0m \u001b[0mnumpy\u001b[0m\u001b[0;34m.\u001b[0m\u001b[0mndarray\u001b[0m\u001b[0;34m,\u001b[0m\u001b[0;34m\u001b[0m\n",
      "\u001b[0;34m\u001b[0m\u001b[0;34m)\u001b[0m\u001b[0;34m\u001b[0m\u001b[0;34m\u001b[0m\u001b[0m\n",
      "\u001b[0;31mDocstring:\u001b[0m     \n",
      "a class to store the results of the conservation scoring\n",
      "\n",
      "The methods can be used to create plots of the conservation scores and\n",
      "sequence logos.\n",
      "\n",
      "Attributes\n",
      "----------\n",
      "orthokmer_arr : np.ndarray\n",
      "    the best scoring k-mer from each ortholog for each query k-mer.\n",
      "score_arr : np.ndarray\n",
      "    the conservation scores for each k-mer position.\n",
      "z_score_arr : np.ndarray\n",
      "    the z-scores for each k-mer position.\n",
      "query_kmers : list[str]\n",
      "    the query k-mers.\n",
      "query_sequence : str\n",
      "    the query sequence.\n",
      "k : int\n",
      "    the length of the query k-mers.\n",
      "bg_scores : np.ndarray\n",
      "    the background conservation scores used to calculate the z-scores. This\n",
      "    is just a flattened version of the score_arr.\n",
      "n_bg_scores : int\n",
      "    the number of background scores used to calculate the z-scores.\n",
      "n_bg_kmers : int\n",
      "    the number of k-mers used to calculate the z-scores.\n",
      "bg_mean : float\n",
      "    the mean of the background scores.\n",
      "bg_std : float\n",
      "    the standard deviation of the background scores.\n",
      "\u001b[0;31mFile:\u001b[0m           ~/Dropbox (MIT)/work/07-SLiM_bioinformatics/11-pairk/pairk/backend/conservation/kmer_conservation.py\n",
      "\u001b[0;31mType:\u001b[0m           type\n",
      "\u001b[0;31mSubclasses:\u001b[0m     "
     ]
    }
   ],
   "source": [
    "pairk.PairkConservation?"
   ]
  },
  {
   "cell_type": "markdown",
   "metadata": {},
   "source": [
    "The returned ``PairkConservation`` object has matrices with similar structure as ``PairkAln`` object matrices, except that they are numpy arrays instead of pandas dataframes.\n",
    "\n",
    "* orthokmer_arr - the best matching k-mers from each homolog for each query k-mer - analogous to the orthokmer_matrix in the ``PairkAln`` object\n",
    "* score_arr - the conservation scores for each position in the pseudo-MSA of each query k-mer\n",
    "* z_score_arr - the conservation score z-scores for each position in the pseudo-MSA of each query k-mer\n",
    "\n",
    "If ``n`` is the number of k-mers in the query sequence and ``m`` is the number of homologs (including the query sequence), the matrices will have the dimensions:\n",
    "\n",
    "* orthokmer_arr: (n, m)\n",
    "* score_arr: (n, k)\n",
    "* z_score_arr: (n, k)\n"
   ]
  },
  {
   "cell_type": "markdown",
   "metadata": {},
   "source": [
    "### accessing the results"
   ]
  },
  {
   "cell_type": "markdown",
   "metadata": {},
   "source": [
    "The row index of the arrays correspond to the starting position of the query k-mer in the query IDR. \n",
    "\n",
    "For example, to access the conservation scores for the k-mer at position 4 in the query IDR, you would access the 4th row of the arrays: ``.score_arr[4, :]``."
   ]
  },
  {
   "cell_type": "code",
   "execution_count": 32,
   "metadata": {},
   "outputs": [
    {
     "name": "stdout",
     "output_type": "stream",
     "text": [
      "query k-mer at position 4: TVNAA\n",
      "pseudo-MSA for the query k-mer at position 4 (including the query k-mer): ['TVNAA' 'TGNAA' 'TVNAA' 'TVNTA' 'TVNAA' 'TVNAV' 'TVNTA' 'TVSTA' 'NVNAN'\n",
      " 'AVSAG' 'TVSAS' 'SQNVA' 'TPNQA' 'TVKAK' 'PVNSF' 'PLNAL' 'TAAAA' 'TIKAK'\n",
      " 'TIKAS' 'TVKAK' 'TSNTS' 'TTAAA' 'NLNSQ']\n",
      "scores for each position of the k-mer at position 4:\n",
      "[0.69754401 0.48589838 0.6438038  0.64920359 0.44093655]\n",
      "z scores for each position of the k-mer at position 4:\n",
      "[ 0.17610372 -1.01357184 -0.12597394 -0.09562132 -1.26630561]\n"
     ]
    }
   ],
   "source": [
    "k_mer_position = 4\n",
    "print(f\"query k-mer at position {k_mer_position}: {conservation_results.orthokmer_arr[k_mer_position, 0]}\")\n",
    "print(f\"pseudo-MSA for the query k-mer at position {k_mer_position} (including the query k-mer): {conservation_results.orthokmer_arr[k_mer_position, :]}\")\n",
    "print(f\"scores for each position of the k-mer at position {k_mer_position}:\")\n",
    "print(conservation_results.score_arr[k_mer_position, :])\n",
    "print(f\"z scores for each position of the k-mer at position {k_mer_position}:\")\n",
    "print(conservation_results.z_score_arr[k_mer_position, :])"
   ]
  },
  {
   "cell_type": "markdown",
   "metadata": {},
   "source": [
    "### plotting the results"
   ]
  },
  {
   "cell_type": "markdown",
   "metadata": {},
   "source": [
    "There are several plotting functions available from the ``pairk.PairkConservation`` object shown below."
   ]
  },
  {
   "cell_type": "markdown",
   "metadata": {},
   "source": [
    "example usage: plotting background score distributions"
   ]
  },
  {
   "cell_type": "code",
   "execution_count": 33,
   "metadata": {},
   "outputs": [
    {
     "data": {
      "text/plain": [
       "<Axes: xlabel='Conservation score', ylabel='Count'>"
      ]
     },
     "execution_count": 33,
     "metadata": {},
     "output_type": "execute_result"
    },
    {
     "data": {
      "image/png": "[encoded data removed]",
      "text/plain": [
       "<Figure size 400x400 with 1 Axes>"
      ]
     },
     "metadata": {},
     "output_type": "display_data"
    }
   ],
   "source": [
    "conservation_results.plot_background_distribution()"
   ]
  },
  {
   "cell_type": "markdown",
   "metadata": {},
   "source": [
    "example usage: plotting conservation scores\n"
   ]
  },
  {
   "cell_type": "code",
   "execution_count": 34,
   "metadata": {},
   "outputs": [
    {
     "data": {
      "text/plain": [
       "Text(0.5, 1.0, 'conservation z-scores')"
      ]
     },
     "execution_count": 34,
     "metadata": {},
     "output_type": "execute_result"
    },
    {
     "data": {
      "image/png": "[encoded data removed]",
      "text/plain": [
       "<Figure size 700x150 with 1 Axes>"
      ]
     },
     "metadata": {},
     "output_type": "display_data"
    },
    {
     "data": {
      "image/png": "[encoded data removed]",
      "text/plain": [
       "<Figure size 700x150 with 1 Axes>"
      ]
     },
     "metadata": {},
     "output_type": "display_data"
    }
   ],
   "source": [
    "fig, ax = plt.subplots(figsize=(7,1.5))\n",
    "conservation_results.plot_score_barplot(k_mer_position, ax=ax)\n",
    "ax.set_title('conservation scores')\n",
    "fig, ax = plt.subplots(figsize=(7,1.5))\n",
    "conservation_results.plot_score_barplot(k_mer_position, score_type='z_score', ax=ax)\n",
    "ax.set_title('conservation z-scores')"
   ]
  },
  {
   "cell_type": "markdown",
   "metadata": {},
   "source": [
    "example usage: display a pseudo-MSA as a sequence logo"
   ]
  },
  {
   "cell_type": "code",
   "execution_count": 35,
   "metadata": {},
   "outputs": [
    {
     "data": {
      "text/plain": [
       "<Axes: >"
      ]
     },
     "execution_count": 35,
     "metadata": {},
     "output_type": "execute_result"
    },
    {
     "data": {
      "image/png": "[encoded data removed]",
      "text/plain": [
       "<Figure size 700x150 with 1 Axes>"
      ]
     },
     "metadata": {},
     "output_type": "display_data"
    }
   ],
   "source": [
    "fig, ax = plt.subplots(figsize=(7,1.5))\n",
    "conservation_results.plot_sequence_logo(k_mer_position, ax=ax)"
   ]
  },
  {
   "cell_type": "code",
   "execution_count": 36,
   "metadata": {},
   "outputs": [
    {
     "name": "stderr",
     "output_type": "stream",
     "text": [
      "/var/folders/q4/k476_qrd3jvdvzwd6lq30kqc0000gn/T/ipykernel_96254/1814068924.py:7: UserWarning: The figure layout has changed to tight\n",
      "  plt.tight_layout(h_pad=0.5, w_pad=0.5)\n"
     ]
    },
    {
     "data": {
      "image/png": "[encoded data removed]",
      "text/plain": [
       "<Figure size 800x300 with 3 Axes>"
      ]
     },
     "metadata": {},
     "output_type": "display_data"
    }
   ],
   "source": [
    "plt.rcParams.update({'font.size': 12})\n",
    "fig, axd = conservation_results.plot_conservation_mosaic(\n",
    "    position=0,\n",
    "    score_type='z_score',\n",
    "    figsize=(8, 3)\n",
    ")\n",
    "plt.tight_layout(h_pad=0.5, w_pad=0.5)"
   ]
  },
  {
   "cell_type": "markdown",
   "metadata": {},
   "source": [
    "### getting the average conservation score for a query k-mer"
   ]
  },
  {
   "cell_type": "markdown",
   "metadata": {},
   "source": [
    "You can use the ``get_average_score`` function to get the average conservation score for a k-mer position.\n"
   ]
  },
  {
   "cell_type": "markdown",
   "metadata": {},
   "source": [
    "\n",
    "example: get the average conservation score for the query k-mer at position 4"
   ]
  },
  {
   "cell_type": "code",
   "execution_count": 37,
   "metadata": {},
   "outputs": [
    {
     "data": {
      "text/plain": [
       "-0.4650737963634926"
      ]
     },
     "execution_count": 37,
     "metadata": {},
     "output_type": "execute_result"
    }
   ],
   "source": [
    "conservation_results.get_average_score(4, score_type='z_score')"
   ]
  },
  {
   "cell_type": "markdown",
   "metadata": {},
   "source": [
    "The ``get_average_score`` function takes a ``position_mask`` as an optional argument that will only consider the conservation scores for the positions in the mask when calculating the average score. This is useful if you want to exclude certain positions from the average score calculation."
   ]
  },
  {
   "cell_type": "markdown",
   "metadata": {},
   "source": [
    "example: get the average conservation score for the query k-mer at position 0, but only consider the conservation scores for positions 1, and 3 within the k-mer"
   ]
  },
  {
   "cell_type": "code",
   "execution_count": 38,
   "metadata": {},
   "outputs": [
    {
     "data": {
      "text/plain": [
       "0.197148283025409"
      ]
     },
     "execution_count": 38,
     "metadata": {},
     "output_type": "execute_result"
    }
   ],
   "source": [
    "position_mask = [0, 1, 0, 1, 0]\n",
    "conservation_results.get_average_score(0, score_type='z_score', position_mask=position_mask)"
   ]
  },
  {
   "cell_type": "markdown",
   "metadata": {},
   "source": [
    "You could also do a weighted average from manually extracted conservation scores."
   ]
  },
  {
   "cell_type": "markdown",
   "metadata": {},
   "source": [
    "example: get the weighted average conservation score for the query k-mer at position 0 (using some arbitrary weights)"
   ]
  },
  {
   "cell_type": "code",
   "execution_count": 39,
   "metadata": {},
   "outputs": [
    {
     "data": {
      "text/plain": [
       "0.31155698039226354"
      ]
     },
     "execution_count": 39,
     "metadata": {},
     "output_type": "execute_result"
    }
   ],
   "source": [
    "import numpy as np\n",
    "np.average(conservation_results.z_score_arr[0, :], weights=[0.1, 1, 0.5, 1, 10])"
   ]
  },
  {
   "cell_type": "markdown",
   "metadata": {},
   "source": [
    "### Writing and Reading Results from Files"
   ]
  },
  {
   "cell_type": "markdown",
   "metadata": {},
   "source": [
    "You can save the results to a file with ``write_results_to_file`` and load them back in with ``read_results_from_file``."
   ]
  },
  {
   "cell_type": "markdown",
   "metadata": {},
   "source": [
    "example usage: save the results to a file and load them back in"
   ]
  },
  {
   "cell_type": "code",
   "execution_count": 40,
   "metadata": {},
   "outputs": [
    {
     "data": {
      "text/plain": [
       "PairkConservation object\n",
       "222 query kmers x 23 orthologs\n",
       "kmer length - 5\n",
       "1110 background scores for z-score calculation\n",
       "222 kmers used for z-score calculation"
      ]
     },
     "execution_count": 40,
     "metadata": {},
     "output_type": "execute_result"
    }
   ],
   "source": [
    "conservation_results.write_results_to_file('./conservation_results.npz')\n",
    "\n",
    "conservation_results.read_results_from_file('./conservation_results.npz')"
   ]
  },
  {
   "cell_type": "markdown",
   "metadata": {},
   "source": [
    "---"
   ]
  },
  {
   "cell_type": "markdown",
   "metadata": {},
   "source": [
    "# advanced customization"
   ]
  },
  {
   "cell_type": "markdown",
   "metadata": {},
   "source": [
    "\n",
    "Step 1 and Step 2 can be modified, but this requires a bit of knowledge of the inner workings of the pairk package and the source code would have to be modified directly and probably installed in editable mode (see `Installation`_). If you want to modify the package, here's roughly how I organized the code in the ``pairk`` directory (the source code is available on [github](https://github.com/jacksonh1/pairk/). Below file paths are relative to the github repo root directory:\n",
    "\n",
    "* ``pairk/backend/`` - the main code for the package is located here. The main pairwise k-mer alignment and k-mer conservation functions are defined in files within this directory.\n",
    "* ``pairk/__init__.py`` - User-facing functions are imported into the main ``pairk/__init__.py`` file so that they are accessible when the package is imported. I think it also simplifies the import statements for users. Use this __init__ file to find where pairk's main functions are defined within the directory structure if you want to modify any of the functions above. You could also modify the __init__ file to make any new functions you create easy to access.\n",
    "* ``pairk/data/`` - data installed along with the package is stored here. This includes the scoring matrices and example data. The scoring matrices are stored in the ``pairk/data/matrices/`` folder.\n",
    "\n",
    "The easiest customization to make would be to add a new scoring matrix. To do this, you would add a new matrix file to the ``pairk/data/matrices/`` folder. The tools should be able to automatically find the matrix file and add it to the available scoring matrices. It will be named after the name of the file. Use ``pairk.print_available_matrices()`` to confirm (make sure you've installed pairk as an editable install for changes to take affect). You could then use the new matrix in relevant methods by passing the matrix name as an argument. If this doesn't work, you may need to modify the code that reads the matrices in the ``pairk/backend/tools/matrices.py`` file."
   ]
  },
  {
   "cell_type": "code",
   "execution_count": 41,
   "metadata": {},
   "outputs": [
    {
     "name": "stdout",
     "output_type": "stream",
     "text": [
      "\u001b[01;34m../pairk/\u001b[0m\n",
      "├── \u001b[00m__init__.py\u001b[0m\n",
      "├── \u001b[00m_version.py\u001b[0m\n",
      "├── \u001b[01;34mbackend\u001b[0m\n",
      "│   ├── \u001b[00m__init__.py\u001b[0m\n",
      "│   ├── \u001b[01;34mconservation\u001b[0m\n",
      "│   │   ├── \u001b[00m__init__.py\u001b[0m\n",
      "│   │   ├── \u001b[01;34mcapra_singh_functions\u001b[0m\n",
      "│   │   │   ├── \u001b[00m__init__.py\u001b[0m\n",
      "│   │   │   └── \u001b[00mcapra_singh_2007_scores.py\u001b[0m\n",
      "│   │   └── \u001b[00mkmer_conservation.py\u001b[0m\n",
      "│   ├── \u001b[00mexceptions.py\u001b[0m\n",
      "│   ├── \u001b[01;34mkmer_alignment\u001b[0m\n",
      "│   │   ├── \u001b[00m__init__.py\u001b[0m\n",
      "│   │   ├── \u001b[00mesm_embedding_distance.py\u001b[0m\n",
      "│   │   ├── \u001b[00mneedleman_tools.py\u001b[0m\n",
      "│   │   ├── \u001b[00mscoring_matrix.py\u001b[0m\n",
      "│   │   └── \u001b[00mscoring_matrix_needleman.py\u001b[0m\n",
      "│   ├── \u001b[00mpairk_plotstyle.mplstyle\u001b[0m\n",
      "│   └── \u001b[01;34mtools\u001b[0m\n",
      "│       ├── \u001b[00m__init__.py\u001b[0m\n",
      "│       ├── \u001b[00mesm_tools.py\u001b[0m\n",
      "│       ├── \u001b[00mmatrices.py\u001b[0m\n",
      "│       ├── \u001b[00mpairwise_tools.py\u001b[0m\n",
      "│       ├── \u001b[00mplotting_tools.py\u001b[0m\n",
      "│       ├── \u001b[00mpssms.py\u001b[0m\n",
      "│       └── \u001b[00msequence_utils.py\u001b[0m\n",
      "├── \u001b[01;34mdata\u001b[0m\n",
      "│   ├── \u001b[00mREADME.md\u001b[0m\n",
      "│   ├── \u001b[00m__init__.py\u001b[0m\n",
      "│   ├── \u001b[00mexample_alignment_9606_0_00294e-idraln-555_to_971-idr-440_to_665.fasta\u001b[0m\n",
      "│   └── \u001b[01;34mmatrices\u001b[0m\n",
      "│       ├── \u001b[00mBLOSUM62\u001b[0m\n",
      "│       ├── \u001b[00mEDSSMat50\u001b[0m\n",
      "│       ├── \u001b[00m__init__.py\u001b[0m\n",
      "│       ├── \u001b[00mgrantham.csv\u001b[0m\n",
      "│       ├── \u001b[00mgrantham_similarity_norm.csv\u001b[0m\n",
      "│       └── \u001b[00mgrantham_similarity_normx100_aligner_compatible\u001b[0m\n",
      "├── \u001b[00mexamples.py\u001b[0m\n",
      "├── \u001b[00mpy.typed\u001b[0m\n",
      "├── \u001b[01;34msingle_kmer\u001b[0m\n",
      "│   └── \u001b[00m__init__.py\u001b[0m\n",
      "├── \u001b[01;34mtests\u001b[0m\n",
      "│   ├── \u001b[00m__init__.py\u001b[0m\n",
      "│   └── \u001b[00mtest_pairk.py\u001b[0m\n",
      "└── \u001b[00mutilities.py\u001b[0m\n",
      "\n",
      "10 directories, 36 files\n"
     ]
    }
   ],
   "source": [
    "!tree ../pairk/ -I __pycache__"
   ]
  }
 ],
 "metadata": {
  "jupytext": {
   "formats": "ipynb,py:percent"
  },
  "kernelspec": {
   "display_name": "Python 3 (ipykernel)",
   "language": "python",
   "name": "python3"
  },
  "language_info": {
   "codemirror_mode": {
    "name": "ipython",
    "version": 3
   },
   "file_extension": ".py",
   "mimetype": "text/x-python",
   "name": "python",
   "nbconvert_exporter": "python",
   "pygments_lexer": "ipython3",
   "version": "3.12.3"
  }
 },
 "nbformat": 4,
 "nbformat_minor": 4
}
