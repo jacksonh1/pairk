{
 "cells": [
  {
   "cell_type": "markdown",
   "metadata": {},
   "source": [
    "# run with [pipeline 2](https://github.com/jacksonh1/motif_conservation_in_IDRs) environment\n",
    "`mamba activate slim_conservation`"
   ]
  },
  {
   "cell_type": "markdown",
   "metadata": {},
   "source": [
    "# grantham matrix"
   ]
  },
  {
   "cell_type": "code",
   "execution_count": 1,
   "metadata": {},
   "outputs": [],
   "source": [
    "from pathlib import Path"
   ]
  },
  {
   "cell_type": "code",
   "execution_count": 5,
   "metadata": {},
   "outputs": [],
   "source": [
    "grantham_directory = Path(\"../../../data/grantham_matrix/\")\n",
    "grantham_directory.mkdir(parents=True, exist_ok=True)"
   ]
  },
  {
   "cell_type": "markdown",
   "metadata": {},
   "source": [
    "The grantham matrix is from a paper from 1974 (DOI: 10.1126/science.185.4154.862). I am going to download a tsv of this matrix from the recent [SHARK]( https://git.mpi-cbg.de/tothpetroczylab/shark) tools for convenience."
   ]
  },
  {
   "cell_type": "code",
   "execution_count": 6,
   "metadata": {},
   "outputs": [
    {
     "name": "stdout",
     "output_type": "stream",
     "text": [
      "  % Total    % Received % Xferd  Average Speed   Time    Time     Time  Current\n",
      "                                 Dload  Upload   Total   Spent    Left  Speed\n",
      "100  1436  100  1436    0     0   1647      0 --:--:-- --:--:-- --:--:--  1646\n"
     ]
    }
   ],
   "source": [
    "!curl \"https://owncloud.mpi-cbg.de/index.php/s/c8F3El6tUAC97hl/download?path=%2Fdata&files=grantham.tsv\" -o \"../../../data/grantham_matrix/grantham.tsv\""
   ]
  },
  {
   "cell_type": "code",
   "execution_count": 7,
   "metadata": {},
   "outputs": [],
   "source": [
    "def normalize_matrix_df(mat_df):\n",
    "    # normalize matrix\n",
    "    mat_df_norm = (mat_df - mat_df.min().min()) / (\n",
    "        mat_df.max().max() - mat_df.min().min()\n",
    "    )\n",
    "    return mat_df_norm"
   ]
  },
  {
   "cell_type": "code",
   "execution_count": 8,
   "metadata": {},
   "outputs": [],
   "source": [
    "import local_seqtools.substitution_matrices as submats\n",
    "import pandas as pd\n",
    "\n",
    "df = pd.read_csv(grantham_directory / 'grantham.tsv', sep='\\t', index_col=0)\n",
    "df_norm = normalize_matrix_df(df)\n",
    "df_sim_norm = 1-df_norm\n",
    "gran_df_aligner = round(df_sim_norm.copy()*100)\n",
    "gran_df_aligner = gran_df_aligner.astype(int)"
   ]
  },
  {
   "cell_type": "code",
   "execution_count": 10,
   "metadata": {},
   "outputs": [
    {
     "data": {
      "text/plain": [
       "PosixPath('/Users/jackson/Dropbox (MIT)/work/07-SLiM_bioinformatics/10-pairk-method')"
      ]
     },
     "execution_count": 10,
     "metadata": {},
     "output_type": "execute_result"
    }
   ],
   "source": [
    "from pyprojroot import here\n",
    "here()"
   ]
  },
  {
   "cell_type": "code",
   "execution_count": 12,
   "metadata": {},
   "outputs": [],
   "source": [
    "root = here()\n",
    "local_data = root / \"src\" / \"local_data\"\n",
    "matrix_folder = local_data / \"substitution_matrices\"\n",
    "df.to_csv(matrix_folder / 'grantham.csv', sep=',')\n",
    "df_sim_norm.to_csv(matrix_folder / 'grantham_similarity_norm.csv', sep=',')\n",
    "gran_df_aligner.to_csv(matrix_folder / 'grantham_similarity_normx100_aligner_compatible', sep=' ')"
   ]
  },
  {
   "cell_type": "markdown",
   "metadata": {},
   "source": [
    "# EDSSmat matrices"
   ]
  },
  {
   "cell_type": "markdown",
   "metadata": {},
   "source": [
    "These are substitution matrices for disordered regions from this publication:<br>\n",
    ">Trivedi, R., Nagarajaram, H.A. Amino acid substitution scoring matrices specific to intrinsically disordered regions in proteins. Sci Rep 9, 16380 (2019). https://doi.org/10.1038/s41598-019-52532-8"
   ]
  },
  {
   "cell_type": "markdown",
   "metadata": {},
   "source": [
    "download and unzip the dataset"
   ]
  },
  {
   "cell_type": "code",
   "execution_count": 13,
   "metadata": {},
   "outputs": [],
   "source": [
    "disorder_directory = Path(\"../../../data/disorder-matrix/\")\n",
    "disorder_directory.mkdir(parents=True, exist_ok=True)"
   ]
  },
  {
   "cell_type": "code",
   "execution_count": 14,
   "metadata": {},
   "outputs": [
    {
     "name": "stdout",
     "output_type": "stream",
     "text": [
      "  % Total    % Received % Xferd  Average Speed   Time    Time     Time  Current\n",
      "                                 Dload  Upload   Total   Spent    Left  Speed\n",
      "100 24.0M  100 24.0M    0     0  1033k      0  0:00:23  0:00:23 --:--:-- 1396k 1570k      0  0:00:15  0:00:07  0:00:08 1246k\n"
     ]
    }
   ],
   "source": [
    "!curl \"http://www.cdfd.org.in/labpages/Matrices_and_Datasets.tar.gz\" -o \"../../../data/disorder-matrix/Matrices_and_Datasets.tar.gz\""
   ]
  },
  {
   "cell_type": "code",
   "execution_count": 15,
   "metadata": {},
   "outputs": [
    {
     "name": "stdout",
     "output_type": "stream",
     "text": [
      "x Matrices_and_Datasets/\n",
      "x Matrices_and_Datasets/.DS_Store\n",
      "x Matrices_and_Datasets/Datasets/\n",
      "x Matrices_and_Datasets/Datasets/LD_test_dataset\n",
      "x Matrices_and_Datasets/Datasets/._HD_test_dataset\n",
      "x Matrices_and_Datasets/Datasets/MD_test_dataset\n",
      "x Matrices_and_Datasets/Datasets/EUMAT_dataset\n",
      "x Matrices_and_Datasets/Datasets/._MD_test_dataset\n",
      "x Matrices_and_Datasets/Datasets/HD_test_dataset\n",
      "x Matrices_and_Datasets/Matrices/\n",
      "x Matrices_and_Datasets/Matrices/EDSSMat80\n",
      "x Matrices_and_Datasets/Matrices/EDSSMat70\n",
      "x Matrices_and_Datasets/Matrices/EDSSMat75\n",
      "x Matrices_and_Datasets/Matrices/EDSSMat90\n",
      "x Matrices_and_Datasets/Matrices/EDSSMat50\n",
      "x Matrices_and_Datasets/Matrices/EDSSMat60\n",
      "x Matrices_and_Datasets/Matrices/EDSSMat62\n"
     ]
    }
   ],
   "source": [
    "!tar -xvzf \"../../../data/disorder-matrix/Matrices_and_Datasets.tar.gz\" -C \"../../../data/disorder-matrix/\""
   ]
  },
  {
   "cell_type": "code",
   "execution_count": 16,
   "metadata": {},
   "outputs": [],
   "source": [
    "!cp \"../../../data/disorder-matrix/Matrices_and_Datasets/Matrices/EDSSMat50\" \"../../local_data/substitution_matrices/\""
   ]
  },
  {
   "cell_type": "markdown",
   "metadata": {},
   "source": [
    "---"
   ]
  },
  {
   "cell_type": "code",
   "execution_count": 19,
   "metadata": {},
   "outputs": [],
   "source": [
    "from Bio import Align"
   ]
  },
  {
   "cell_type": "code",
   "execution_count": 32,
   "metadata": {},
   "outputs": [
    {
     "data": {
      "text/plain": [
       "24"
      ]
     },
     "execution_count": 32,
     "metadata": {},
     "output_type": "execute_result"
    }
   ],
   "source": [
    "list(set([i[0] for i in Align.substitution_matrices.load(\"BLOSUM62\").keys()]))"
   ]
  },
  {
   "cell_type": "code",
   "execution_count": 37,
   "metadata": {},
   "outputs": [
    {
     "data": {
      "text/plain": [
       "list"
      ]
     },
     "execution_count": 37,
     "metadata": {},
     "output_type": "execute_result"
    }
   ],
   "source": [
    "Align.substitution_matrices.load()"
   ]
  },
  {
   "cell_type": "code",
   "execution_count": 18,
   "metadata": {},
   "outputs": [],
   "source": [
    "def load_matrix_as_df(matrix_name):\n",
    "    # convert to pandas dataframe\n",
    "    mat = Align.substitution_matrices.load(matrix_name)\n",
    "    AAs = sorted(\n",
    "        [\n",
    "            \"V\",\n",
    "            \"E\",\n",
    "            \"K\",\n",
    "            \"I\",\n",
    "            \"H\",\n",
    "            \"L\",\n",
    "            \"G\",\n",
    "            \"T\",\n",
    "            \"M\",\n",
    "            \"N\",\n",
    "            \"S\",\n",
    "            \"P\",\n",
    "            \"A\",\n",
    "            \"F\",\n",
    "            \"W\",\n",
    "            \"Y\",\n",
    "            \"Q\",\n",
    "            \"R\",\n",
    "            \"C\",\n",
    "            \"D\",\n",
    "        ]\n",
    "    )\n",
    "    AAs.extend([\"B\", \"Z\", \"X\", \"*\"])\n",
    "    mat_df = pd.DataFrame(index=AAs, columns=AAs)\n",
    "    for k in mat.keys():\n",
    "        mat_df.loc[k[0], k[1]] = mat[k]\n",
    "    mat_df = mat_df.astype(float)\n",
    "    return mat_df"
   ]
  },
  {
   "cell_type": "code",
   "execution_count": null,
   "metadata": {},
   "outputs": [],
   "source": [
    "matrix_name = \"BLOSUM62\"\n",
    "matBLOSUM62_df = load_matrix_as_df(matrix_name)\n",
    "matBLOSUM62_df.to_csv(matrix_folder / 'BLOSUM62', sep=' ')"
   ]
  }
 ],
 "metadata": {
  "kernelspec": {
   "display_name": "odb_conservation",
   "language": "python",
   "name": "python3"
  },
  "language_info": {
   "codemirror_mode": {
    "name": "ipython",
    "version": 3
   },
   "file_extension": ".py",
   "mimetype": "text/x-python",
   "name": "python",
   "nbconvert_exporter": "python",
   "pygments_lexer": "ipython3",
   "version": "3.12.1"
  }
 },
 "nbformat": 4,
 "nbformat_minor": 2
}
