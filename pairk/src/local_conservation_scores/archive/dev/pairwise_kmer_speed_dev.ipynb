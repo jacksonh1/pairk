{
 "cells": [
  {
   "cell_type": "code",
   "execution_count": 10,
   "id": "6d892353",
   "metadata": {},
   "outputs": [],
   "source": [
    "import json\n",
    "import time\n",
    "from pathlib import Path\n",
    "from typing import Callable\n",
    "from local_env_variables import matrices\n",
    "from Bio import Align, AlignIO, Seq, SeqIO\n",
    "from local_seqtools import general_utils as tools\n",
    "\n",
    "import numpy as np\n",
    "import pandas as pd\n",
    "from Bio import Align, AlignIO, Seq, SeqIO\n",
    "\n",
    "from local_seqtools import general_utils as tools\n",
    "import copy\n",
    "\n",
    "from collections import defaultdict"
   ]
  },
  {
   "cell_type": "code",
   "execution_count": 11,
   "id": "ec3bcb80",
   "metadata": {},
   "outputs": [],
   "source": [
    "reference_id = \"9606_0:004caa\"\n",
    "k = 14"
   ]
  },
  {
   "cell_type": "code",
   "execution_count": 23,
   "id": "6827e75b",
   "metadata": {},
   "outputs": [],
   "source": [
    "seq_dict = {\n",
    "    \"9606_0:004caa\":\"FAEAWKAQFPDSEPPRMELRSVGDIEQELERCKASIRRLEQEVNQERFRMIYLQTLLAKEKKSYDRQRWGFRRAAQAPDGASEPRASASRPQPAPADGADPPPAEEPEARPDGEGSPGKARPGTARRPGAAASGERDDRGPPASVAALRSNFERIRKGHGQPGADAEKPFYVNVEFHHERGLVKVNDKEVSDRISSLGSQAMQMERKKSQHGAGSSVGDASRPPYRGRSSESSCGVDGDYEDAELNPRFLKDNLIDANGGSRPPWPPLEYQPYQSIYVGGMMEGEGKGPLLRSQSTSEQEKRLTWPRRSYSPRSFEDCGGGYTPDCSSNENLTSSEEDFSSGQSSRVSPSPTTYRMFRDKSRSPSQNSQQSFDSSSPPTPQCHKRHRHCPVVVSEATIVGVRKTGQIWPNDGEGAFHGDADGSFGTPPGYGCAADRAEEQRRHQDGLPYIDDSPSSSPHLSSKGRGSRDALVSGALESTKASE\",\n",
    "    \"7757_0:00087f\":\"FAEAWRAQFPDSEPPKMELRSLRDIEGELCSCKNSIRRLEVEVNKERFRMIYLQTLLAKEKKGYDRQRWGFRKSAQGGGGVAVPGPAGDEAGPDDDGDDPVGEVAAAAAAAAAALGGEMPGGGGGADGERPFPESPSHLRRHAADPDEGFEDTIASSRHRRAKAPDKSPLPPGLVIAPGKGAKGGEPGSPAAAGSPCKSPRVPGPPEPRARRHSSQTSEEAALCGGGGGGSRGSPGADKSSSPLQQQQQLLPPSYANVEFHAERGLVRLNEREVSDHISSLGSEAMRMERRRGGCGTASREPCVSPGRDPPQLRGPSGPGVSASSSSSSGRHHHHHHHQAASHVGYEADYEDAEPPGRFFAASPKQHPKRERPPWHVAEEATGLPESTALTDGDSTYGTGSREQLYPSSGRRQPGTGVPGLGGPPGGGGGGAGFVACKEERLSWPKQQRAHSPSSLEDAGGGYTPDCSSNDNLTSSEDELSSPGGRSGRGGGGGVGGGGAGGGVGMGLAGTGASASPTAGSSSYRLFRERENRSPSQNSQHSLDSSSPPTPHGHGTPAGLGGSGGGGGGGGRRAVRGKPSGGPGAKAVTPPGGGPDSPQRSPAGLGPKRGPPTRSRYGAPDDVFDSYPGESPFGVPSPGYVYDAERGDDGRPPPEGMPYIDDSPSSSPHAAARIRGARDAAAAAAATSAAALDAGKMGE\",\n",
    "    \"42100_0:0032b1\":\"FAEAWKAQFPDSEPPRMELRSVGDIEQELDRCKASIRRLEQEVNQERFRMIYLQTLLAKEKKSYDRQRWGFRRAAQPPDGAAEPRAPRPQPAPADCSDPPPADEPEARLDGEGSPGKARPAATRRPGAAAPADHDDRGPPTSVAALRSNFERIRKGPVQPAATDAEKPFYVNVEFHHERGLVKVNDKDVSDRISSLGSQAMQMERKKSQQGAGPGPGDPPRPSYRGRLSESSCGLDGDFEDAELNPRFLKDNLINANGGSRPPWPPLEYQPYQSIYVGGMMVEGEGKGSLQRSQSTSEQEKRLTWPRRSYSPRSFEDSGGGYTPDCSSNENLTSSEEDFSSGQSSRVSPSPTTYRTFRDKSRSPSQNSQQSFDSSSPPTPQCQKRHRQGPVVVSEATIVGVRKTGQIWPSDGDSLSSRLLQDGAFHGDADAPFGTPPGYGCATDRAEEQRRHQDGLPYMDDSPSSSPHLGSKGRGSRDAPESTKVSE\",\n",
    "    \"8255_0:002868\":\"FVEAWRAQFPESDPPCMELNSLGDIEQELDRCKTSIRQLEKEVNKERFRMIYLQTLLAKERKSYDGQRWGFRRVPQTRDGDQTSEPDSQRSYAGDAPVEEQQPQQQQQQRDYVKPARCKQHPEEEMDGASPAKQKGGVSLVGQDSENPEFPVGTGSVAALRSNFERIRRANSHTAGDGRGLSTMGGQEKPFYVNMEYHHERGLVKVNDRDVSDKIGTLGCQAMQIERKRSLHSLPGNLSAATGDISKAVQKSTEENCSYNGSCDDPEINPHFLKDSVIQPTGGKSERHPAECQPYTSVYVGGMMADGDTRVIHIRDHSIEEEAHLTWPRHSYSPGSFDDVGGGYTPDCSSNENLTSSEEDFSSGQSSHVSPSPTTYQMYREKSRSPSQHSQQSFESSSPPTPLSQKRLKQQVMVSEASIIGVRKTGLPWRSDGDSTTSSRTSHDNSVQGDLEAPYNETPLTYGYELEHSEEHQPHHDPLSYTGSPSSSPRLRSKSRSSRDTQSSGSLESTLSVE\",\n",
    "    \"215358_0:000d84\":\"FVEAWRAQFPESDPPCMDLNSMGDIEQELDKCKTSIRHLEKEVNKERFRMIYLQTLLAKERKSYDGQRWGFKRTPQMNDGDLPTIPDNQRSHTDETAVEEHPLRGPGKTARCKPHPEGEVDGASPAKQKGGVSPVRQDSEAPDFPLGTGSVAALRSNFERIRRDSSHAAGDGRGSSEKPFYVNVEYHHERGLVKVNDREVSDKISTLGCQAMQMERKRSLHSLPGNLSAAMGDINKAVRRGRSTEGNCSYNGSYDDAEANPHFLKDNVIRSTGGKSERQPAECQPYTSVYVGGMMADGDTRIIHIRDHSIEEDAHLTWPRRSYSPGSFDDVGGGYTPDCSSNENLTSSEEDFSSGQSSHVSPSPTTYQMYREKSRSPSQHSFDSSSPPTPLSQKCLKQRAMVSEASIIRGQIWPSDGDSTTSSRTSHDNSLQGDLEAPYNETPPSYGYDLEHSEEHQPRHDPLSFTGSLESTLSVE\",\n",
    "    \"13616_0:00197d\":\"FERHWRAEFPGEPVPAMQLDSVPAMQEELERCKLNLKRLQQVLAEEKFKVIYLQTALAREKRGYDCGRWEGGGGEGDSCSSSGPTKEEEEGVEAEEVRAPTELEHPQPRPQPQPQPRPRSRPQPRPRTRPEPHKEPSSSDSGPGGLASVPRTKSPHYVNLEFPAWRGTPGEGGAVLSLTAAIHQQLQQPQLLLRPREEQEPELELETERALGNGRRPEGSAQSPSALVSESPGASPEEGEELSPAAPEDTEPEALVAAEEGGDSDHDFEVVDLNEKFVLGHLLLAPCRFLPREDTPEKPLRAGSPHRWLHLIGGKRHRRSRDLDQLEAEGKDGRCSPLPPEEAHFRGAREHLPPWRRKKLLGVPGRDSPGHSSPERGSDCSYNSSDHEDVSSADFSYGADDYDGEGNEEQKVPPEGSETMPYIDESPTMSPQLSARSQGSGDGISPTPPEGLGPVVEAG\",\n",
    "    \"336983_0:0004f6\":\"MEPLSHRGLPRLSWIDTLYSNFSYGTDEYDGEGNEEQKGPPEGSETMPYIDESPTMSPQLSARSQGGGDGVSPTPPEGLAPGVEAG\",\n",
    "}"
   ]
  },
  {
   "cell_type": "code",
   "execution_count": 13,
   "id": "9f65d6b8",
   "metadata": {},
   "outputs": [],
   "source": [
    "def get_aligner(\n",
    "    matrix_file_for_aligner: str|Path = matrices.MATRIX_DIR / \"grantham_similarity_normx100_aligner_compatible\", \n",
    ") -> Align.PairwiseAligner:\n",
    "    aligner = Align.PairwiseAligner()\n",
    "    aligner.open_gap_score = -100000\n",
    "    aligner.extend_gap_score = -100000\n",
    "    aligner.query_end_gap_score = 0.0\n",
    "    aligner.mode = \"global\"\n",
    "    aligner.substitution_matrix = Align.substitution_matrices.read(\n",
    "        matrix_file_for_aligner\n",
    "    )\n",
    "    # print('getting aligner')\n",
    "    return aligner\n",
    "\n",
    "\n",
    "def kmer_align_aligner(\n",
    "    kmer: str,\n",
    "    sequence: str,\n",
    "    aligner: Align.PairwiseAligner, \n",
    ") -> Align.Alignment:\n",
    "    alignment = aligner.align(Seq.Seq(sequence), Seq.Seq(kmer))[0]\n",
    "    return alignment\n",
    "\n",
    "\n",
    "def first_non_dash_index(s):\n",
    "    index = 0\n",
    "    while index < len(s) and s[index] == '-':\n",
    "        index += 1\n",
    "    return index\n",
    "\n",
    "\n",
    "def score_kmer_2_seq_no_gaps_v4(\n",
    "    kmer: str,\n",
    "    sequence: str,\n",
    "    aligner: Align.PairwiseAligner,\n",
    "):\n",
    "    if len(sequence) < len(kmer):\n",
    "        raise ValueError(\"The sequence is shorter than the kmer\")\n",
    "    aln = kmer_align_aligner(kmer, sequence, aligner=aligner)\n",
    "    # bseq, bpos = get_aas_aligned_2_query_nongap_positions(aln)\n",
    "    # bpos = get_position_of_query_start_in_target(aln)\n",
    "    s = first_non_dash_index(aln[1])\n",
    "    bseq = aln[0][s:s+len(kmer)]\n",
    "    bpos = s\n",
    "    return aln.score, bseq, bpos\n",
    "\n",
    "\n",
    "def make_empty_kmer_ortho_df(kmers: list[str], ortholog_ids: list[str]):\n",
    "    return pd.DataFrame(\n",
    "        index=kmers,\n",
    "        columns=ortholog_ids,\n",
    "    )"
   ]
  },
  {
   "cell_type": "code",
   "execution_count": 22,
   "id": "c8e51b40",
   "metadata": {},
   "outputs": [],
   "source": [
    "def run_pairwise_kmer_alignment(\n",
    "    seq_dict: dict[str, str],\n",
    "    reference_id: str,\n",
    "    k: int,\n",
    "    matrix_file_for_aligner: str|Path=matrices.ALIGNER_MATRIX_FILE_DICT[\"grantham_similarity\"],\n",
    "):\n",
    "    ortholog_idrs = copy.deepcopy(seq_dict)\n",
    "    ref_idr = ortholog_idrs.pop(reference_id)\n",
    "    # substitution_matrix_df = matrices.load_precomputed_matrix_df(scoring_matrix_name)\n",
    "    kmers = tools.gen_kmers(ref_idr, k)\n",
    "    kmers = list(set(kmers))\n",
    "    score_df = make_empty_kmer_ortho_df(kmers, list(ortholog_idrs.keys()))\n",
    "    subseq_df = make_empty_kmer_ortho_df(kmers, list(ortholog_idrs.keys()))\n",
    "    pos_df = make_empty_kmer_ortho_df(kmers, list(ortholog_idrs.keys()))\n",
    "    rbm_df = make_empty_kmer_ortho_df(kmers, list(ortholog_idrs.keys()))\n",
    "    aligner = get_aligner(matrix_file_for_aligner=matrix_file_for_aligner)\n",
    "    for kmer in kmers:\n",
    "        for ortholog_id, ortholog_idr in ortholog_idrs.items():\n",
    "            if len(ortholog_idr) < k:\n",
    "                continue\n",
    "            try:\n",
    "                best_score, best_subseq, best_pos = score_kmer_2_seq_no_gaps_v4(kmer, ortholog_idr, aligner)\n",
    "            except ValueError as e:\n",
    "                print(e)\n",
    "                continue\n",
    "            score_df.loc[kmer, ortholog_id] = best_score\n",
    "            subseq_df.loc[kmer, ortholog_id] = best_subseq\n",
    "            pos_df.loc[kmer, ortholog_id] = best_pos\n",
    "            try:\n",
    "                reci_best_score, reci_best_subseq, _= score_kmer_2_seq_no_gaps_v4(\n",
    "                    best_subseq,\n",
    "                    ref_idr,\n",
    "                    aligner,\n",
    "                )\n",
    "            except ValueError as e:\n",
    "                print(e)\n",
    "                continue\n",
    "            rbm_df.loc[kmer, ortholog_id] = (reci_best_subseq==kmer)\n",
    "    return score_df, subseq_df, pos_df, rbm_df"
   ]
  },
  {
   "cell_type": "code",
   "execution_count": 24,
   "id": "4f4ecb91",
   "metadata": {},
   "outputs": [],
   "source": [
    "score_df, subseq_df, pos_df, rbm_df = run_pairwise_kmer_alignment(seq_dict, reference_id, k)"
   ]
  },
  {
   "cell_type": "code",
   "execution_count": 25,
   "id": "01462cc5",
   "metadata": {},
   "outputs": [
    {
     "name": "stdout",
     "output_type": "stream",
     "text": [
      "903 ms ± 19.8 ms per loop (mean ± std. dev. of 7 runs, 1 loop each)\n"
     ]
    }
   ],
   "source": [
    "%timeit run_pairwise_kmer_alignment(seq_dict, reference_id, k)"
   ]
  },
  {
   "cell_type": "code",
   "execution_count": null,
   "id": "d3fd359e",
   "metadata": {},
   "outputs": [],
   "source": []
  },
  {
   "cell_type": "code",
   "execution_count": 28,
   "id": "1c3f3e60",
   "metadata": {},
   "outputs": [],
   "source": [
    "def score_alignment(seq1: str, seq2: str, subs_mat_df: pd.DataFrame) -> float:\n",
    "    assert len(seq1) == len(seq2)\n",
    "    score = 0\n",
    "    for s1, s2 in zip(seq1, seq2):\n",
    "        score += float(subs_mat_df.loc[s1, s2]) # type: ignore\n",
    "    return score\n",
    "\n",
    "\n",
    "def score_kmer_2_seq_no_gaps_old(\n",
    "    kmer: str,\n",
    "    sequence: str,\n",
    "    substitution_matrix_df: pd.DataFrame,\n",
    "):\n",
    "    '''\n",
    "    best_score = np.max(scores)\n",
    "    best_position = np.argmax(scores)\n",
    "    best_subseq = sequence[best_position : best_position + len(kmer)]\n",
    "    '''\n",
    "    if len(sequence) < len(kmer):\n",
    "        raise ValueError(\"The sequence is shorter than the kmer\")\n",
    "    scores = []\n",
    "    for i in range(len(sequence) - len(kmer) + 1):\n",
    "        subseq = sequence[i : i + len(kmer)]\n",
    "        # score = aln_tools.score_alignment(kmer, subseq, substitution_matrix_df)\n",
    "        score = score_alignment(kmer, subseq, substitution_matrix_df)\n",
    "        scores.append(score)\n",
    "    return scores\n",
    "\n",
    "\n",
    "def kmer_best_matches_2_ortho(\n",
    "    kmer: str,\n",
    "    sequence: str,\n",
    "    substitution_matrix_df: pd.DataFrame,\n",
    "):\n",
    "    scores = score_kmer_2_seq_no_gaps_old(kmer, sequence, substitution_matrix_df)\n",
    "    best_score = np.max(scores)\n",
    "    best_position = np.argmax(scores)\n",
    "    best_subseq = sequence[best_position : best_position + len(kmer)]\n",
    "    return best_score, best_subseq, best_position"
   ]
  },
  {
   "cell_type": "code",
   "execution_count": 39,
   "id": "eda8b577",
   "metadata": {},
   "outputs": [
    {
     "data": {
      "text/plain": [
       "array([[1, 2, 3],\n",
       "       [2, 3, 4],\n",
       "       [3, 4, 5],\n",
       "       [4, 5, 6],\n",
       "       [5, 6, 7],\n",
       "       [6, 7, 8],\n",
       "       [7, 8, 9]])"
      ]
     },
     "execution_count": 39,
     "metadata": {},
     "output_type": "execute_result"
    }
   ],
   "source": [
    "np.lib.stride_tricks.sliding_window_view(np.array([1, 2, 3, 4, 5, 6, 7, 8, 9]), window_shape=3)"
   ]
  },
  {
   "cell_type": "code",
   "execution_count": 27,
   "id": "9f7beb6c",
   "metadata": {},
   "outputs": [],
   "source": [
    "ortho_seq=\"FAEAWRAQFPDSEPPKMELRSLRDIEGELCSCKNSIRRLEVEVNKERFRMIYLQTLLAKEKKGYDRQRWGFRKSAQGGGGVAVPGPAGDEAGPDDDGDDPVGEVAAAAAAAAAALGGEMPGGGGGADGERPFPESPSHLRRHAADPDEGFEDTIASSRHRRAKAPDKSPLPPGLVIAPGKGAKGGEPGSPAAAGSPCKSPRVPGPPEPRARRHSSQTSEEAALCGGGGGGSRGSPGADKSSSPLQQQQQLLPPSYANVEFHAERGLVRLNEREVSDHISSLGSEAMRMERRRGGCGTASREPCVSPGRDPPQLRGPSGPGVSASSSSSSGRHHHHHHHQAASHVGYEADYEDAEPPGRFFAASPKQHPKRERPPWHVAEEATGLPESTALTDGDSTYGTGSREQLYPSSGRRQPGTGVPGLGGPPGGGGGGAGFVACKEERLSWPKQQRAHSPSSLEDAGGGYTPDCSSNDNLTSSEDELSSPGGRSGRGGGGGVGGGGAGGGVGMGLAGTGASASPTAGSSSYRLFRERENRSPSQNSQHSLDSSSPPTPHGHGTPAGLGGSGGGGGGGGRRAVRGKPSGGPGAKAVTPPGGGPDSPQRSPAGLGPKRGPPTRSRYGAPDDVFDSYPGESPFGVPSPGYVYDAERGDDGRPPPEGMPYIDDSPSSSPHAAARIRGARDAAAAAAATSAAALDAGKMGE\"\n",
    "kmer = \"SVGDIEQELERCKA\"\n",
    "substitution_matrix_df = matrices.load_precomputed_matrix_df('grantham_similarity_norm')"
   ]
  },
  {
   "cell_type": "code",
   "execution_count": 31,
   "id": "ccf74379",
   "metadata": {},
   "outputs": [
    {
     "name": "stdout",
     "output_type": "stream",
     "text": [
      "34.4 ms ± 48.4 µs per loop (mean ± std. dev. of 7 runs, 10 loops each)\n"
     ]
    }
   ],
   "source": [
    "%timeit score_kmer_2_seq_no_gaps_old(kmer, ortho_seq, substitution_matrix_df)"
   ]
  },
  {
   "cell_type": "code",
   "execution_count": 33,
   "id": "0117c924",
   "metadata": {},
   "outputs": [],
   "source": [
    "ortho_arr = np.array(list(ortho_seq))\n",
    "kmer_arr = np.array(list(kmer))"
   ]
  },
  {
   "cell_type": "code",
   "execution_count": 40,
   "id": "9207b5b3",
   "metadata": {},
   "outputs": [
    {
     "name": "stdout",
     "output_type": "stream",
     "text": [
      "[['F' 'A' 'E' ... 'S' 'E' 'P']\n",
      " ['A' 'E' 'A' ... 'E' 'P' 'P']\n",
      " ['E' 'A' 'W' ... 'P' 'P' 'K']\n",
      " ...\n",
      " ['A' 'A' 'A' ... 'G' 'K' 'M']\n",
      " ['A' 'A' 'T' ... 'K' 'M' 'G']\n",
      " ['A' 'T' 'S' ... 'M' 'G' 'E']]\n",
      "['S' 'V' 'G' 'D' 'I' 'E' 'Q' 'E' 'L' 'E' 'R' 'C' 'K' 'A']\n"
     ]
    }
   ],
   "source": [
    "ortho_arr_view = np.lib.stride_tricks.sliding_window_view(ortho_arr, len(kmer))\n",
    "print(ortho_arr_view)\n",
    "print(kmer_arr)"
   ]
  },
  {
   "cell_type": "code",
   "execution_count": null,
   "id": "0dac1219",
   "metadata": {},
   "outputs": [],
   "source": []
  },
  {
   "cell_type": "code",
   "execution_count": null,
   "id": "fb11d7bd",
   "metadata": {},
   "outputs": [],
   "source": [
    "def run_pairwise_kmer_alignment(\n",
    "    seq_dict: dict[str, str],\n",
    "    reference_id: str,\n",
    "    k: int,\n",
    "    matrix_file_for_aligner: str|Path=matrices.ALIGNER_MATRIX_FILE_DICT[\"grantham_similarity\"],\n",
    "):\n",
    "    ortholog_idrs = copy.deepcopy(seq_dict)\n",
    "    ref_idr = ortholog_idrs.pop(reference_id)\n",
    "    # substitution_matrix_df = matrices.load_precomputed_matrix_df(scoring_matrix_name)\n",
    "    kmers = tools.gen_kmers(ref_idr, k)\n",
    "    kmers = list(set(kmers))\n",
    "    score_df = make_empty_kmer_ortho_df(kmers, list(ortholog_idrs.keys()))\n",
    "    subseq_df = make_empty_kmer_ortho_df(kmers, list(ortholog_idrs.keys()))\n",
    "    pos_df = make_empty_kmer_ortho_df(kmers, list(ortholog_idrs.keys()))\n",
    "    rbm_df = make_empty_kmer_ortho_df(kmers, list(ortholog_idrs.keys()))\n",
    "    aligner = get_aligner(matrix_file_for_aligner=matrix_file_for_aligner)\n",
    "    for kmer in kmers:\n",
    "        for ortholog_id, ortholog_idr in ortholog_idrs.items():\n",
    "            if len(ortholog_idr) < k:\n",
    "                continue\n",
    "            try:\n",
    "                best_score, best_subseq, best_pos = score_kmer_2_seq_no_gaps_v4(kmer, ortholog_idr, aligner)\n",
    "            except ValueError as e:\n",
    "                print(e)\n",
    "                continue\n",
    "            score_df.loc[kmer, ortholog_id] = best_score\n",
    "            subseq_df.loc[kmer, ortholog_id] = best_subseq\n",
    "            pos_df.loc[kmer, ortholog_id] = best_pos\n",
    "            try:\n",
    "                reci_best_score, reci_best_subseq, _= score_kmer_2_seq_no_gaps_v4(\n",
    "                    best_subseq,\n",
    "                    ref_idr,\n",
    "                    aligner,\n",
    "                )\n",
    "            except ValueError as e:\n",
    "                print(e)\n",
    "                continue\n",
    "            rbm_df.loc[kmer, ortholog_id] = (reci_best_subseq==kmer)\n",
    "    return score_df, subseq_df, pos_df, rbm_df"
   ]
  },
  {
   "cell_type": "code",
   "execution_count": null,
   "id": "aa3c882a",
   "metadata": {},
   "outputs": [],
   "source": []
  },
  {
   "cell_type": "code",
   "execution_count": null,
   "id": "cae14548",
   "metadata": {},
   "outputs": [],
   "source": []
  },
  {
   "cell_type": "code",
   "execution_count": null,
   "id": "ecc47b8e",
   "metadata": {},
   "outputs": [],
   "source": []
  }
 ],
 "metadata": {
  "jupytext": {
   "cell_metadata_filter": "-all",
   "main_language": "python",
   "notebook_metadata_filter": "-all"
  },
  "kernelspec": {
   "display_name": "odb_conservation",
   "language": "python",
   "name": "python3"
  },
  "language_info": {
   "codemirror_mode": {
    "name": "ipython",
    "version": 3
   },
   "file_extension": ".py",
   "mimetype": "text/x-python",
   "name": "python",
   "nbconvert_exporter": "python",
   "pygments_lexer": "ipython3",
   "version": "3.12.1"
  }
 },
 "nbformat": 4,
 "nbformat_minor": 5
}
